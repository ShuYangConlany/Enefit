{
  "nbformat": 4,
  "nbformat_minor": 0,
  "metadata": {
    "colab": {
      "provenance": [],
      "machine_shape": "hm",
      "gpuType": "T4",
      "include_colab_link": true
    },
    "kernelspec": {
      "name": "python3",
      "display_name": "Python 3"
    },
    "language_info": {
      "name": "python"
    },
    "accelerator": "GPU",
    "widgets": {
      "application/vnd.jupyter.widget-state+json": {
        "b7fce535e17843c98dbe3decafaca8bf": {
          "model_module": "catboost-widget",
          "model_name": "CatboostWidgetModel",
          "model_module_version": "^1.0.0",
          "state": {
            "_dom_classes": [],
            "_model_module": "catboost-widget",
            "_model_module_version": "^1.0.0",
            "_model_name": "CatboostWidgetModel",
            "_view_count": null,
            "_view_module": "catboost-widget",
            "_view_module_version": "^1.0.0",
            "_view_name": "CatboostWidgetView",
            "data": {
              "catboost_info": {
                "path": "catboost_info",
                "name": "catboost_info",
                "content": {
                  "passed_iterations": 999,
                  "total_iterations": 1000,
                  "data": {
                    "iterations": [
                      {
                        "learn": [
                          825.5283891
                        ],
                        "iteration": 0,
                        "passed_time": 0.2963186217,
                        "remaining_time": 296.0223031,
                        "test": [
                          824.2064227
                        ]
                      },
                      {
                        "learn": [
                          750.0279614
                        ],
                        "iteration": 1,
                        "passed_time": 0.5276303592,
                        "remaining_time": 263.2875493,
                        "test": [
                          749.0941976
                        ]
                      },
                      {
                        "learn": [
                          682.7460371
                        ],
                        "iteration": 2,
                        "passed_time": 0.7559476389,
                        "remaining_time": 251.2265987,
                        "test": [
                          682.3065482
                        ]
                      },
                      {
                        "learn": [
                          622.1111559
                        ],
                        "iteration": 3,
                        "passed_time": 0.9887950384,
                        "remaining_time": 246.2099646,
                        "test": [
                          621.9002263
                        ]
                      },
                      {
                        "learn": [
                          567.6388319
                        ],
                        "iteration": 4,
                        "passed_time": 1.216647395,
                        "remaining_time": 242.1128316,
                        "test": [
                          567.9371872
                        ]
                      },
                      {
                        "learn": [
                          519.0439332
                        ],
                        "iteration": 5,
                        "passed_time": 1.44341385,
                        "remaining_time": 239.1255612,
                        "test": [
                          519.6915662
                        ]
                      },
                      {
                        "learn": [
                          475.6207501
                        ],
                        "iteration": 6,
                        "passed_time": 1.672996738,
                        "remaining_time": 237.3265373,
                        "test": [
                          476.7301692
                        ]
                      },
                      {
                        "learn": [
                          436.4772509
                        ],
                        "iteration": 7,
                        "passed_time": 1.900290895,
                        "remaining_time": 235.6360709,
                        "test": [
                          437.7051645
                        ]
                      },
                      {
                        "learn": [
                          402.1179193
                        ],
                        "iteration": 8,
                        "passed_time": 2.128152721,
                        "remaining_time": 234.3332607,
                        "test": [
                          403.357957
                        ]
                      },
                      {
                        "learn": [
                          371.4097564
                        ],
                        "iteration": 9,
                        "passed_time": 2.360405658,
                        "remaining_time": 233.6801601,
                        "test": [
                          372.9813047
                        ]
                      },
                      {
                        "learn": [
                          344.0872907
                        ],
                        "iteration": 10,
                        "passed_time": 2.587822266,
                        "remaining_time": 232.6687474,
                        "test": [
                          345.8847476
                        ]
                      },
                      {
                        "learn": [
                          319.9578717
                        ],
                        "iteration": 11,
                        "passed_time": 2.831243936,
                        "remaining_time": 233.1057508,
                        "test": [
                          321.675544
                        ]
                      },
                      {
                        "learn": [
                          297.7273448
                        ],
                        "iteration": 12,
                        "passed_time": 3.059624955,
                        "remaining_time": 232.2961408,
                        "test": [
                          299.5539463
                        ]
                      },
                      {
                        "learn": [
                          278.8058522
                        ],
                        "iteration": 13,
                        "passed_time": 3.301749739,
                        "remaining_time": 232.5375174,
                        "test": [
                          280.6016069
                        ]
                      },
                      {
                        "learn": [
                          261.9414381
                        ],
                        "iteration": 14,
                        "passed_time": 3.534281818,
                        "remaining_time": 232.084506,
                        "test": [
                          263.7749841
                        ]
                      },
                      {
                        "learn": [
                          246.5883689
                        ],
                        "iteration": 15,
                        "passed_time": 3.774763349,
                        "remaining_time": 232.147946,
                        "test": [
                          248.4587977
                        ]
                      },
                      {
                        "learn": [
                          233.000721
                        ],
                        "iteration": 16,
                        "passed_time": 4.012960031,
                        "remaining_time": 232.0435124,
                        "test": [
                          234.8509057
                        ]
                      },
                      {
                        "learn": [
                          221.3693015
                        ],
                        "iteration": 17,
                        "passed_time": 4.259699336,
                        "remaining_time": 232.3902638,
                        "test": [
                          223.1499202
                        ]
                      },
                      {
                        "learn": [
                          210.9365231
                        ],
                        "iteration": 18,
                        "passed_time": 4.499324444,
                        "remaining_time": 232.3072252,
                        "test": [
                          212.6779651
                        ]
                      },
                      {
                        "learn": [
                          202.3075924
                        ],
                        "iteration": 19,
                        "passed_time": 4.739617088,
                        "remaining_time": 232.2412373,
                        "test": [
                          203.9131727
                        ]
                      },
                      {
                        "learn": [
                          194.2894459
                        ],
                        "iteration": 20,
                        "passed_time": 4.986779234,
                        "remaining_time": 232.4788986,
                        "test": [
                          195.8994024
                        ]
                      },
                      {
                        "learn": [
                          187.5217834
                        ],
                        "iteration": 21,
                        "passed_time": 5.234449167,
                        "remaining_time": 232.6950584,
                        "test": [
                          189.1800477
                        ]
                      },
                      {
                        "learn": [
                          180.9663289
                        ],
                        "iteration": 22,
                        "passed_time": 5.501927136,
                        "remaining_time": 233.7122962,
                        "test": [
                          182.6455015
                        ]
                      },
                      {
                        "learn": [
                          175.7215651
                        ],
                        "iteration": 23,
                        "passed_time": 5.735721689,
                        "remaining_time": 233.252682,
                        "test": [
                          177.3167265
                        ]
                      },
                      {
                        "learn": [
                          170.7767937
                        ],
                        "iteration": 24,
                        "passed_time": 6.003760834,
                        "remaining_time": 234.1466725,
                        "test": [
                          172.2973982
                        ]
                      },
                      {
                        "learn": [
                          166.5731679
                        ],
                        "iteration": 25,
                        "passed_time": 6.239657949,
                        "remaining_time": 233.7471863,
                        "test": [
                          167.8944256
                        ]
                      },
                      {
                        "learn": [
                          162.9546399
                        ],
                        "iteration": 26,
                        "passed_time": 6.488296989,
                        "remaining_time": 233.8189989,
                        "test": [
                          164.2290051
                        ]
                      },
                      {
                        "learn": [
                          159.6570556
                        ],
                        "iteration": 27,
                        "passed_time": 6.732489838,
                        "remaining_time": 233.7135758,
                        "test": [
                          160.9424716
                        ]
                      },
                      {
                        "learn": [
                          156.8234023
                        ],
                        "iteration": 28,
                        "passed_time": 6.980715726,
                        "remaining_time": 233.7336196,
                        "test": [
                          158.075842
                        ]
                      },
                      {
                        "learn": [
                          154.5375455
                        ],
                        "iteration": 29,
                        "passed_time": 7.225246586,
                        "remaining_time": 233.6163063,
                        "test": [
                          155.7658044
                        ]
                      },
                      {
                        "learn": [
                          152.2642875
                        ],
                        "iteration": 30,
                        "passed_time": 7.483904024,
                        "remaining_time": 233.9323548,
                        "test": [
                          153.5092241
                        ]
                      },
                      {
                        "learn": [
                          150.3419907
                        ],
                        "iteration": 31,
                        "passed_time": 7.737718991,
                        "remaining_time": 234.0659995,
                        "test": [
                          151.4957037
                        ]
                      },
                      {
                        "learn": [
                          148.7202663
                        ],
                        "iteration": 32,
                        "passed_time": 7.976210575,
                        "remaining_time": 233.7271402,
                        "test": [
                          149.7851533
                        ]
                      },
                      {
                        "learn": [
                          147.2437038
                        ],
                        "iteration": 33,
                        "passed_time": 8.218097838,
                        "remaining_time": 233.4906621,
                        "test": [
                          148.2385634
                        ]
                      },
                      {
                        "learn": [
                          145.8783367
                        ],
                        "iteration": 34,
                        "passed_time": 8.454625212,
                        "remaining_time": 233.1060951,
                        "test": [
                          146.8346234
                        ]
                      },
                      {
                        "learn": [
                          144.495645
                        ],
                        "iteration": 35,
                        "passed_time": 8.706701211,
                        "remaining_time": 233.1461102,
                        "test": [
                          145.4815683
                        ]
                      },
                      {
                        "learn": [
                          143.1750509
                        ],
                        "iteration": 36,
                        "passed_time": 8.953604595,
                        "remaining_time": 233.0357088,
                        "test": [
                          144.094462
                        ]
                      },
                      {
                        "learn": [
                          141.8334166
                        ],
                        "iteration": 37,
                        "passed_time": 9.203459432,
                        "remaining_time": 232.9928414,
                        "test": [
                          142.7504112
                        ]
                      },
                      {
                        "learn": [
                          140.6342974
                        ],
                        "iteration": 38,
                        "passed_time": 9.447959702,
                        "remaining_time": 232.8074173,
                        "test": [
                          141.5497815
                        ]
                      },
                      {
                        "learn": [
                          139.6360859
                        ],
                        "iteration": 39,
                        "passed_time": 9.688293832,
                        "remaining_time": 232.519052,
                        "test": [
                          140.6541736
                        ]
                      },
                      {
                        "learn": [
                          138.6063433
                        ],
                        "iteration": 40,
                        "passed_time": 9.939714172,
                        "remaining_time": 232.4923388,
                        "test": [
                          139.6429028
                        ]
                      },
                      {
                        "learn": [
                          137.6778007
                        ],
                        "iteration": 41,
                        "passed_time": 10.18946525,
                        "remaining_time": 232.4168503,
                        "test": [
                          138.7330427
                        ]
                      },
                      {
                        "learn": [
                          136.4415466
                        ],
                        "iteration": 42,
                        "passed_time": 10.45271705,
                        "remaining_time": 232.6337259,
                        "test": [
                          137.4739789
                        ]
                      },
                      {
                        "learn": [
                          135.7028844
                        ],
                        "iteration": 43,
                        "passed_time": 10.69957237,
                        "remaining_time": 232.4725269,
                        "test": [
                          136.745323
                        ]
                      },
                      {
                        "learn": [
                          134.9902968
                        ],
                        "iteration": 44,
                        "passed_time": 10.95031982,
                        "remaining_time": 232.3901207,
                        "test": [
                          135.9961354
                        ]
                      },
                      {
                        "learn": [
                          134.3434233
                        ],
                        "iteration": 45,
                        "passed_time": 11.22189062,
                        "remaining_time": 232.7322534,
                        "test": [
                          135.3629287
                        ]
                      },
                      {
                        "learn": [
                          133.5420577
                        ],
                        "iteration": 46,
                        "passed_time": 11.47703862,
                        "remaining_time": 232.7152725,
                        "test": [
                          134.5948101
                        ]
                      },
                      {
                        "learn": [
                          132.6364775
                        ],
                        "iteration": 47,
                        "passed_time": 11.73506817,
                        "remaining_time": 232.7455186,
                        "test": [
                          133.6969586
                        ]
                      },
                      {
                        "learn": [
                          132.0543473
                        ],
                        "iteration": 48,
                        "passed_time": 11.98144946,
                        "remaining_time": 232.5379273,
                        "test": [
                          133.1643686
                        ]
                      },
                      {
                        "learn": [
                          131.4209345
                        ],
                        "iteration": 49,
                        "passed_time": 12.2264513,
                        "remaining_time": 232.3025747,
                        "test": [
                          132.5111804
                        ]
                      },
                      {
                        "learn": [
                          130.5143832
                        ],
                        "iteration": 50,
                        "passed_time": 12.49227786,
                        "remaining_time": 232.4543469,
                        "test": [
                          131.595273
                        ]
                      },
                      {
                        "learn": [
                          129.8975995
                        ],
                        "iteration": 51,
                        "passed_time": 12.73081098,
                        "remaining_time": 232.0924771,
                        "test": [
                          130.9906043
                        ]
                      },
                      {
                        "learn": [
                          129.3246099
                        ],
                        "iteration": 52,
                        "passed_time": 12.92563568,
                        "remaining_time": 230.9542828,
                        "test": [
                          130.367016
                        ]
                      },
                      {
                        "learn": [
                          128.8270356
                        ],
                        "iteration": 53,
                        "passed_time": 13.1518833,
                        "remaining_time": 230.4015112,
                        "test": [
                          129.891731
                        ]
                      },
                      {
                        "learn": [
                          128.3341935
                        ],
                        "iteration": 54,
                        "passed_time": 13.40457492,
                        "remaining_time": 230.314969,
                        "test": [
                          129.4509974
                        ]
                      },
                      {
                        "learn": [
                          127.7056491
                        ],
                        "iteration": 55,
                        "passed_time": 13.64565529,
                        "remaining_time": 230.0267606,
                        "test": [
                          128.8712293
                        ]
                      },
                      {
                        "learn": [
                          127.0792459
                        ],
                        "iteration": 56,
                        "passed_time": 13.90858807,
                        "remaining_time": 230.101729,
                        "test": [
                          128.332795
                        ]
                      },
                      {
                        "learn": [
                          126.3360672
                        ],
                        "iteration": 57,
                        "passed_time": 14.17980027,
                        "remaining_time": 230.2995147,
                        "test": [
                          127.7124225
                        ]
                      },
                      {
                        "learn": [
                          125.9189765
                        ],
                        "iteration": 58,
                        "passed_time": 14.44127681,
                        "remaining_time": 230.3261267,
                        "test": [
                          127.3259484
                        ]
                      },
                      {
                        "learn": [
                          125.4278184
                        ],
                        "iteration": 59,
                        "passed_time": 14.67512308,
                        "remaining_time": 229.9102616,
                        "test": [
                          126.8832549
                        ]
                      },
                      {
                        "learn": [
                          124.9731902
                        ],
                        "iteration": 60,
                        "passed_time": 14.92260952,
                        "remaining_time": 229.7103334,
                        "test": [
                          126.5126507
                        ]
                      },
                      {
                        "learn": [
                          124.4977352
                        ],
                        "iteration": 61,
                        "passed_time": 15.13532965,
                        "remaining_time": 228.9828904,
                        "test": [
                          126.0329949
                        ]
                      },
                      {
                        "learn": [
                          123.9455165
                        ],
                        "iteration": 62,
                        "passed_time": 15.36883788,
                        "remaining_time": 228.5809697,
                        "test": [
                          125.4838735
                        ]
                      },
                      {
                        "learn": [
                          123.5174325
                        ],
                        "iteration": 63,
                        "passed_time": 15.61434537,
                        "remaining_time": 228.359801,
                        "test": [
                          125.2010273
                        ]
                      },
                      {
                        "learn": [
                          122.9351961
                        ],
                        "iteration": 64,
                        "passed_time": 15.88997661,
                        "remaining_time": 228.5712019,
                        "test": [
                          124.6716627
                        ]
                      },
                      {
                        "learn": [
                          122.4183516
                        ],
                        "iteration": 65,
                        "passed_time": 16.12767839,
                        "remaining_time": 228.2310851,
                        "test": [
                          124.2343454
                        ]
                      },
                      {
                        "learn": [
                          122.1245788
                        ],
                        "iteration": 66,
                        "passed_time": 16.36599204,
                        "remaining_time": 227.9025459,
                        "test": [
                          123.9519224
                        ]
                      },
                      {
                        "learn": [
                          121.7412913
                        ],
                        "iteration": 67,
                        "passed_time": 16.62349473,
                        "remaining_time": 227.839663,
                        "test": [
                          123.5922378
                        ]
                      },
                      {
                        "learn": [
                          121.3543268
                        ],
                        "iteration": 68,
                        "passed_time": 16.88939652,
                        "remaining_time": 227.884466,
                        "test": [
                          123.2134954
                        ]
                      },
                      {
                        "learn": [
                          120.9214173
                        ],
                        "iteration": 69,
                        "passed_time": 17.15222563,
                        "remaining_time": 227.8795691,
                        "test": [
                          122.8057694
                        ]
                      },
                      {
                        "learn": [
                          120.6129681
                        ],
                        "iteration": 70,
                        "passed_time": 17.39362471,
                        "remaining_time": 227.587005,
                        "test": [
                          122.462916
                        ]
                      },
                      {
                        "learn": [
                          120.3235736
                        ],
                        "iteration": 71,
                        "passed_time": 17.62453472,
                        "remaining_time": 227.1606698,
                        "test": [
                          122.2031481
                        ]
                      },
                      {
                        "learn": [
                          119.9313263
                        ],
                        "iteration": 72,
                        "passed_time": 17.8798483,
                        "remaining_time": 227.0495805,
                        "test": [
                          121.9016724
                        ]
                      },
                      {
                        "learn": [
                          119.5197684
                        ],
                        "iteration": 73,
                        "passed_time": 18.18697533,
                        "remaining_time": 227.5829616,
                        "test": [
                          121.5546674
                        ]
                      },
                      {
                        "learn": [
                          119.0515075
                        ],
                        "iteration": 74,
                        "passed_time": 18.45273123,
                        "remaining_time": 227.5836852,
                        "test": [
                          121.1404579
                        ]
                      },
                      {
                        "learn": [
                          118.6326798
                        ],
                        "iteration": 75,
                        "passed_time": 18.70433143,
                        "remaining_time": 227.4052926,
                        "test": [
                          120.7653535
                        ]
                      },
                      {
                        "learn": [
                          118.0872172
                        ],
                        "iteration": 76,
                        "passed_time": 18.97227392,
                        "remaining_time": 227.4208939,
                        "test": [
                          120.3053886
                        ]
                      },
                      {
                        "learn": [
                          117.6539562
                        ],
                        "iteration": 77,
                        "passed_time": 19.24426917,
                        "remaining_time": 227.4771305,
                        "test": [
                          119.9922376
                        ]
                      },
                      {
                        "learn": [
                          117.3570761
                        ],
                        "iteration": 78,
                        "passed_time": 19.47206074,
                        "remaining_time": 227.0097208,
                        "test": [
                          119.743269
                        ]
                      },
                      {
                        "learn": [
                          117.0418508
                        ],
                        "iteration": 79,
                        "passed_time": 19.74022391,
                        "remaining_time": 227.012575,
                        "test": [
                          119.4542734
                        ]
                      },
                      {
                        "learn": [
                          116.6911766
                        ],
                        "iteration": 80,
                        "passed_time": 20.00082117,
                        "remaining_time": 226.922897,
                        "test": [
                          119.2426076
                        ]
                      },
                      {
                        "learn": [
                          116.2877245
                        ],
                        "iteration": 81,
                        "passed_time": 20.2676583,
                        "remaining_time": 226.8989064,
                        "test": [
                          118.9083396
                        ]
                      },
                      {
                        "learn": [
                          115.8399984
                        ],
                        "iteration": 82,
                        "passed_time": 20.52395434,
                        "remaining_time": 226.7526039,
                        "test": [
                          118.4858158
                        ]
                      },
                      {
                        "learn": [
                          115.5399119
                        ],
                        "iteration": 83,
                        "passed_time": 20.80317491,
                        "remaining_time": 226.8536693,
                        "test": [
                          118.207218
                        ]
                      },
                      {
                        "learn": [
                          115.2346689
                        ],
                        "iteration": 84,
                        "passed_time": 21.05622469,
                        "remaining_time": 226.6640658,
                        "test": [
                          117.9621914
                        ]
                      },
                      {
                        "learn": [
                          115.0018328
                        ],
                        "iteration": 85,
                        "passed_time": 21.29797809,
                        "remaining_time": 226.35293,
                        "test": [
                          117.8140879
                        ]
                      },
                      {
                        "learn": [
                          114.7263885
                        ],
                        "iteration": 86,
                        "passed_time": 21.54367825,
                        "remaining_time": 226.0848074,
                        "test": [
                          117.6184077
                        ]
                      },
                      {
                        "learn": [
                          114.2984039
                        ],
                        "iteration": 87,
                        "passed_time": 21.81729749,
                        "remaining_time": 226.1065376,
                        "test": [
                          117.2348257
                        ]
                      },
                      {
                        "learn": [
                          114.0458303
                        ],
                        "iteration": 88,
                        "passed_time": 22.07277885,
                        "remaining_time": 225.9359722,
                        "test": [
                          117.0164736
                        ]
                      },
                      {
                        "learn": [
                          113.7119909
                        ],
                        "iteration": 89,
                        "passed_time": 22.31704559,
                        "remaining_time": 225.6501276,
                        "test": [
                          116.6922472
                        ]
                      },
                      {
                        "learn": [
                          113.4257716
                        ],
                        "iteration": 90,
                        "passed_time": 22.5691098,
                        "remaining_time": 225.4430858,
                        "test": [
                          116.4665617
                        ]
                      },
                      {
                        "learn": [
                          113.1168812
                        ],
                        "iteration": 91,
                        "passed_time": 22.81988512,
                        "remaining_time": 225.2223444,
                        "test": [
                          116.2459919
                        ]
                      },
                      {
                        "learn": [
                          112.7333008
                        ],
                        "iteration": 92,
                        "passed_time": 23.06022891,
                        "remaining_time": 224.8992218,
                        "test": [
                          115.9068517
                        ]
                      },
                      {
                        "learn": [
                          112.5424854
                        ],
                        "iteration": 93,
                        "passed_time": 23.28698608,
                        "remaining_time": 224.4469084,
                        "test": [
                          115.7640075
                        ]
                      },
                      {
                        "learn": [
                          112.3279804
                        ],
                        "iteration": 94,
                        "passed_time": 23.52911516,
                        "remaining_time": 224.1457813,
                        "test": [
                          115.6024624
                        ]
                      },
                      {
                        "learn": [
                          112.1425661
                        ],
                        "iteration": 95,
                        "passed_time": 23.77880578,
                        "remaining_time": 223.9170878,
                        "test": [
                          115.4906115
                        ]
                      },
                      {
                        "learn": [
                          111.944824
                        ],
                        "iteration": 96,
                        "passed_time": 24.02021174,
                        "remaining_time": 223.6108371,
                        "test": [
                          115.3121746
                        ]
                      },
                      {
                        "learn": [
                          111.7160931
                        ],
                        "iteration": 97,
                        "passed_time": 24.28261012,
                        "remaining_time": 223.4991258,
                        "test": [
                          115.1471813
                        ]
                      },
                      {
                        "learn": [
                          111.4625099
                        ],
                        "iteration": 98,
                        "passed_time": 24.55042179,
                        "remaining_time": 223.4336367,
                        "test": [
                          114.9404121
                        ]
                      },
                      {
                        "learn": [
                          111.2321203
                        ],
                        "iteration": 99,
                        "passed_time": 24.80059115,
                        "remaining_time": 223.2053203,
                        "test": [
                          114.7947853
                        ]
                      },
                      {
                        "learn": [
                          110.914022
                        ],
                        "iteration": 100,
                        "passed_time": 25.09123236,
                        "remaining_time": 223.3368108,
                        "test": [
                          114.4832792
                        ]
                      },
                      {
                        "learn": [
                          110.6646697
                        ],
                        "iteration": 101,
                        "passed_time": 25.33720216,
                        "remaining_time": 223.0667405,
                        "test": [
                          114.3240294
                        ]
                      },
                      {
                        "learn": [
                          110.370192
                        ],
                        "iteration": 102,
                        "passed_time": 25.60224903,
                        "remaining_time": 222.9632755,
                        "test": [
                          114.0983618
                        ]
                      },
                      {
                        "learn": [
                          110.0500807
                        ],
                        "iteration": 103,
                        "passed_time": 25.82408569,
                        "remaining_time": 222.4844306,
                        "test": [
                          113.7740134
                        ]
                      },
                      {
                        "learn": [
                          109.7098343
                        ],
                        "iteration": 104,
                        "passed_time": 26.12614575,
                        "remaining_time": 222.6942899,
                        "test": [
                          113.3927063
                        ]
                      },
                      {
                        "learn": [
                          109.4885636
                        ],
                        "iteration": 105,
                        "passed_time": 26.3853569,
                        "remaining_time": 222.5331044,
                        "test": [
                          113.2570279
                        ]
                      },
                      {
                        "learn": [
                          109.3166257
                        ],
                        "iteration": 106,
                        "passed_time": 26.64143625,
                        "remaining_time": 222.3439492,
                        "test": [
                          113.1272526
                        ]
                      },
                      {
                        "learn": [
                          109.0578238
                        ],
                        "iteration": 107,
                        "passed_time": 26.86750866,
                        "remaining_time": 221.9057197,
                        "test": [
                          112.8837445
                        ]
                      },
                      {
                        "learn": [
                          108.8780824
                        ],
                        "iteration": 108,
                        "passed_time": 27.12667694,
                        "remaining_time": 221.7419189,
                        "test": [
                          112.7867023
                        ]
                      },
                      {
                        "learn": [
                          108.6485514
                        ],
                        "iteration": 109,
                        "passed_time": 27.40537681,
                        "remaining_time": 221.7344124,
                        "test": [
                          112.6005001
                        ]
                      },
                      {
                        "learn": [
                          108.4511457
                        ],
                        "iteration": 110,
                        "passed_time": 27.6426868,
                        "remaining_time": 221.3905276,
                        "test": [
                          112.492779
                        ]
                      },
                      {
                        "learn": [
                          108.2492968
                        ],
                        "iteration": 111,
                        "passed_time": 27.90266647,
                        "remaining_time": 221.2282842,
                        "test": [
                          112.3269134
                        ]
                      },
                      {
                        "learn": [
                          108.0121475
                        ],
                        "iteration": 112,
                        "passed_time": 28.15995208,
                        "remaining_time": 221.0431637,
                        "test": [
                          112.1493521
                        ]
                      },
                      {
                        "learn": [
                          107.7071267
                        ],
                        "iteration": 113,
                        "passed_time": 28.4210823,
                        "remaining_time": 220.8866572,
                        "test": [
                          111.8975952
                        ]
                      },
                      {
                        "learn": [
                          107.3487156
                        ],
                        "iteration": 114,
                        "passed_time": 28.69396415,
                        "remaining_time": 220.8187676,
                        "test": [
                          111.5305714
                        ]
                      },
                      {
                        "learn": [
                          107.1223488
                        ],
                        "iteration": 115,
                        "passed_time": 28.92501399,
                        "remaining_time": 220.4285549,
                        "test": [
                          111.3092281
                        ]
                      },
                      {
                        "learn": [
                          106.8356485
                        ],
                        "iteration": 116,
                        "passed_time": 29.17353761,
                        "remaining_time": 220.1729377,
                        "test": [
                          111.0676494
                        ]
                      },
                      {
                        "learn": [
                          106.6501463
                        ],
                        "iteration": 117,
                        "passed_time": 29.42621051,
                        "remaining_time": 219.9484549,
                        "test": [
                          110.9487292
                        ]
                      },
                      {
                        "learn": [
                          106.3071312
                        ],
                        "iteration": 118,
                        "passed_time": 29.6853284,
                        "remaining_time": 219.7712128,
                        "test": [
                          110.6709733
                        ]
                      },
                      {
                        "learn": [
                          106.0995897
                        ],
                        "iteration": 119,
                        "passed_time": 29.92684361,
                        "remaining_time": 219.4635198,
                        "test": [
                          110.5441801
                        ]
                      },
                      {
                        "learn": [
                          105.8515437
                        ],
                        "iteration": 120,
                        "passed_time": 30.1760303,
                        "remaining_time": 219.2126499,
                        "test": [
                          110.346453
                        ]
                      },
                      {
                        "learn": [
                          105.6545243
                        ],
                        "iteration": 121,
                        "passed_time": 30.44042891,
                        "remaining_time": 219.0712835,
                        "test": [
                          110.2366674
                        ]
                      },
                      {
                        "learn": [
                          105.4037102
                        ],
                        "iteration": 122,
                        "passed_time": 30.72346207,
                        "remaining_time": 219.0607824,
                        "test": [
                          110.0096136
                        ]
                      },
                      {
                        "learn": [
                          105.1240625
                        ],
                        "iteration": 123,
                        "passed_time": 30.98878003,
                        "remaining_time": 218.9207364,
                        "test": [
                          109.7855852
                        ]
                      },
                      {
                        "learn": [
                          104.7851181
                        ],
                        "iteration": 124,
                        "passed_time": 31.26321038,
                        "remaining_time": 218.8424726,
                        "test": [
                          109.4806453
                        ]
                      },
                      {
                        "learn": [
                          104.6543936
                        ],
                        "iteration": 125,
                        "passed_time": 31.49946397,
                        "remaining_time": 218.4962818,
                        "test": [
                          109.3874775
                        ]
                      },
                      {
                        "learn": [
                          104.5402987
                        ],
                        "iteration": 126,
                        "passed_time": 31.72603632,
                        "remaining_time": 218.0852733,
                        "test": [
                          109.2927042
                        ]
                      },
                      {
                        "learn": [
                          104.3542288
                        ],
                        "iteration": 127,
                        "passed_time": 31.9588141,
                        "remaining_time": 217.7194211,
                        "test": [
                          109.1198125
                        ]
                      },
                      {
                        "learn": [
                          104.049206
                        ],
                        "iteration": 128,
                        "passed_time": 32.23937673,
                        "remaining_time": 217.6782723,
                        "test": [
                          108.8395161
                        ]
                      },
                      {
                        "learn": [
                          103.8919089
                        ],
                        "iteration": 129,
                        "passed_time": 32.48215171,
                        "remaining_time": 217.3805538,
                        "test": [
                          108.6846356
                        ]
                      },
                      {
                        "learn": [
                          103.6554484
                        ],
                        "iteration": 130,
                        "passed_time": 32.74767077,
                        "remaining_time": 217.2345488,
                        "test": [
                          108.4524731
                        ]
                      },
                      {
                        "learn": [
                          103.4460506
                        ],
                        "iteration": 131,
                        "passed_time": 33.02523199,
                        "remaining_time": 217.1659194,
                        "test": [
                          108.28012
                        ]
                      },
                      {
                        "learn": [
                          103.2222518
                        ],
                        "iteration": 132,
                        "passed_time": 33.30795132,
                        "remaining_time": 217.1277729,
                        "test": [
                          108.1002529
                        ]
                      },
                      {
                        "learn": [
                          103.0398735
                        ],
                        "iteration": 133,
                        "passed_time": 33.55362072,
                        "remaining_time": 216.8465339,
                        "test": [
                          107.9440238
                        ]
                      },
                      {
                        "learn": [
                          102.8296909
                        ],
                        "iteration": 134,
                        "passed_time": 33.79580459,
                        "remaining_time": 216.5434887,
                        "test": [
                          107.7453391
                        ]
                      },
                      {
                        "learn": [
                          102.7157424
                        ],
                        "iteration": 135,
                        "passed_time": 34.06027323,
                        "remaining_time": 216.3829123,
                        "test": [
                          107.63412
                        ]
                      },
                      {
                        "learn": [
                          102.5336755
                        ],
                        "iteration": 136,
                        "passed_time": 34.31835726,
                        "remaining_time": 216.1806009,
                        "test": [
                          107.5104936
                        ]
                      },
                      {
                        "learn": [
                          102.3404223
                        ],
                        "iteration": 137,
                        "passed_time": 34.55885106,
                        "remaining_time": 215.8676059,
                        "test": [
                          107.3307311
                        ]
                      },
                      {
                        "learn": [
                          102.1209789
                        ],
                        "iteration": 138,
                        "passed_time": 34.83321099,
                        "remaining_time": 215.7654292,
                        "test": [
                          107.2045306
                        ]
                      },
                      {
                        "learn": [
                          101.8721227
                        ],
                        "iteration": 139,
                        "passed_time": 35.08690327,
                        "remaining_time": 215.5338344,
                        "test": [
                          106.9984926
                        ]
                      },
                      {
                        "learn": [
                          101.7209575
                        ],
                        "iteration": 140,
                        "passed_time": 35.34571887,
                        "remaining_time": 215.3331384,
                        "test": [
                          106.8636392
                        ]
                      },
                      {
                        "learn": [
                          101.5159531
                        ],
                        "iteration": 141,
                        "passed_time": 35.59035465,
                        "remaining_time": 215.0459457,
                        "test": [
                          106.7122083
                        ]
                      },
                      {
                        "learn": [
                          101.3429826
                        ],
                        "iteration": 142,
                        "passed_time": 35.87780156,
                        "remaining_time": 215.0159156,
                        "test": [
                          106.5204484
                        ]
                      },
                      {
                        "learn": [
                          101.1774545
                        ],
                        "iteration": 143,
                        "passed_time": 36.14658578,
                        "remaining_time": 214.871371,
                        "test": [
                          106.4044267
                        ]
                      },
                      {
                        "learn": [
                          100.968024
                        ],
                        "iteration": 144,
                        "passed_time": 36.40845956,
                        "remaining_time": 214.684365,
                        "test": [
                          106.2377172
                        ]
                      },
                      {
                        "learn": [
                          100.7083314
                        ],
                        "iteration": 145,
                        "passed_time": 36.67210349,
                        "remaining_time": 214.5066875,
                        "test": [
                          105.960145
                        ]
                      },
                      {
                        "learn": [
                          100.5688335
                        ],
                        "iteration": 146,
                        "passed_time": 36.90303423,
                        "remaining_time": 214.138015,
                        "test": [
                          105.8713968
                        ]
                      },
                      {
                        "learn": [
                          100.3722616
                        ],
                        "iteration": 147,
                        "passed_time": 37.14456517,
                        "remaining_time": 213.8322265,
                        "test": [
                          105.7080402
                        ]
                      },
                      {
                        "learn": [
                          100.1616985
                        ],
                        "iteration": 148,
                        "passed_time": 37.40587344,
                        "remaining_time": 213.640257,
                        "test": [
                          105.5247867
                        ]
                      },
                      {
                        "learn": [
                          99.90114131
                        ],
                        "iteration": 149,
                        "passed_time": 37.65565255,
                        "remaining_time": 213.3820311,
                        "test": [
                          105.2975946
                        ]
                      },
                      {
                        "learn": [
                          99.68992977
                        ],
                        "iteration": 150,
                        "passed_time": 37.89661182,
                        "remaining_time": 213.0743274,
                        "test": [
                          105.1392699
                        ]
                      },
                      {
                        "learn": [
                          99.5073518
                        ],
                        "iteration": 151,
                        "passed_time": 38.15653515,
                        "remaining_time": 212.8733014,
                        "test": [
                          105.0042755
                        ]
                      },
                      {
                        "learn": [
                          99.34787141
                        ],
                        "iteration": 152,
                        "passed_time": 38.40586664,
                        "remaining_time": 212.6128696,
                        "test": [
                          104.8770956
                        ]
                      },
                      {
                        "learn": [
                          99.18947088
                        ],
                        "iteration": 153,
                        "passed_time": 38.64051575,
                        "remaining_time": 212.2719242,
                        "test": [
                          104.721799
                        ]
                      },
                      {
                        "learn": [
                          99.06564796
                        ],
                        "iteration": 154,
                        "passed_time": 38.89125578,
                        "remaining_time": 212.0200718,
                        "test": [
                          104.6247632
                        ]
                      },
                      {
                        "learn": [
                          98.88425181
                        ],
                        "iteration": 155,
                        "passed_time": 39.13577369,
                        "remaining_time": 211.7345705,
                        "test": [
                          104.4814261
                        ]
                      },
                      {
                        "learn": [
                          98.74090848
                        ],
                        "iteration": 156,
                        "passed_time": 39.36380397,
                        "remaining_time": 211.3610621,
                        "test": [
                          104.3629432
                        ]
                      },
                      {
                        "learn": [
                          98.55620889
                        ],
                        "iteration": 157,
                        "passed_time": 39.63110861,
                        "remaining_time": 211.1986927,
                        "test": [
                          104.2399697
                        ]
                      },
                      {
                        "learn": [
                          98.30519263
                        ],
                        "iteration": 158,
                        "passed_time": 39.89268041,
                        "remaining_time": 211.0046806,
                        "test": [
                          104.0254754
                        ]
                      },
                      {
                        "learn": [
                          98.09781461
                        ],
                        "iteration": 159,
                        "passed_time": 40.13557748,
                        "remaining_time": 210.7117818,
                        "test": [
                          103.8879166
                        ]
                      },
                      {
                        "learn": [
                          98.00112811
                        ],
                        "iteration": 160,
                        "passed_time": 40.37173537,
                        "remaining_time": 210.3843849,
                        "test": [
                          103.8144721
                        ]
                      },
                      {
                        "learn": [
                          97.84949497
                        ],
                        "iteration": 161,
                        "passed_time": 40.63769777,
                        "remaining_time": 210.2122885,
                        "test": [
                          103.6698618
                        ]
                      },
                      {
                        "learn": [
                          97.71388575
                        ],
                        "iteration": 162,
                        "passed_time": 40.88123179,
                        "remaining_time": 209.9238712,
                        "test": [
                          103.6034003
                        ]
                      },
                      {
                        "learn": [
                          97.45756035
                        ],
                        "iteration": 163,
                        "passed_time": 41.15154379,
                        "remaining_time": 209.7725037,
                        "test": [
                          103.3817334
                        ]
                      },
                      {
                        "learn": [
                          97.24737054
                        ],
                        "iteration": 164,
                        "passed_time": 41.40012819,
                        "remaining_time": 209.5097396,
                        "test": [
                          103.2024544
                        ]
                      },
                      {
                        "learn": [
                          97.09574899
                        ],
                        "iteration": 165,
                        "passed_time": 41.67150024,
                        "remaining_time": 209.3616338,
                        "test": [
                          103.0630342
                        ]
                      },
                      {
                        "learn": [
                          96.92672327
                        ],
                        "iteration": 166,
                        "passed_time": 41.93415023,
                        "remaining_time": 209.1685458,
                        "test": [
                          102.9285483
                        ]
                      },
                      {
                        "learn": [
                          96.79714295
                        ],
                        "iteration": 167,
                        "passed_time": 42.17261366,
                        "remaining_time": 208.8548486,
                        "test": [
                          102.8172723
                        ]
                      },
                      {
                        "learn": [
                          96.55620411
                        ],
                        "iteration": 168,
                        "passed_time": 42.46496098,
                        "remaining_time": 208.8069975,
                        "test": [
                          102.6115998
                        ]
                      },
                      {
                        "learn": [
                          96.42131807
                        ],
                        "iteration": 169,
                        "passed_time": 42.70954565,
                        "remaining_time": 208.5230758,
                        "test": [
                          102.4874438
                        ]
                      },
                      {
                        "learn": [
                          96.20081226
                        ],
                        "iteration": 170,
                        "passed_time": 42.98278333,
                        "remaining_time": 208.3785227,
                        "test": [
                          102.3226174
                        ]
                      },
                      {
                        "learn": [
                          96.05040419
                        ],
                        "iteration": 171,
                        "passed_time": 43.2108404,
                        "remaining_time": 208.0149759,
                        "test": [
                          102.2049391
                        ]
                      },
                      {
                        "learn": [
                          95.85083828
                        ],
                        "iteration": 172,
                        "passed_time": 43.45115883,
                        "remaining_time": 207.711609,
                        "test": [
                          102.0844974
                        ]
                      },
                      {
                        "learn": [
                          95.64383439
                        ],
                        "iteration": 173,
                        "passed_time": 43.72585471,
                        "remaining_time": 207.5721609,
                        "test": [
                          101.9072832
                        ]
                      },
                      {
                        "learn": [
                          95.50016615
                        ],
                        "iteration": 174,
                        "passed_time": 43.95904736,
                        "remaining_time": 207.235509,
                        "test": [
                          101.7783487
                        ]
                      },
                      {
                        "learn": [
                          95.33782078
                        ],
                        "iteration": 175,
                        "passed_time": 44.22151811,
                        "remaining_time": 207.0371075,
                        "test": [
                          101.6890847
                        ]
                      },
                      {
                        "learn": [
                          95.19060614
                        ],
                        "iteration": 176,
                        "passed_time": 44.4742025,
                        "remaining_time": 206.7924783,
                        "test": [
                          101.5763822
                        ]
                      },
                      {
                        "learn": [
                          94.96215742
                        ],
                        "iteration": 177,
                        "passed_time": 44.78558527,
                        "remaining_time": 206.8188263,
                        "test": [
                          101.3514678
                        ]
                      },
                      {
                        "learn": [
                          94.77581827
                        ],
                        "iteration": 178,
                        "passed_time": 45.0345803,
                        "remaining_time": 206.5552538,
                        "test": [
                          101.2155693
                        ]
                      },
                      {
                        "learn": [
                          94.64279388
                        ],
                        "iteration": 179,
                        "passed_time": 45.26097735,
                        "remaining_time": 206.1888968,
                        "test": [
                          101.1305212
                        ]
                      },
                      {
                        "learn": [
                          94.47569957
                        ],
                        "iteration": 180,
                        "passed_time": 45.54732393,
                        "remaining_time": 206.0953497,
                        "test": [
                          101.0028808
                        ]
                      },
                      {
                        "learn": [
                          94.37022203
                        ],
                        "iteration": 181,
                        "passed_time": 45.79734428,
                        "remaining_time": 205.8364155,
                        "test": [
                          100.9478882
                        ]
                      },
                      {
                        "learn": [
                          94.17402511
                        ],
                        "iteration": 182,
                        "passed_time": 46.03549439,
                        "remaining_time": 205.5245842,
                        "test": [
                          100.7607042
                        ]
                      },
                      {
                        "learn": [
                          94.04976216
                        ],
                        "iteration": 183,
                        "passed_time": 46.28017708,
                        "remaining_time": 205.2425244,
                        "test": [
                          100.6995558
                        ]
                      },
                      {
                        "learn": [
                          93.92867022
                        ],
                        "iteration": 184,
                        "passed_time": 46.53831353,
                        "remaining_time": 205.020138,
                        "test": [
                          100.597285
                        ]
                      },
                      {
                        "learn": [
                          93.72190035
                        ],
                        "iteration": 185,
                        "passed_time": 46.80677837,
                        "remaining_time": 204.8425677,
                        "test": [
                          100.4647788
                        ]
                      },
                      {
                        "learn": [
                          93.65998215
                        ],
                        "iteration": 186,
                        "passed_time": 47.0501593,
                        "remaining_time": 204.5549707,
                        "test": [
                          100.4264706
                        ]
                      },
                      {
                        "learn": [
                          93.55414757
                        ],
                        "iteration": 187,
                        "passed_time": 47.31969398,
                        "remaining_time": 204.3808059,
                        "test": [
                          100.3343131
                        ]
                      },
                      {
                        "learn": [
                          93.44400918
                        ],
                        "iteration": 188,
                        "passed_time": 47.58319124,
                        "remaining_time": 204.1797254,
                        "test": [
                          100.2782962
                        ]
                      },
                      {
                        "learn": [
                          93.17907241
                        ],
                        "iteration": 189,
                        "passed_time": 47.86310614,
                        "remaining_time": 204.0479788,
                        "test": [
                          100.0494876
                        ]
                      },
                      {
                        "learn": [
                          93.06594163
                        ],
                        "iteration": 190,
                        "passed_time": 48.10130667,
                        "remaining_time": 203.7379953,
                        "test": [
                          99.97543078
                        ]
                      },
                      {
                        "learn": [
                          92.99046284
                        ],
                        "iteration": 191,
                        "passed_time": 48.33892082,
                        "remaining_time": 203.4262918,
                        "test": [
                          99.93150279
                        ]
                      },
                      {
                        "learn": [
                          92.90309015
                        ],
                        "iteration": 192,
                        "passed_time": 48.5933186,
                        "remaining_time": 203.1855342,
                        "test": [
                          99.86525864
                        ]
                      },
                      {
                        "learn": [
                          92.83205958
                        ],
                        "iteration": 193,
                        "passed_time": 48.8306043,
                        "remaining_time": 202.8735416,
                        "test": [
                          99.83369549
                        ]
                      },
                      {
                        "learn": [
                          92.71866613
                        ],
                        "iteration": 194,
                        "passed_time": 49.08947133,
                        "remaining_time": 202.6514073,
                        "test": [
                          99.76104867
                        ]
                      },
                      {
                        "learn": [
                          92.53922012
                        ],
                        "iteration": 195,
                        "passed_time": 49.29340181,
                        "remaining_time": 202.2035462,
                        "test": [
                          99.58717294
                        ]
                      },
                      {
                        "learn": [
                          92.44358697
                        ],
                        "iteration": 196,
                        "passed_time": 49.55524097,
                        "remaining_time": 201.9942056,
                        "test": [
                          99.52584196
                        ]
                      },
                      {
                        "learn": [
                          92.26816646
                        ],
                        "iteration": 197,
                        "passed_time": 49.80035597,
                        "remaining_time": 201.7165934,
                        "test": [
                          99.4162656
                        ]
                      },
                      {
                        "learn": [
                          92.14209037
                        ],
                        "iteration": 198,
                        "passed_time": 50.06431991,
                        "remaining_time": 201.5151771,
                        "test": [
                          99.32516291
                        ]
                      },
                      {
                        "learn": [
                          92.03857229
                        ],
                        "iteration": 199,
                        "passed_time": 50.33237813,
                        "remaining_time": 201.3295125,
                        "test": [
                          99.23727417
                        ]
                      },
                      {
                        "learn": [
                          91.88073321
                        ],
                        "iteration": 200,
                        "passed_time": 50.59512025,
                        "remaining_time": 201.1218959,
                        "test": [
                          99.13066076
                        ]
                      },
                      {
                        "learn": [
                          91.77571107
                        ],
                        "iteration": 201,
                        "passed_time": 50.82982487,
                        "remaining_time": 200.8029715,
                        "test": [
                          99.06225824
                        ]
                      },
                      {
                        "learn": [
                          91.54126558
                        ],
                        "iteration": 202,
                        "passed_time": 51.13165664,
                        "remaining_time": 200.7484253,
                        "test": [
                          98.81560812
                        ]
                      },
                      {
                        "learn": [
                          91.43693898
                        ],
                        "iteration": 203,
                        "passed_time": 51.40908197,
                        "remaining_time": 200.5962218,
                        "test": [
                          98.77501666
                        ]
                      },
                      {
                        "learn": [
                          91.30603753
                        ],
                        "iteration": 204,
                        "passed_time": 51.68991147,
                        "remaining_time": 200.4559981,
                        "test": [
                          98.66862686
                        ]
                      },
                      {
                        "learn": [
                          91.14566013
                        ],
                        "iteration": 205,
                        "passed_time": 51.94170561,
                        "remaining_time": 200.2024964,
                        "test": [
                          98.53966384
                        ]
                      },
                      {
                        "learn": [
                          91.04121107
                        ],
                        "iteration": 206,
                        "passed_time": 52.178389,
                        "remaining_time": 199.8911231,
                        "test": [
                          98.4814606
                        ]
                      },
                      {
                        "learn": [
                          90.89910086
                        ],
                        "iteration": 207,
                        "passed_time": 52.39772371,
                        "remaining_time": 199.5144095,
                        "test": [
                          98.3528873
                        ]
                      },
                      {
                        "learn": [
                          90.79354047
                        ],
                        "iteration": 208,
                        "passed_time": 52.63884576,
                        "remaining_time": 199.2216603,
                        "test": [
                          98.27086007
                        ]
                      },
                      {
                        "learn": [
                          90.63547139
                        ],
                        "iteration": 209,
                        "passed_time": 52.89867734,
                        "remaining_time": 198.9997862,
                        "test": [
                          98.14296399
                        ]
                      },
                      {
                        "learn": [
                          90.50974857
                        ],
                        "iteration": 210,
                        "passed_time": 53.17250982,
                        "remaining_time": 198.8299064,
                        "test": [
                          98.08679154
                        ]
                      },
                      {
                        "learn": [
                          90.33170298
                        ],
                        "iteration": 211,
                        "passed_time": 53.4551058,
                        "remaining_time": 198.6916197,
                        "test": [
                          97.9263285
                        ]
                      },
                      {
                        "learn": [
                          90.23824927
                        ],
                        "iteration": 212,
                        "passed_time": 53.7133873,
                        "remaining_time": 198.4621399,
                        "test": [
                          97.83679749
                        ]
                      },
                      {
                        "learn": [
                          90.15813832
                        ],
                        "iteration": 213,
                        "passed_time": 53.96511229,
                        "remaining_time": 198.2083096,
                        "test": [
                          97.77705379
                        ]
                      },
                      {
                        "learn": [
                          90.05875853
                        ],
                        "iteration": 214,
                        "passed_time": 54.21856652,
                        "remaining_time": 197.9608126,
                        "test": [
                          97.70992665
                        ]
                      },
                      {
                        "learn": [
                          89.89664627
                        ],
                        "iteration": 215,
                        "passed_time": 54.45825005,
                        "remaining_time": 197.6632779,
                        "test": [
                          97.60835349
                        ]
                      },
                      {
                        "learn": [
                          89.77288757
                        ],
                        "iteration": 216,
                        "passed_time": 54.71229054,
                        "remaining_time": 197.4180806,
                        "test": [
                          97.52358339
                        ]
                      },
                      {
                        "learn": [
                          89.64336228
                        ],
                        "iteration": 217,
                        "passed_time": 54.97328237,
                        "remaining_time": 197.1977377,
                        "test": [
                          97.43446336
                        ]
                      },
                      {
                        "learn": [
                          89.54173617
                        ],
                        "iteration": 218,
                        "passed_time": 55.2097848,
                        "remaining_time": 196.8896892,
                        "test": [
                          97.34809888
                        ]
                      },
                      {
                        "learn": [
                          89.45877556
                        ],
                        "iteration": 219,
                        "passed_time": 55.47904593,
                        "remaining_time": 196.6984356,
                        "test": [
                          97.29711876
                        ]
                      },
                      {
                        "learn": [
                          89.30920895
                        ],
                        "iteration": 220,
                        "passed_time": 55.74336208,
                        "remaining_time": 196.4890455,
                        "test": [
                          97.1569136
                        ]
                      },
                      {
                        "learn": [
                          89.23291202
                        ],
                        "iteration": 221,
                        "passed_time": 55.99508559,
                        "remaining_time": 196.2350297,
                        "test": [
                          97.10195699
                        ]
                      },
                      {
                        "learn": [
                          89.06404901
                        ],
                        "iteration": 222,
                        "passed_time": 56.24429784,
                        "remaining_time": 195.9722844,
                        "test": [
                          96.9534375
                        ]
                      },
                      {
                        "learn": [
                          88.95057549
                        ],
                        "iteration": 223,
                        "passed_time": 56.47686346,
                        "remaining_time": 195.6519913,
                        "test": [
                          96.88476115
                        ]
                      },
                      {
                        "learn": [
                          88.85114052
                        ],
                        "iteration": 224,
                        "passed_time": 56.72968409,
                        "remaining_time": 195.4022452,
                        "test": [
                          96.8409243
                        ]
                      },
                      {
                        "learn": [
                          88.65891764
                        ],
                        "iteration": 225,
                        "passed_time": 57.01343575,
                        "remaining_time": 195.2584038,
                        "test": [
                          96.66578816
                        ]
                      },
                      {
                        "learn": [
                          88.56797007
                        ],
                        "iteration": 226,
                        "passed_time": 57.24387058,
                        "remaining_time": 194.9317707,
                        "test": [
                          96.61055874
                        ]
                      },
                      {
                        "learn": [
                          88.49779907
                        ],
                        "iteration": 227,
                        "passed_time": 57.49364579,
                        "remaining_time": 194.6714673,
                        "test": [
                          96.5480069
                        ]
                      },
                      {
                        "learn": [
                          88.46047748
                        ],
                        "iteration": 228,
                        "passed_time": 57.71823794,
                        "remaining_time": 194.3264692,
                        "test": [
                          96.52226128
                        ]
                      },
                      {
                        "learn": [
                          88.39375107
                        ],
                        "iteration": 229,
                        "passed_time": 57.9634742,
                        "remaining_time": 194.051631,
                        "test": [
                          96.47545617
                        ]
                      },
                      {
                        "learn": [
                          88.3140997
                        ],
                        "iteration": 230,
                        "passed_time": 58.20297937,
                        "remaining_time": 193.7579703,
                        "test": [
                          96.41290218
                        ]
                      },
                      {
                        "learn": [
                          88.18882131
                        ],
                        "iteration": 231,
                        "passed_time": 58.45892059,
                        "remaining_time": 193.5191854,
                        "test": [
                          96.31780329
                        ]
                      },
                      {
                        "learn": [
                          88.08125481
                        ],
                        "iteration": 232,
                        "passed_time": 58.71452796,
                        "remaining_time": 193.2791543,
                        "test": [
                          96.23164923
                        ]
                      },
                      {
                        "learn": [
                          87.99238769
                        ],
                        "iteration": 233,
                        "passed_time": 58.94880606,
                        "remaining_time": 192.9691686,
                        "test": [
                          96.17469345
                        ]
                      },
                      {
                        "learn": [
                          87.79163914
                        ],
                        "iteration": 234,
                        "passed_time": 59.18927145,
                        "remaining_time": 192.6799688,
                        "test": [
                          96.01709495
                        ]
                      },
                      {
                        "learn": [
                          87.66419985
                        ],
                        "iteration": 235,
                        "passed_time": 59.452794,
                        "remaining_time": 192.4658246,
                        "test": [
                          95.91810943
                        ]
                      },
                      {
                        "learn": [
                          87.56186283
                        ],
                        "iteration": 236,
                        "passed_time": 59.72069045,
                        "remaining_time": 192.2653452,
                        "test": [
                          95.84989214
                        ]
                      },
                      {
                        "learn": [
                          87.44444566
                        ],
                        "iteration": 237,
                        "passed_time": 60.01434795,
                        "remaining_time": 192.1467779,
                        "test": [
                          95.7516279
                        ]
                      },
                      {
                        "learn": [
                          87.38731079
                        ],
                        "iteration": 238,
                        "passed_time": 60.25062094,
                        "remaining_time": 191.8440273,
                        "test": [
                          95.71009148
                        ]
                      },
                      {
                        "learn": [
                          87.25468763
                        ],
                        "iteration": 239,
                        "passed_time": 60.49052486,
                        "remaining_time": 191.5533287,
                        "test": [
                          95.60488462
                        ]
                      },
                      {
                        "learn": [
                          87.14586987
                        ],
                        "iteration": 240,
                        "passed_time": 60.77309628,
                        "remaining_time": 191.3974277,
                        "test": [
                          95.52006605
                        ]
                      },
                      {
                        "learn": [
                          87.0531194
                        ],
                        "iteration": 241,
                        "passed_time": 61.02356798,
                        "remaining_time": 191.1399361,
                        "test": [
                          95.46242995
                        ]
                      },
                      {
                        "learn": [
                          86.91425502
                        ],
                        "iteration": 242,
                        "passed_time": 61.29655245,
                        "remaining_time": 190.9526346,
                        "test": [
                          95.36276894
                        ]
                      },
                      {
                        "learn": [
                          86.82370406
                        ],
                        "iteration": 243,
                        "passed_time": 61.54331012,
                        "remaining_time": 190.6833707,
                        "test": [
                          95.3121608
                        ]
                      },
                      {
                        "learn": [
                          86.74712183
                        ],
                        "iteration": 244,
                        "passed_time": 61.79210212,
                        "remaining_time": 190.4205596,
                        "test": [
                          95.24038661
                        ]
                      },
                      {
                        "learn": [
                          86.65593883
                        ],
                        "iteration": 245,
                        "passed_time": 62.06846834,
                        "remaining_time": 190.2423786,
                        "test": [
                          95.18980667
                        ]
                      },
                      {
                        "learn": [
                          86.57612438
                        ],
                        "iteration": 246,
                        "passed_time": 62.30420987,
                        "remaining_time": 189.9395548,
                        "test": [
                          95.13018389
                        ]
                      },
                      {
                        "learn": [
                          86.51189212
                        ],
                        "iteration": 247,
                        "passed_time": 62.55588358,
                        "remaining_time": 189.6855825,
                        "test": [
                          95.06694818
                        ]
                      },
                      {
                        "learn": [
                          86.41563952
                        ],
                        "iteration": 248,
                        "passed_time": 62.79665905,
                        "remaining_time": 189.3987588,
                        "test": [
                          94.99204791
                        ]
                      },
                      {
                        "learn": [
                          86.29853305
                        ],
                        "iteration": 249,
                        "passed_time": 63.07683069,
                        "remaining_time": 189.2304921,
                        "test": [
                          94.89807464
                        ]
                      },
                      {
                        "learn": [
                          86.23564943
                        ],
                        "iteration": 250,
                        "passed_time": 63.32280764,
                        "remaining_time": 188.9592945,
                        "test": [
                          94.85066864
                        ]
                      },
                      {
                        "learn": [
                          86.12865883
                        ],
                        "iteration": 251,
                        "passed_time": 63.57181046,
                        "remaining_time": 188.6972787,
                        "test": [
                          94.78242578
                        ]
                      },
                      {
                        "learn": [
                          85.9926786
                        ],
                        "iteration": 252,
                        "passed_time": 63.83471148,
                        "remaining_time": 188.4764011,
                        "test": [
                          94.67368283
                        ]
                      },
                      {
                        "learn": [
                          85.9284309
                        ],
                        "iteration": 253,
                        "passed_time": 64.07515193,
                        "remaining_time": 188.1892257,
                        "test": [
                          94.64644909
                        ]
                      },
                      {
                        "learn": [
                          85.86563074
                        ],
                        "iteration": 254,
                        "passed_time": 64.30927335,
                        "remaining_time": 187.8839555,
                        "test": [
                          94.60701496
                        ]
                      },
                      {
                        "learn": [
                          85.75549779
                        ],
                        "iteration": 255,
                        "passed_time": 64.58995384,
                        "remaining_time": 187.7145534,
                        "test": [
                          94.54842988
                        ]
                      },
                      {
                        "learn": [
                          85.64308691
                        ],
                        "iteration": 256,
                        "passed_time": 64.85292904,
                        "remaining_time": 187.4930984,
                        "test": [
                          94.4884393
                        ]
                      },
                      {
                        "learn": [
                          85.57990693
                        ],
                        "iteration": 257,
                        "passed_time": 65.10487508,
                        "remaining_time": 187.239602,
                        "test": [
                          94.4548176
                        ]
                      },
                      {
                        "learn": [
                          85.4728115
                        ],
                        "iteration": 258,
                        "passed_time": 65.35803184,
                        "remaining_time": 186.9895814,
                        "test": [
                          94.38479354
                        ]
                      },
                      {
                        "learn": [
                          85.35151003
                        ],
                        "iteration": 259,
                        "passed_time": 65.61669887,
                        "remaining_time": 186.7552199,
                        "test": [
                          94.30105313
                        ]
                      },
                      {
                        "learn": [
                          85.27774426
                        ],
                        "iteration": 260,
                        "passed_time": 65.86476166,
                        "remaining_time": 186.490647,
                        "test": [
                          94.23863053
                        ]
                      },
                      {
                        "learn": [
                          85.17590535
                        ],
                        "iteration": 261,
                        "passed_time": 66.11663522,
                        "remaining_time": 186.2369343,
                        "test": [
                          94.18538156
                        ]
                      },
                      {
                        "learn": [
                          85.07226354
                        ],
                        "iteration": 262,
                        "passed_time": 66.39851377,
                        "remaining_time": 186.067318,
                        "test": [
                          94.09162713
                        ]
                      },
                      {
                        "learn": [
                          84.93586137
                        ],
                        "iteration": 263,
                        "passed_time": 66.63985944,
                        "remaining_time": 185.7838506,
                        "test": [
                          93.98002338
                        ]
                      },
                      {
                        "learn": [
                          84.82165401
                        ],
                        "iteration": 264,
                        "passed_time": 66.91350445,
                        "remaining_time": 185.5902859,
                        "test": [
                          93.88132526
                        ]
                      },
                      {
                        "learn": [
                          84.75388853
                        ],
                        "iteration": 265,
                        "passed_time": 67.15684532,
                        "remaining_time": 185.312498,
                        "test": [
                          93.83084405
                        ]
                      },
                      {
                        "learn": [
                          84.62436263
                        ],
                        "iteration": 266,
                        "passed_time": 67.41936166,
                        "remaining_time": 185.0876108,
                        "test": [
                          93.72344651
                        ]
                      },
                      {
                        "learn": [
                          84.51466069
                        ],
                        "iteration": 267,
                        "passed_time": 67.70663676,
                        "remaining_time": 184.9300676,
                        "test": [
                          93.66491477
                        ]
                      },
                      {
                        "learn": [
                          84.42310222
                        ],
                        "iteration": 268,
                        "passed_time": 67.9704213,
                        "remaining_time": 184.7077248,
                        "test": [
                          93.61426943
                        ]
                      },
                      {
                        "learn": [
                          84.33118489
                        ],
                        "iteration": 269,
                        "passed_time": 68.25286806,
                        "remaining_time": 184.5355322,
                        "test": [
                          93.54728382
                        ]
                      },
                      {
                        "learn": [
                          84.16785497
                        ],
                        "iteration": 270,
                        "passed_time": 68.51267113,
                        "remaining_time": 184.3016135,
                        "test": [
                          93.42716634
                        ]
                      },
                      {
                        "learn": [
                          84.10327269
                        ],
                        "iteration": 271,
                        "passed_time": 68.76139551,
                        "remaining_time": 184.0378527,
                        "test": [
                          93.36913827
                        ]
                      },
                      {
                        "learn": [
                          84.01996538
                        ],
                        "iteration": 272,
                        "passed_time": 68.99780889,
                        "remaining_time": 183.7414178,
                        "test": [
                          93.33746429
                        ]
                      },
                      {
                        "learn": [
                          83.88720466
                        ],
                        "iteration": 273,
                        "passed_time": 69.27744734,
                        "remaining_time": 183.5599517,
                        "test": [
                          93.22995756
                        ]
                      },
                      {
                        "learn": [
                          83.78963617
                        ],
                        "iteration": 274,
                        "passed_time": 69.55991961,
                        "remaining_time": 183.3852426,
                        "test": [
                          93.19745033
                        ]
                      },
                      {
                        "learn": [
                          83.67276153
                        ],
                        "iteration": 275,
                        "passed_time": 69.78537011,
                        "remaining_time": 183.0601738,
                        "test": [
                          93.09382167
                        ]
                      },
                      {
                        "learn": [
                          83.58216632
                        ],
                        "iteration": 276,
                        "passed_time": 70.03331256,
                        "remaining_time": 182.7945306,
                        "test": [
                          93.01737009
                        ]
                      },
                      {
                        "learn": [
                          83.55377659
                        ],
                        "iteration": 277,
                        "passed_time": 70.26685711,
                        "remaining_time": 182.4916217,
                        "test": [
                          93.00829505
                        ]
                      },
                      {
                        "learn": [
                          83.43486139
                        ],
                        "iteration": 278,
                        "passed_time": 70.53216741,
                        "remaining_time": 182.2713,
                        "test": [
                          92.91635606
                        ]
                      },
                      {
                        "learn": [
                          83.36963523
                        ],
                        "iteration": 279,
                        "passed_time": 70.79584588,
                        "remaining_time": 182.0464608,
                        "test": [
                          92.87023976
                        ]
                      },
                      {
                        "learn": [
                          83.30033453
                        ],
                        "iteration": 280,
                        "passed_time": 71.04934719,
                        "remaining_time": 181.7953047,
                        "test": [
                          92.82696997
                        ]
                      },
                      {
                        "learn": [
                          83.21412001
                        ],
                        "iteration": 281,
                        "passed_time": 71.30949856,
                        "remaining_time": 181.5610637,
                        "test": [
                          92.75988756
                        ]
                      },
                      {
                        "learn": [
                          83.14809146
                        ],
                        "iteration": 282,
                        "passed_time": 71.55572553,
                        "remaining_time": 181.2913612,
                        "test": [
                          92.73449218
                        ]
                      },
                      {
                        "learn": [
                          83.00587639
                        ],
                        "iteration": 283,
                        "passed_time": 71.82732615,
                        "remaining_time": 181.0857941,
                        "test": [
                          92.63552473
                        ]
                      },
                      {
                        "learn": [
                          82.88901751
                        ],
                        "iteration": 284,
                        "passed_time": 72.03740747,
                        "remaining_time": 180.7254258,
                        "test": [
                          92.53492655
                        ]
                      },
                      {
                        "learn": [
                          82.80298744
                        ],
                        "iteration": 285,
                        "passed_time": 72.30120865,
                        "remaining_time": 180.5002202,
                        "test": [
                          92.47112313
                        ]
                      },
                      {
                        "learn": [
                          82.66623173
                        ],
                        "iteration": 286,
                        "passed_time": 72.50540916,
                        "remaining_time": 180.1266785,
                        "test": [
                          92.34648817
                        ]
                      },
                      {
                        "learn": [
                          82.56897548
                        ],
                        "iteration": 287,
                        "passed_time": 72.74915568,
                        "remaining_time": 179.8520793,
                        "test": [
                          92.28408008
                        ]
                      },
                      {
                        "learn": [
                          82.51153899
                        ],
                        "iteration": 288,
                        "passed_time": 73.00789914,
                        "remaining_time": 179.6145892,
                        "test": [
                          92.2582719
                        ]
                      },
                      {
                        "learn": [
                          82.36062911
                        ],
                        "iteration": 289,
                        "passed_time": 73.26034854,
                        "remaining_time": 179.361543,
                        "test": [
                          92.13512487
                        ]
                      },
                      {
                        "learn": [
                          82.30654927
                        ],
                        "iteration": 290,
                        "passed_time": 73.5153005,
                        "remaining_time": 179.1145981,
                        "test": [
                          92.09992452
                        ]
                      },
                      {
                        "learn": [
                          82.222887
                        ],
                        "iteration": 291,
                        "passed_time": 73.80025869,
                        "remaining_time": 178.9403533,
                        "test": [
                          92.01413228
                        ]
                      },
                      {
                        "learn": [
                          82.1096291
                        ],
                        "iteration": 292,
                        "passed_time": 74.06475926,
                        "remaining_time": 178.7159891,
                        "test": [
                          91.90603328
                        ]
                      },
                      {
                        "learn": [
                          82.01463961
                        ],
                        "iteration": 293,
                        "passed_time": 74.30801487,
                        "remaining_time": 178.440335,
                        "test": [
                          91.83807792
                        ]
                      },
                      {
                        "learn": [
                          81.94064449
                        ],
                        "iteration": 294,
                        "passed_time": 74.58733619,
                        "remaining_time": 178.2510916,
                        "test": [
                          91.7843345
                        ]
                      },
                      {
                        "learn": [
                          81.82642629
                        ],
                        "iteration": 295,
                        "passed_time": 74.81995614,
                        "remaining_time": 177.9501659,
                        "test": [
                          91.67009127
                        ]
                      },
                      {
                        "learn": [
                          81.67855211
                        ],
                        "iteration": 296,
                        "passed_time": 75.08173996,
                        "remaining_time": 177.7187313,
                        "test": [
                          91.56834243
                        ]
                      },
                      {
                        "learn": [
                          81.63882
                        ],
                        "iteration": 297,
                        "passed_time": 75.3193318,
                        "remaining_time": 177.4301038,
                        "test": [
                          91.54375264
                        ]
                      },
                      {
                        "learn": [
                          81.50229739
                        ],
                        "iteration": 298,
                        "passed_time": 75.54952859,
                        "remaining_time": 177.1244801,
                        "test": [
                          91.41365279
                        ]
                      },
                      {
                        "learn": [
                          81.41590032
                        ],
                        "iteration": 299,
                        "passed_time": 75.83301874,
                        "remaining_time": 176.9437104,
                        "test": [
                          91.33938106
                        ]
                      },
                      {
                        "learn": [
                          81.2862554
                        ],
                        "iteration": 300,
                        "passed_time": 76.06397544,
                        "remaining_time": 176.6402619,
                        "test": [
                          91.2263116
                        ]
                      },
                      {
                        "learn": [
                          81.21512232
                        ],
                        "iteration": 301,
                        "passed_time": 76.30272765,
                        "remaining_time": 176.3553109,
                        "test": [
                          91.17718783
                        ]
                      },
                      {
                        "learn": [
                          81.13032675
                        ],
                        "iteration": 302,
                        "passed_time": 76.56767634,
                        "remaining_time": 176.1309254,
                        "test": [
                          91.10355865
                        ]
                      },
                      {
                        "learn": [
                          81.07585647
                        ],
                        "iteration": 303,
                        "passed_time": 76.81748305,
                        "remaining_time": 175.8716059,
                        "test": [
                          91.0682625
                        ]
                      },
                      {
                        "learn": [
                          80.99807557
                        ],
                        "iteration": 304,
                        "passed_time": 77.04357961,
                        "remaining_time": 175.5583208,
                        "test": [
                          91.00171298
                        ]
                      },
                      {
                        "learn": [
                          80.92813108
                        ],
                        "iteration": 305,
                        "passed_time": 77.2851732,
                        "remaining_time": 175.2807523,
                        "test": [
                          90.9438144
                        ]
                      },
                      {
                        "learn": [
                          80.82859913
                        ],
                        "iteration": 306,
                        "passed_time": 77.54828865,
                        "remaining_time": 175.0520001,
                        "test": [
                          90.883496
                        ]
                      },
                      {
                        "learn": [
                          80.72619885
                        ],
                        "iteration": 307,
                        "passed_time": 77.81245357,
                        "remaining_time": 174.8253827,
                        "test": [
                          90.79584195
                        ]
                      },
                      {
                        "learn": [
                          80.65141087
                        ],
                        "iteration": 308,
                        "passed_time": 78.0660435,
                        "remaining_time": 174.574874,
                        "test": [
                          90.73583056
                        ]
                      },
                      {
                        "learn": [
                          80.5513756
                        ],
                        "iteration": 309,
                        "passed_time": 78.31496943,
                        "remaining_time": 174.3139642,
                        "test": [
                          90.67474784
                        ]
                      },
                      {
                        "learn": [
                          80.44521296
                        ],
                        "iteration": 310,
                        "passed_time": 78.55381932,
                        "remaining_time": 174.0308087,
                        "test": [
                          90.59971638
                        ]
                      },
                      {
                        "learn": [
                          80.39926724
                        ],
                        "iteration": 311,
                        "passed_time": 78.80702258,
                        "remaining_time": 173.7795883,
                        "test": [
                          90.57099858
                        ]
                      },
                      {
                        "learn": [
                          80.32943689
                        ],
                        "iteration": 312,
                        "passed_time": 79.05855719,
                        "remaining_time": 173.5246926,
                        "test": [
                          90.53409734
                        ]
                      },
                      {
                        "learn": [
                          80.24741981
                        ],
                        "iteration": 313,
                        "passed_time": 79.31472477,
                        "remaining_time": 173.2799401,
                        "test": [
                          90.4746203
                        ]
                      },
                      {
                        "learn": [
                          80.18911529
                        ],
                        "iteration": 314,
                        "passed_time": 79.54096746,
                        "remaining_time": 172.9700403,
                        "test": [
                          90.43731158
                        ]
                      },
                      {
                        "learn": [
                          80.11355282
                        ],
                        "iteration": 315,
                        "passed_time": 79.79781577,
                        "remaining_time": 172.7269177,
                        "test": [
                          90.40561705
                        ]
                      },
                      {
                        "learn": [
                          80.01707747
                        ],
                        "iteration": 316,
                        "passed_time": 80.04001706,
                        "remaining_time": 172.4521503,
                        "test": [
                          90.34506216
                        ]
                      },
                      {
                        "learn": [
                          79.94772241
                        ],
                        "iteration": 317,
                        "passed_time": 80.30810843,
                        "remaining_time": 172.233113,
                        "test": [
                          90.30712759
                        ]
                      },
                      {
                        "learn": [
                          79.86217275
                        ],
                        "iteration": 318,
                        "passed_time": 80.5862925,
                        "remaining_time": 172.0353141,
                        "test": [
                          90.22817427
                        ]
                      },
                      {
                        "learn": [
                          79.8095943
                        ],
                        "iteration": 319,
                        "passed_time": 80.85068101,
                        "remaining_time": 171.8076971,
                        "test": [
                          90.18505029
                        ]
                      },
                      {
                        "learn": [
                          79.74219018
                        ],
                        "iteration": 320,
                        "passed_time": 81.1208547,
                        "remaining_time": 171.5920883,
                        "test": [
                          90.14654186
                        ]
                      },
                      {
                        "learn": [
                          79.64575071
                        ],
                        "iteration": 321,
                        "passed_time": 81.3509652,
                        "remaining_time": 171.2917839,
                        "test": [
                          90.05388543
                        ]
                      },
                      {
                        "learn": [
                          79.58031168
                        ],
                        "iteration": 322,
                        "passed_time": 81.57668971,
                        "remaining_time": 170.9827211,
                        "test": [
                          90.00345589
                        ]
                      },
                      {
                        "learn": [
                          79.52055306
                        ],
                        "iteration": 323,
                        "passed_time": 81.83192788,
                        "remaining_time": 170.7357508,
                        "test": [
                          89.96391809
                        ]
                      },
                      {
                        "learn": [
                          79.47404884
                        ],
                        "iteration": 324,
                        "passed_time": 82.05891386,
                        "remaining_time": 170.4300519,
                        "test": [
                          89.92698987
                        ]
                      },
                      {
                        "learn": [
                          79.38057917
                        ],
                        "iteration": 325,
                        "passed_time": 82.31283094,
                        "remaining_time": 170.1805155,
                        "test": [
                          89.85537114
                        ]
                      },
                      {
                        "learn": [
                          79.30304279
                        ],
                        "iteration": 326,
                        "passed_time": 82.56740078,
                        "remaining_time": 169.9322958,
                        "test": [
                          89.80407804
                        ]
                      },
                      {
                        "learn": [
                          79.20481957
                        ],
                        "iteration": 327,
                        "passed_time": 82.82366462,
                        "remaining_time": 169.687508,
                        "test": [
                          89.72391518
                        ]
                      },
                      {
                        "learn": [
                          79.14517408
                        ],
                        "iteration": 328,
                        "passed_time": 83.07470515,
                        "remaining_time": 169.4319974,
                        "test": [
                          89.68369904
                        ]
                      },
                      {
                        "learn": [
                          79.08037538
                        ],
                        "iteration": 329,
                        "passed_time": 83.32896772,
                        "remaining_time": 169.1830557,
                        "test": [
                          89.63811639
                        ]
                      },
                      {
                        "learn": [
                          79.02618139
                        ],
                        "iteration": 330,
                        "passed_time": 83.58353449,
                        "remaining_time": 168.9346966,
                        "test": [
                          89.59392623
                        ]
                      },
                      {
                        "learn": [
                          78.93054633
                        ],
                        "iteration": 331,
                        "passed_time": 83.83507064,
                        "remaining_time": 168.6802024,
                        "test": [
                          89.51035155
                        ]
                      },
                      {
                        "learn": [
                          78.87183118
                        ],
                        "iteration": 332,
                        "passed_time": 84.08674809,
                        "remaining_time": 168.4260089,
                        "test": [
                          89.47393075
                        ]
                      },
                      {
                        "learn": [
                          78.7870411
                        ],
                        "iteration": 333,
                        "passed_time": 84.33772481,
                        "remaining_time": 168.1704333,
                        "test": [
                          89.40864164
                        ]
                      },
                      {
                        "learn": [
                          78.72247527
                        ],
                        "iteration": 334,
                        "passed_time": 84.59248868,
                        "remaining_time": 167.9224029,
                        "test": [
                          89.35514392
                        ]
                      },
                      {
                        "learn": [
                          78.61596447
                        ],
                        "iteration": 335,
                        "passed_time": 84.8724392,
                        "remaining_time": 167.724106,
                        "test": [
                          89.2788081
                        ]
                      },
                      {
                        "learn": [
                          78.56529653
                        ],
                        "iteration": 336,
                        "passed_time": 85.1123494,
                        "remaining_time": 167.4465509,
                        "test": [
                          89.23150126
                        ]
                      },
                      {
                        "learn": [
                          78.52071821
                        ],
                        "iteration": 337,
                        "passed_time": 85.35385625,
                        "remaining_time": 167.1723457,
                        "test": [
                          89.1972169
                        ]
                      },
                      {
                        "learn": [
                          78.47827222
                        ],
                        "iteration": 338,
                        "passed_time": 85.59623844,
                        "remaining_time": 166.9000401,
                        "test": [
                          89.17148254
                        ]
                      },
                      {
                        "learn": [
                          78.43743244
                        ],
                        "iteration": 339,
                        "passed_time": 85.86492035,
                        "remaining_time": 166.678963,
                        "test": [
                          89.15677386
                        ]
                      },
                      {
                        "learn": [
                          78.36604008
                        ],
                        "iteration": 340,
                        "passed_time": 86.09875108,
                        "remaining_time": 166.390255,
                        "test": [
                          89.1160278
                        ]
                      },
                      {
                        "learn": [
                          78.30291701
                        ],
                        "iteration": 341,
                        "passed_time": 86.36148084,
                        "remaining_time": 166.157469,
                        "test": [
                          89.06031066
                        ]
                      },
                      {
                        "learn": [
                          78.24689996
                        ],
                        "iteration": 342,
                        "passed_time": 86.63117829,
                        "remaining_time": 165.9378546,
                        "test": [
                          89.01885079
                        ]
                      },
                      {
                        "learn": [
                          78.16432444
                        ],
                        "iteration": 343,
                        "passed_time": 86.91480188,
                        "remaining_time": 165.7445059,
                        "test": [
                          88.96719302
                        ]
                      },
                      {
                        "learn": [
                          78.1028369
                        ],
                        "iteration": 344,
                        "passed_time": 87.14506604,
                        "remaining_time": 165.4493283,
                        "test": [
                          88.92576461
                        ]
                      },
                      {
                        "learn": [
                          78.04127248
                        ],
                        "iteration": 345,
                        "passed_time": 87.40589953,
                        "remaining_time": 165.2123072,
                        "test": [
                          88.8936667
                        ]
                      },
                      {
                        "learn": [
                          77.95448077
                        ],
                        "iteration": 346,
                        "passed_time": 87.6569783,
                        "remaining_time": 164.956792,
                        "test": [
                          88.80419859
                        ]
                      },
                      {
                        "learn": [
                          77.88907824
                        ],
                        "iteration": 347,
                        "passed_time": 87.90218498,
                        "remaining_time": 164.6903006,
                        "test": [
                          88.76559837
                        ]
                      },
                      {
                        "learn": [
                          77.82428488
                        ],
                        "iteration": 348,
                        "passed_time": 88.14508326,
                        "remaining_time": 164.4196252,
                        "test": [
                          88.71391109
                        ]
                      },
                      {
                        "learn": [
                          77.74550638
                        ],
                        "iteration": 349,
                        "passed_time": 88.38435018,
                        "remaining_time": 164.1423646,
                        "test": [
                          88.67058349
                        ]
                      },
                      {
                        "learn": [
                          77.69309129
                        ],
                        "iteration": 350,
                        "passed_time": 88.62328745,
                        "remaining_time": 163.864711,
                        "test": [
                          88.62970336
                        ]
                      },
                      {
                        "learn": [
                          77.64613371
                        ],
                        "iteration": 351,
                        "passed_time": 88.87052293,
                        "remaining_time": 163.6025536,
                        "test": [
                          88.59535434
                        ]
                      },
                      {
                        "learn": [
                          77.56817173
                        ],
                        "iteration": 352,
                        "passed_time": 89.10237722,
                        "remaining_time": 163.3122891,
                        "test": [
                          88.52713568
                        ]
                      },
                      {
                        "learn": [
                          77.48009295
                        ],
                        "iteration": 353,
                        "passed_time": 89.38275044,
                        "remaining_time": 163.1108949,
                        "test": [
                          88.46197939
                        ]
                      },
                      {
                        "learn": [
                          77.41860263
                        ],
                        "iteration": 354,
                        "passed_time": 89.64296882,
                        "remaining_time": 162.8724363,
                        "test": [
                          88.4089095
                        ]
                      },
                      {
                        "learn": [
                          77.35528852
                        ],
                        "iteration": 355,
                        "passed_time": 89.88397122,
                        "remaining_time": 162.599094,
                        "test": [
                          88.36039768
                        ]
                      },
                      {
                        "learn": [
                          77.29659926
                        ],
                        "iteration": 356,
                        "passed_time": 90.15469591,
                        "remaining_time": 162.3794663,
                        "test": [
                          88.32629216
                        ]
                      },
                      {
                        "learn": [
                          77.24764791
                        ],
                        "iteration": 357,
                        "passed_time": 90.41362122,
                        "remaining_time": 162.1383934,
                        "test": [
                          88.29903632
                        ]
                      },
                      {
                        "learn": [
                          77.17446877
                        ],
                        "iteration": 358,
                        "passed_time": 90.67150717,
                        "remaining_time": 161.8953652,
                        "test": [
                          88.25669428
                        ]
                      },
                      {
                        "learn": [
                          77.0567907
                        ],
                        "iteration": 359,
                        "passed_time": 90.9483429,
                        "remaining_time": 161.6859429,
                        "test": [
                          88.15413144
                        ]
                      },
                      {
                        "learn": [
                          76.98275462
                        ],
                        "iteration": 360,
                        "passed_time": 91.21045958,
                        "remaining_time": 161.4500933,
                        "test": [
                          88.08459913
                        ]
                      },
                      {
                        "learn": [
                          76.94754574
                        ],
                        "iteration": 361,
                        "passed_time": 91.46913897,
                        "remaining_time": 161.2080405,
                        "test": [
                          88.06348712
                        ]
                      },
                      {
                        "learn": [
                          76.84519772
                        ],
                        "iteration": 362,
                        "passed_time": 91.75011862,
                        "remaining_time": 161.0050291,
                        "test": [
                          87.99234805
                        ]
                      },
                      {
                        "learn": [
                          76.76709562
                        ],
                        "iteration": 363,
                        "passed_time": 92.00125069,
                        "remaining_time": 160.749438,
                        "test": [
                          87.93837815
                        ]
                      },
                      {
                        "learn": [
                          76.7098661
                        ],
                        "iteration": 364,
                        "passed_time": 92.26963752,
                        "remaining_time": 160.5238899,
                        "test": [
                          87.91067742
                        ]
                      },
                      {
                        "learn": [
                          76.65730131
                        ],
                        "iteration": 365,
                        "passed_time": 92.53271491,
                        "remaining_time": 160.2889105,
                        "test": [
                          87.88212727
                        ]
                      },
                      {
                        "learn": [
                          76.58980161
                        ],
                        "iteration": 366,
                        "passed_time": 92.77431662,
                        "remaining_time": 160.0167368,
                        "test": [
                          87.83124503
                        ]
                      },
                      {
                        "learn": [
                          76.53344632
                        ],
                        "iteration": 367,
                        "passed_time": 93.02811904,
                        "remaining_time": 159.7656827,
                        "test": [
                          87.79258544
                        ]
                      },
                      {
                        "learn": [
                          76.45206028
                        ],
                        "iteration": 368,
                        "passed_time": 93.27276426,
                        "remaining_time": 159.4989546,
                        "test": [
                          87.73985153
                        ]
                      },
                      {
                        "learn": [
                          76.34753629
                        ],
                        "iteration": 369,
                        "passed_time": 93.52513481,
                        "remaining_time": 159.2454998,
                        "test": [
                          87.65781181
                        ]
                      },
                      {
                        "learn": [
                          76.29617234
                        ],
                        "iteration": 370,
                        "passed_time": 93.76449836,
                        "remaining_time": 158.9699986,
                        "test": [
                          87.63170136
                        ]
                      },
                      {
                        "learn": [
                          76.24078534
                        ],
                        "iteration": 371,
                        "passed_time": 93.96966278,
                        "remaining_time": 158.6369576,
                        "test": [
                          87.58892088
                        ]
                      },
                      {
                        "learn": [
                          76.17901894
                        ],
                        "iteration": 372,
                        "passed_time": 94.22941555,
                        "remaining_time": 158.3963634,
                        "test": [
                          87.5390527
                        ]
                      },
                      {
                        "learn": [
                          76.12492129
                        ],
                        "iteration": 373,
                        "passed_time": 94.48323427,
                        "remaining_time": 158.1457344,
                        "test": [
                          87.51899386
                        ]
                      },
                      {
                        "learn": [
                          76.07867965
                        ],
                        "iteration": 374,
                        "passed_time": 94.7370488,
                        "remaining_time": 157.8950813,
                        "test": [
                          87.49023978
                        ]
                      },
                      {
                        "learn": [
                          76.01907155
                        ],
                        "iteration": 375,
                        "passed_time": 94.98755347,
                        "remaining_time": 157.6389185,
                        "test": [
                          87.4479485
                        ]
                      },
                      {
                        "learn": [
                          75.97621291
                        ],
                        "iteration": 376,
                        "passed_time": 95.24227506,
                        "remaining_time": 157.3897543,
                        "test": [
                          87.40883642
                        ]
                      },
                      {
                        "learn": [
                          75.89735027
                        ],
                        "iteration": 377,
                        "passed_time": 95.52240118,
                        "remaining_time": 157.1823638,
                        "test": [
                          87.35155846
                        ]
                      },
                      {
                        "learn": [
                          75.86211832
                        ],
                        "iteration": 378,
                        "passed_time": 95.76133295,
                        "remaining_time": 156.9070917,
                        "test": [
                          87.33624919
                        ]
                      },
                      {
                        "learn": [
                          75.79490196
                        ],
                        "iteration": 379,
                        "passed_time": 96.01309669,
                        "remaining_time": 156.6529472,
                        "test": [
                          87.29715608
                        ]
                      },
                      {
                        "learn": [
                          75.67382577
                        ],
                        "iteration": 380,
                        "passed_time": 96.27257705,
                        "remaining_time": 156.4113522,
                        "test": [
                          87.19011517
                        ]
                      },
                      {
                        "learn": [
                          75.6383807
                        ],
                        "iteration": 381,
                        "passed_time": 96.5306441,
                        "remaining_time": 156.1673771,
                        "test": [
                          87.17725459
                        ]
                      },
                      {
                        "learn": [
                          75.58499944
                        ],
                        "iteration": 382,
                        "passed_time": 96.80726627,
                        "remaining_time": 155.9532201,
                        "test": [
                          87.14806029
                        ]
                      },
                      {
                        "learn": [
                          75.52094166
                        ],
                        "iteration": 383,
                        "passed_time": 97.06833045,
                        "remaining_time": 155.7137801,
                        "test": [
                          87.12501081
                        ]
                      },
                      {
                        "learn": [
                          75.43683661
                        ],
                        "iteration": 384,
                        "passed_time": 97.34053895,
                        "remaining_time": 155.4920297,
                        "test": [
                          87.06213047
                        ]
                      },
                      {
                        "learn": [
                          75.39187633
                        ],
                        "iteration": 385,
                        "passed_time": 97.59223837,
                        "remaining_time": 155.2373947,
                        "test": [
                          87.02814286
                        ]
                      },
                      {
                        "learn": [
                          75.28705552
                        ],
                        "iteration": 386,
                        "passed_time": 97.85758525,
                        "remaining_time": 155.0043921,
                        "test": [
                          86.95217464
                        ]
                      },
                      {
                        "learn": [
                          75.21363409
                        ],
                        "iteration": 387,
                        "passed_time": 98.09859507,
                        "remaining_time": 154.7328355,
                        "test": [
                          86.87796493
                        ]
                      },
                      {
                        "learn": [
                          75.16295072
                        ],
                        "iteration": 388,
                        "passed_time": 98.35962882,
                        "remaining_time": 154.4928874,
                        "test": [
                          86.84604487
                        ]
                      },
                      {
                        "learn": [
                          75.10162784
                        ],
                        "iteration": 389,
                        "passed_time": 98.59687958,
                        "remaining_time": 154.2156322,
                        "test": [
                          86.82135937
                        ]
                      },
                      {
                        "learn": [
                          75.07013663
                        ],
                        "iteration": 390,
                        "passed_time": 98.82323522,
                        "remaining_time": 153.9216119,
                        "test": [
                          86.79588505
                        ]
                      },
                      {
                        "learn": [
                          75.03796032
                        ],
                        "iteration": 391,
                        "passed_time": 99.06441839,
                        "remaining_time": 153.6509346,
                        "test": [
                          86.76905113
                        ]
                      },
                      {
                        "learn": [
                          74.97264848
                        ],
                        "iteration": 392,
                        "passed_time": 99.3022103,
                        "remaining_time": 153.3751696,
                        "test": [
                          86.73725915
                        ]
                      },
                      {
                        "learn": [
                          74.93370234
                        ],
                        "iteration": 393,
                        "passed_time": 99.55747364,
                        "remaining_time": 153.1264696,
                        "test": [
                          86.71280231
                        ]
                      },
                      {
                        "learn": [
                          74.87010378
                        ],
                        "iteration": 394,
                        "passed_time": 99.81762202,
                        "remaining_time": 152.8852185,
                        "test": [
                          86.65315049
                        ]
                      },
                      {
                        "learn": [
                          74.81008796
                        ],
                        "iteration": 395,
                        "passed_time": 100.0803178,
                        "remaining_time": 152.6477574,
                        "test": [
                          86.62328903
                        ]
                      },
                      {
                        "learn": [
                          74.73909148
                        ],
                        "iteration": 396,
                        "passed_time": 100.3607515,
                        "remaining_time": 152.4371112,
                        "test": [
                          86.58084164
                        ]
                      },
                      {
                        "learn": [
                          74.69138904
                        ],
                        "iteration": 397,
                        "passed_time": 100.6116584,
                        "remaining_time": 152.1814531,
                        "test": [
                          86.55076473
                        ]
                      },
                      {
                        "learn": [
                          74.65688765
                        ],
                        "iteration": 398,
                        "passed_time": 100.8604827,
                        "remaining_time": 151.922682,
                        "test": [
                          86.53061237
                        ]
                      },
                      {
                        "learn": [
                          74.61287683
                        ],
                        "iteration": 399,
                        "passed_time": 101.1109081,
                        "remaining_time": 151.6663621,
                        "test": [
                          86.51132034
                        ]
                      },
                      {
                        "learn": [
                          74.56439197
                        ],
                        "iteration": 400,
                        "passed_time": 101.3635283,
                        "remaining_time": 151.4133502,
                        "test": [
                          86.47583287
                        ]
                      },
                      {
                        "learn": [
                          74.50796871
                        ],
                        "iteration": 401,
                        "passed_time": 101.6079416,
                        "remaining_time": 151.148132,
                        "test": [
                          86.44667679
                        ]
                      },
                      {
                        "learn": [
                          74.46037372
                        ],
                        "iteration": 402,
                        "passed_time": 101.8511986,
                        "remaining_time": 150.8813042,
                        "test": [
                          86.42158369
                        ]
                      },
                      {
                        "learn": [
                          74.39283283
                        ],
                        "iteration": 403,
                        "passed_time": 102.1206518,
                        "remaining_time": 150.6532388,
                        "test": [
                          86.37922439
                        ]
                      },
                      {
                        "learn": [
                          74.29544184
                        ],
                        "iteration": 404,
                        "passed_time": 102.3664328,
                        "remaining_time": 150.3901914,
                        "test": [
                          86.28178008
                        ]
                      },
                      {
                        "learn": [
                          74.19849141
                        ],
                        "iteration": 405,
                        "passed_time": 102.6429458,
                        "remaining_time": 150.1721916,
                        "test": [
                          86.20703742
                        ]
                      },
                      {
                        "learn": [
                          74.12373079
                        ],
                        "iteration": 406,
                        "passed_time": 102.9054943,
                        "remaining_time": 149.933558,
                        "test": [
                          86.1476648
                        ]
                      },
                      {
                        "learn": [
                          74.08657256
                        ],
                        "iteration": 407,
                        "passed_time": 103.1663063,
                        "remaining_time": 149.6922876,
                        "test": [
                          86.12470471
                        ]
                      },
                      {
                        "learn": [
                          74.04480509
                        ],
                        "iteration": 408,
                        "passed_time": 103.4341957,
                        "remaining_time": 149.4611483,
                        "test": [
                          86.10426114
                        ]
                      },
                      {
                        "learn": [
                          73.97925082
                        ],
                        "iteration": 409,
                        "passed_time": 103.6825692,
                        "remaining_time": 149.2017459,
                        "test": [
                          86.06604899
                        ]
                      },
                      {
                        "learn": [
                          73.92055788
                        ],
                        "iteration": 410,
                        "passed_time": 103.9488364,
                        "remaining_time": 148.9680404,
                        "test": [
                          86.02778669
                        ]
                      },
                      {
                        "learn": [
                          73.87145122
                        ],
                        "iteration": 411,
                        "passed_time": 104.2149873,
                        "remaining_time": 148.734011,
                        "test": [
                          85.98682279
                        ]
                      },
                      {
                        "learn": [
                          73.83674706
                        ],
                        "iteration": 412,
                        "passed_time": 104.4570174,
                        "remaining_time": 148.4655429,
                        "test": [
                          85.9802548
                        ]
                      },
                      {
                        "learn": [
                          73.79838736
                        ],
                        "iteration": 413,
                        "passed_time": 104.7274517,
                        "remaining_time": 148.2374075,
                        "test": [
                          85.95535017
                        ]
                      },
                      {
                        "learn": [
                          73.72694996
                        ],
                        "iteration": 414,
                        "passed_time": 105.0023771,
                        "remaining_time": 148.015399,
                        "test": [
                          85.91642593
                        ]
                      },
                      {
                        "learn": [
                          73.66818083
                        ],
                        "iteration": 415,
                        "passed_time": 105.2643259,
                        "remaining_time": 147.774919,
                        "test": [
                          85.8665798
                        ]
                      },
                      {
                        "learn": [
                          73.60227388
                        ],
                        "iteration": 416,
                        "passed_time": 105.5176584,
                        "remaining_time": 147.5222897,
                        "test": [
                          85.81829355
                        ]
                      },
                      {
                        "learn": [
                          73.5262429
                        ],
                        "iteration": 417,
                        "passed_time": 105.755278,
                        "remaining_time": 147.2477794,
                        "test": [
                          85.73829476
                        ]
                      },
                      {
                        "learn": [
                          73.47101201
                        ],
                        "iteration": 418,
                        "passed_time": 105.9915074,
                        "remaining_time": 146.9715175,
                        "test": [
                          85.69854302
                        ]
                      },
                      {
                        "learn": [
                          73.45053902
                        ],
                        "iteration": 419,
                        "passed_time": 106.224307,
                        "remaining_time": 146.6907097,
                        "test": [
                          85.68641703
                        ]
                      },
                      {
                        "learn": [
                          73.39274101
                        ],
                        "iteration": 420,
                        "passed_time": 106.4800981,
                        "remaining_time": 146.4417502,
                        "test": [
                          85.64266853
                        ]
                      },
                      {
                        "learn": [
                          73.31564505
                        ],
                        "iteration": 421,
                        "passed_time": 106.741718,
                        "remaining_time": 146.2007417,
                        "test": [
                          85.58440863
                        ]
                      },
                      {
                        "learn": [
                          73.27726786
                        ],
                        "iteration": 422,
                        "passed_time": 107.0165104,
                        "remaining_time": 145.977604,
                        "test": [
                          85.56043759
                        ]
                      },
                      {
                        "learn": [
                          73.19444466
                        ],
                        "iteration": 423,
                        "passed_time": 107.2855851,
                        "remaining_time": 145.7464552,
                        "test": [
                          85.50208457
                        ]
                      },
                      {
                        "learn": [
                          73.16104902
                        ],
                        "iteration": 424,
                        "passed_time": 107.5198423,
                        "remaining_time": 145.4680219,
                        "test": [
                          85.48386612
                        ]
                      },
                      {
                        "learn": [
                          73.09308404
                        ],
                        "iteration": 425,
                        "passed_time": 107.7687224,
                        "remaining_time": 145.2094991,
                        "test": [
                          85.43286571
                        ]
                      },
                      {
                        "learn": [
                          73.03691778
                        ],
                        "iteration": 426,
                        "passed_time": 108.037451,
                        "remaining_time": 144.9776567,
                        "test": [
                          85.39791777
                        ]
                      },
                      {
                        "learn": [
                          72.99892401
                        ],
                        "iteration": 427,
                        "passed_time": 108.3008536,
                        "remaining_time": 144.738524,
                        "test": [
                          85.37370495
                        ]
                      },
                      {
                        "learn": [
                          72.89560159
                        ],
                        "iteration": 428,
                        "passed_time": 108.5692624,
                        "remaining_time": 144.5059414,
                        "test": [
                          85.28975361
                        ]
                      },
                      {
                        "learn": [
                          72.84574741
                        ],
                        "iteration": 429,
                        "passed_time": 108.7978489,
                        "remaining_time": 144.2204044,
                        "test": [
                          85.26612741
                        ]
                      },
                      {
                        "learn": [
                          72.80870129
                        ],
                        "iteration": 430,
                        "passed_time": 109.071153,
                        "remaining_time": 143.9941672,
                        "test": [
                          85.24873636
                        ]
                      },
                      {
                        "learn": [
                          72.7589706
                        ],
                        "iteration": 431,
                        "passed_time": 109.3249312,
                        "remaining_time": 143.7420392,
                        "test": [
                          85.20455473
                        ]
                      },
                      {
                        "learn": [
                          72.70902055
                        ],
                        "iteration": 432,
                        "passed_time": 109.5825611,
                        "remaining_time": 143.4949472,
                        "test": [
                          85.17521664
                        ]
                      },
                      {
                        "learn": [
                          72.67831853
                        ],
                        "iteration": 433,
                        "passed_time": 109.8165546,
                        "remaining_time": 143.2169814,
                        "test": [
                          85.15952729
                        ]
                      },
                      {
                        "learn": [
                          72.62009148
                        ],
                        "iteration": 434,
                        "passed_time": 110.0847762,
                        "remaining_time": 142.9836748,
                        "test": [
                          85.12996137
                        ]
                      },
                      {
                        "learn": [
                          72.55691667
                        ],
                        "iteration": 435,
                        "passed_time": 110.3578158,
                        "remaining_time": 142.7564407,
                        "test": [
                          85.08503607
                        ]
                      },
                      {
                        "learn": [
                          72.50134097
                        ],
                        "iteration": 436,
                        "passed_time": 110.6145415,
                        "remaining_time": 142.5079791,
                        "test": [
                          85.04579179
                        ]
                      },
                      {
                        "learn": [
                          72.46874607
                        ],
                        "iteration": 437,
                        "passed_time": 110.8552762,
                        "remaining_time": 142.2389616,
                        "test": [
                          85.02484267
                        ]
                      },
                      {
                        "learn": [
                          72.43016969
                        ],
                        "iteration": 438,
                        "passed_time": 111.1239857,
                        "remaining_time": 142.0058223,
                        "test": [
                          84.99666247
                        ]
                      },
                      {
                        "learn": [
                          72.39665802
                        ],
                        "iteration": 439,
                        "passed_time": 111.357246,
                        "remaining_time": 141.727404,
                        "test": [
                          84.98422738
                        ]
                      },
                      {
                        "learn": [
                          72.36145252
                        ],
                        "iteration": 440,
                        "passed_time": 111.6185979,
                        "remaining_time": 141.4847987,
                        "test": [
                          84.96015792
                        ]
                      },
                      {
                        "learn": [
                          72.34427288
                        ],
                        "iteration": 441,
                        "passed_time": 111.8522083,
                        "remaining_time": 141.2070865,
                        "test": [
                          84.94556366
                        ]
                      },
                      {
                        "learn": [
                          72.26570736
                        ],
                        "iteration": 442,
                        "passed_time": 112.1243465,
                        "remaining_time": 140.9780159,
                        "test": [
                          84.88238748
                        ]
                      },
                      {
                        "learn": [
                          72.22553864
                        ],
                        "iteration": 443,
                        "passed_time": 112.3828846,
                        "remaining_time": 140.7317203,
                        "test": [
                          84.85460839
                        ]
                      },
                      {
                        "learn": [
                          72.16367278
                        ],
                        "iteration": 444,
                        "passed_time": 112.6648769,
                        "remaining_time": 140.5146218,
                        "test": [
                          84.81985959
                        ]
                      },
                      {
                        "learn": [
                          72.1378861
                        ],
                        "iteration": 445,
                        "passed_time": 112.8980779,
                        "remaining_time": 140.2366259,
                        "test": [
                          84.79882474
                        ]
                      },
                      {
                        "learn": [
                          72.06184576
                        ],
                        "iteration": 446,
                        "passed_time": 113.1529445,
                        "remaining_time": 139.9856337,
                        "test": [
                          84.74516709
                        ]
                      },
                      {
                        "learn": [
                          72.01536625
                        ],
                        "iteration": 447,
                        "passed_time": 113.4141892,
                        "remaining_time": 139.7424831,
                        "test": [
                          84.71614526
                        ]
                      },
                      {
                        "learn": [
                          71.97612836
                        ],
                        "iteration": 448,
                        "passed_time": 113.6644008,
                        "remaining_time": 139.4857124,
                        "test": [
                          84.6955751
                        ]
                      },
                      {
                        "learn": [
                          71.9463829
                        ],
                        "iteration": 449,
                        "passed_time": 113.9226887,
                        "remaining_time": 139.2388417,
                        "test": [
                          84.67917903
                        ]
                      },
                      {
                        "learn": [
                          71.91663616
                        ],
                        "iteration": 450,
                        "passed_time": 114.1792883,
                        "remaining_time": 138.9898653,
                        "test": [
                          84.66440899
                        ]
                      },
                      {
                        "learn": [
                          71.86877222
                        ],
                        "iteration": 451,
                        "passed_time": 114.4339324,
                        "remaining_time": 138.7384844,
                        "test": [
                          84.62941349
                        ]
                      },
                      {
                        "learn": [
                          71.8165716
                        ],
                        "iteration": 452,
                        "passed_time": 114.6876245,
                        "remaining_time": 138.4859395,
                        "test": [
                          84.59360135
                        ]
                      },
                      {
                        "learn": [
                          71.77248911
                        ],
                        "iteration": 453,
                        "passed_time": 114.9537387,
                        "remaining_time": 138.2483289,
                        "test": [
                          84.55226514
                        ]
                      },
                      {
                        "learn": [
                          71.74545912
                        ],
                        "iteration": 454,
                        "passed_time": 115.1900665,
                        "remaining_time": 137.9749148,
                        "test": [
                          84.53968592
                        ]
                      },
                      {
                        "learn": [
                          71.69631333
                        ],
                        "iteration": 455,
                        "passed_time": 115.4281418,
                        "remaining_time": 137.7037481,
                        "test": [
                          84.49798935
                        ]
                      },
                      {
                        "learn": [
                          71.66209785
                        ],
                        "iteration": 456,
                        "passed_time": 115.6616996,
                        "remaining_time": 137.4273586,
                        "test": [
                          84.47493372
                        ]
                      },
                      {
                        "learn": [
                          71.60651404
                        ],
                        "iteration": 457,
                        "passed_time": 115.921762,
                        "remaining_time": 137.1825218,
                        "test": [
                          84.43338919
                        ]
                      },
                      {
                        "learn": [
                          71.54736821
                        ],
                        "iteration": 458,
                        "passed_time": 116.1814386,
                        "remaining_time": 136.937164,
                        "test": [
                          84.38780374
                        ]
                      },
                      {
                        "learn": [
                          71.51399266
                        ],
                        "iteration": 459,
                        "passed_time": 116.4460786,
                        "remaining_time": 136.6975706,
                        "test": [
                          84.37608315
                        ]
                      },
                      {
                        "learn": [
                          71.47423552
                        ],
                        "iteration": 460,
                        "passed_time": 116.7035356,
                        "remaining_time": 136.44947,
                        "test": [
                          84.35685846
                        ]
                      },
                      {
                        "learn": [
                          71.42352685
                        ],
                        "iteration": 461,
                        "passed_time": 116.9626935,
                        "remaining_time": 136.2033098,
                        "test": [
                          84.32668397
                        ]
                      },
                      {
                        "learn": [
                          71.33863152
                        ],
                        "iteration": 462,
                        "passed_time": 117.1982534,
                        "remaining_time": 135.9297237,
                        "test": [
                          84.27164581
                        ]
                      },
                      {
                        "learn": [
                          71.30485365
                        ],
                        "iteration": 463,
                        "passed_time": 117.4452464,
                        "remaining_time": 135.6695088,
                        "test": [
                          84.24996975
                        ]
                      },
                      {
                        "learn": [
                          71.23420073
                        ],
                        "iteration": 464,
                        "passed_time": 117.700818,
                        "remaining_time": 135.4192207,
                        "test": [
                          84.20369754
                        ]
                      },
                      {
                        "learn": [
                          71.19552106
                        ],
                        "iteration": 465,
                        "passed_time": 117.9413548,
                        "remaining_time": 135.1516812,
                        "test": [
                          84.18292306
                        ]
                      },
                      {
                        "learn": [
                          71.16474756
                        ],
                        "iteration": 466,
                        "passed_time": 118.1911417,
                        "remaining_time": 134.8948148,
                        "test": [
                          84.15751669
                        ]
                      },
                      {
                        "learn": [
                          71.11927124
                        ],
                        "iteration": 467,
                        "passed_time": 118.4515871,
                        "remaining_time": 134.6500947,
                        "test": [
                          84.1318539
                        ]
                      },
                      {
                        "learn": [
                          71.02932724
                        ],
                        "iteration": 468,
                        "passed_time": 118.7146968,
                        "remaining_time": 134.4083241,
                        "test": [
                          84.04678663
                        ]
                      },
                      {
                        "learn": [
                          70.98300476
                        ],
                        "iteration": 469,
                        "passed_time": 118.9864267,
                        "remaining_time": 134.1761833,
                        "test": [
                          84.01635736
                        ]
                      },
                      {
                        "learn": [
                          70.93025956
                        ],
                        "iteration": 470,
                        "passed_time": 119.2504287,
                        "remaining_time": 133.9351948,
                        "test": [
                          83.98856744
                        ]
                      },
                      {
                        "learn": [
                          70.87639245
                        ],
                        "iteration": 471,
                        "passed_time": 119.4933,
                        "remaining_time": 133.6704711,
                        "test": [
                          83.96072678
                        ]
                      },
                      {
                        "learn": [
                          70.85745657
                        ],
                        "iteration": 472,
                        "passed_time": 119.7097315,
                        "remaining_time": 133.3763816,
                        "test": [
                          83.95179074
                        ]
                      },
                      {
                        "learn": [
                          70.80494029
                        ],
                        "iteration": 473,
                        "passed_time": 119.9594398,
                        "remaining_time": 133.1195471,
                        "test": [
                          83.91443111
                        ]
                      },
                      {
                        "learn": [
                          70.78524168
                        ],
                        "iteration": 474,
                        "passed_time": 120.178318,
                        "remaining_time": 132.8286673,
                        "test": [
                          83.89746664
                        ]
                      },
                      {
                        "learn": [
                          70.74702472
                        ],
                        "iteration": 475,
                        "passed_time": 120.4328888,
                        "remaining_time": 132.5773818,
                        "test": [
                          83.87329702
                        ]
                      },
                      {
                        "learn": [
                          70.70917277
                        ],
                        "iteration": 476,
                        "passed_time": 120.6662769,
                        "remaining_time": 132.302857,
                        "test": [
                          83.84077006
                        ]
                      },
                      {
                        "learn": [
                          70.66297023
                        ],
                        "iteration": 477,
                        "passed_time": 120.9134172,
                        "remaining_time": 132.0435225,
                        "test": [
                          83.81038706
                        ]
                      },
                      {
                        "learn": [
                          70.62412364
                        ],
                        "iteration": 478,
                        "passed_time": 121.1627702,
                        "remaining_time": 131.7866456,
                        "test": [
                          83.78373613
                        ]
                      },
                      {
                        "learn": [
                          70.54133418
                        ],
                        "iteration": 479,
                        "passed_time": 121.4182516,
                        "remaining_time": 131.5364392,
                        "test": [
                          83.71654709
                        ]
                      },
                      {
                        "learn": [
                          70.49407255
                        ],
                        "iteration": 480,
                        "passed_time": 121.6558706,
                        "remaining_time": 131.2669373,
                        "test": [
                          83.69668977
                        ]
                      },
                      {
                        "learn": [
                          70.4493043
                        ],
                        "iteration": 481,
                        "passed_time": 121.9219065,
                        "remaining_time": 131.028107,
                        "test": [
                          83.66685705
                        ]
                      },
                      {
                        "learn": [
                          70.39150605
                        ],
                        "iteration": 482,
                        "passed_time": 122.2155427,
                        "remaining_time": 130.8187072,
                        "test": [
                          83.61851402
                        ]
                      },
                      {
                        "learn": [
                          70.33832632
                        ],
                        "iteration": 483,
                        "passed_time": 122.4719965,
                        "remaining_time": 130.5693186,
                        "test": [
                          83.57674107
                        ]
                      },
                      {
                        "learn": [
                          70.28817185
                        ],
                        "iteration": 484,
                        "passed_time": 122.7219592,
                        "remaining_time": 130.3130082,
                        "test": [
                          83.53766125
                        ]
                      },
                      {
                        "learn": [
                          70.26300108
                        ],
                        "iteration": 485,
                        "passed_time": 122.982608,
                        "remaining_time": 130.0680257,
                        "test": [
                          83.52385486
                        ]
                      },
                      {
                        "learn": [
                          70.22356973
                        ],
                        "iteration": 486,
                        "passed_time": 123.2092529,
                        "remaining_time": 129.7871596,
                        "test": [
                          83.49252481
                        ]
                      },
                      {
                        "learn": [
                          70.16850938
                        ],
                        "iteration": 487,
                        "passed_time": 123.4460463,
                        "remaining_time": 129.5171633,
                        "test": [
                          83.46400201
                        ]
                      },
                      {
                        "learn": [
                          70.13520331
                        ],
                        "iteration": 488,
                        "passed_time": 123.7099307,
                        "remaining_time": 129.2756127,
                        "test": [
                          83.44813153
                        ]
                      },
                      {
                        "learn": [
                          70.05379373
                        ],
                        "iteration": 489,
                        "passed_time": 123.9934965,
                        "remaining_time": 129.0544555,
                        "test": [
                          83.37727217
                        ]
                      },
                      {
                        "learn": [
                          70.02912056
                        ],
                        "iteration": 490,
                        "passed_time": 124.2492608,
                        "remaining_time": 128.8042235,
                        "test": [
                          83.37098924
                        ]
                      },
                      {
                        "learn": [
                          69.99282163
                        ],
                        "iteration": 491,
                        "passed_time": 124.5066322,
                        "remaining_time": 128.5556283,
                        "test": [
                          83.34232592
                        ]
                      },
                      {
                        "learn": [
                          69.93239264
                        ],
                        "iteration": 492,
                        "passed_time": 124.7746984,
                        "remaining_time": 128.3179961,
                        "test": [
                          83.30734979
                        ]
                      },
                      {
                        "learn": [
                          69.89356871
                        ],
                        "iteration": 493,
                        "passed_time": 125.0230838,
                        "remaining_time": 128.0600818,
                        "test": [
                          83.27696256
                        ]
                      },
                      {
                        "learn": [
                          69.87068606
                        ],
                        "iteration": 494,
                        "passed_time": 125.2649812,
                        "remaining_time": 127.7955868,
                        "test": [
                          83.26837203
                        ]
                      },
                      {
                        "learn": [
                          69.81411428
                        ],
                        "iteration": 495,
                        "passed_time": 125.5326655,
                        "remaining_time": 127.5573859,
                        "test": [
                          83.23643916
                        ]
                      },
                      {
                        "learn": [
                          69.77924401
                        ],
                        "iteration": 496,
                        "passed_time": 125.7907631,
                        "remaining_time": 127.3093638,
                        "test": [
                          83.21666541
                        ]
                      },
                      {
                        "learn": [
                          69.6941611
                        ],
                        "iteration": 497,
                        "passed_time": 126.0325131,
                        "remaining_time": 127.0448224,
                        "test": [
                          83.14833553
                        ]
                      },
                      {
                        "learn": [
                          69.67006376
                        ],
                        "iteration": 498,
                        "passed_time": 126.2749786,
                        "remaining_time": 126.7810907,
                        "test": [
                          83.1349298
                        ]
                      },
                      {
                        "learn": [
                          69.6417488
                        ],
                        "iteration": 499,
                        "passed_time": 126.5178797,
                        "remaining_time": 126.5178797,
                        "test": [
                          83.11579954
                        ]
                      },
                      {
                        "learn": [
                          69.58749031
                        ],
                        "iteration": 500,
                        "passed_time": 126.780221,
                        "remaining_time": 126.2741124,
                        "test": [
                          83.08274322
                        ]
                      },
                      {
                        "learn": [
                          69.56237597
                        ],
                        "iteration": 501,
                        "passed_time": 127.0249766,
                        "remaining_time": 126.0128254,
                        "test": [
                          83.06876196
                        ]
                      },
                      {
                        "learn": [
                          69.50075605
                        ],
                        "iteration": 502,
                        "passed_time": 127.313993,
                        "remaining_time": 125.795337,
                        "test": [
                          83.02240813
                        ]
                      },
                      {
                        "learn": [
                          69.45602095
                        ],
                        "iteration": 503,
                        "passed_time": 127.5733199,
                        "remaining_time": 125.5483466,
                        "test": [
                          82.99232157
                        ]
                      },
                      {
                        "learn": [
                          69.41336753
                        ],
                        "iteration": 504,
                        "passed_time": 127.8072874,
                        "remaining_time": 125.27645,
                        "test": [
                          82.96992529
                        ]
                      },
                      {
                        "learn": [
                          69.36871549
                        ],
                        "iteration": 505,
                        "passed_time": 128.0801314,
                        "remaining_time": 125.0426579,
                        "test": [
                          82.93948707
                        ]
                      },
                      {
                        "learn": [
                          69.31541895
                        ],
                        "iteration": 506,
                        "passed_time": 128.2789961,
                        "remaining_time": 124.7367753,
                        "test": [
                          82.89410907
                        ]
                      },
                      {
                        "learn": [
                          69.2798148
                        ],
                        "iteration": 507,
                        "passed_time": 128.5284607,
                        "remaining_time": 124.4803202,
                        "test": [
                          82.86898868
                        ]
                      },
                      {
                        "learn": [
                          69.2199773
                        ],
                        "iteration": 508,
                        "passed_time": 128.7671231,
                        "remaining_time": 124.2134724,
                        "test": [
                          82.83136653
                        ]
                      },
                      {
                        "learn": [
                          69.17908744
                        ],
                        "iteration": 509,
                        "passed_time": 129.0290861,
                        "remaining_time": 123.9691219,
                        "test": [
                          82.81496895
                        ]
                      },
                      {
                        "learn": [
                          69.13157106
                        ],
                        "iteration": 510,
                        "passed_time": 129.2808406,
                        "remaining_time": 123.7149336,
                        "test": [
                          82.7764412
                        ]
                      },
                      {
                        "learn": [
                          69.09330451
                        ],
                        "iteration": 511,
                        "passed_time": 129.5277581,
                        "remaining_time": 123.4561445,
                        "test": [
                          82.75850014
                        ]
                      },
                      {
                        "learn": [
                          69.06919724
                        ],
                        "iteration": 512,
                        "passed_time": 129.7869949,
                        "remaining_time": 123.2090965,
                        "test": [
                          82.74067784
                        ]
                      },
                      {
                        "learn": [
                          69.02784598
                        ],
                        "iteration": 513,
                        "passed_time": 130.043762,
                        "remaining_time": 122.9596661,
                        "test": [
                          82.71081849
                        ]
                      },
                      {
                        "learn": [
                          68.98949431
                        ],
                        "iteration": 514,
                        "passed_time": 130.3015687,
                        "remaining_time": 122.711186,
                        "test": [
                          82.67505742
                        ]
                      },
                      {
                        "learn": [
                          68.94666726
                        ],
                        "iteration": 515,
                        "passed_time": 130.5366369,
                        "remaining_time": 122.4413416,
                        "test": [
                          82.64182864
                        ]
                      },
                      {
                        "learn": [
                          68.9033649
                        ],
                        "iteration": 516,
                        "passed_time": 130.7920314,
                        "remaining_time": 122.1906212,
                        "test": [
                          82.62785721
                        ]
                      },
                      {
                        "learn": [
                          68.87093414
                        ],
                        "iteration": 517,
                        "passed_time": 131.0183435,
                        "remaining_time": 121.9128215,
                        "test": [
                          82.59460175
                        ]
                      },
                      {
                        "learn": [
                          68.82778914
                        ],
                        "iteration": 518,
                        "passed_time": 131.2620634,
                        "remaining_time": 121.6513535,
                        "test": [
                          82.56973586
                        ]
                      },
                      {
                        "learn": [
                          68.79738994
                        ],
                        "iteration": 519,
                        "passed_time": 131.5085382,
                        "remaining_time": 121.3924968,
                        "test": [
                          82.54821214
                        ]
                      },
                      {
                        "learn": [
                          68.73834571
                        ],
                        "iteration": 520,
                        "passed_time": 131.775003,
                        "remaining_time": 121.1520661,
                        "test": [
                          82.49806438
                        ]
                      },
                      {
                        "learn": [
                          68.69212856
                        ],
                        "iteration": 521,
                        "passed_time": 132.0482746,
                        "remaining_time": 120.9177687,
                        "test": [
                          82.47018578
                        ]
                      },
                      {
                        "learn": [
                          68.63817732
                        ],
                        "iteration": 522,
                        "passed_time": 132.3130041,
                        "remaining_time": 120.6755314,
                        "test": [
                          82.43593588
                        ]
                      },
                      {
                        "learn": [
                          68.57577088
                        ],
                        "iteration": 523,
                        "passed_time": 132.5727401,
                        "remaining_time": 120.4286723,
                        "test": [
                          82.39386355
                        ]
                      },
                      {
                        "learn": [
                          68.543465
                        ],
                        "iteration": 524,
                        "passed_time": 132.8305768,
                        "remaining_time": 120.1800456,
                        "test": [
                          82.3750616
                        ]
                      },
                      {
                        "learn": [
                          68.50670057
                        ],
                        "iteration": 525,
                        "passed_time": 133.0932207,
                        "remaining_time": 119.935716,
                        "test": [
                          82.35701386
                        ]
                      },
                      {
                        "learn": [
                          68.4480333
                        ],
                        "iteration": 526,
                        "passed_time": 133.3498729,
                        "remaining_time": 119.6859391,
                        "test": [
                          82.31108746
                        ]
                      },
                      {
                        "learn": [
                          68.3882771
                        ],
                        "iteration": 527,
                        "passed_time": 133.6055338,
                        "remaining_time": 119.4352499,
                        "test": [
                          82.28363107
                        ]
                      },
                      {
                        "learn": [
                          68.36076248
                        ],
                        "iteration": 528,
                        "passed_time": 133.8443413,
                        "remaining_time": 119.1695364,
                        "test": [
                          82.27147582
                        ]
                      },
                      {
                        "learn": [
                          68.31751111
                        ],
                        "iteration": 529,
                        "passed_time": 134.1027103,
                        "remaining_time": 118.9212714,
                        "test": [
                          82.2415965
                        ]
                      },
                      {
                        "learn": [
                          68.28686618
                        ],
                        "iteration": 530,
                        "passed_time": 134.3581479,
                        "remaining_time": 118.6703793,
                        "test": [
                          82.22581401
                        ]
                      },
                      {
                        "learn": [
                          68.21422628
                        ],
                        "iteration": 531,
                        "passed_time": 134.6448068,
                        "remaining_time": 118.4469353,
                        "test": [
                          82.17304621
                        ]
                      },
                      {
                        "learn": [
                          68.15794282
                        ],
                        "iteration": 532,
                        "passed_time": 134.8974443,
                        "remaining_time": 118.1934456,
                        "test": [
                          82.1400467
                        ]
                      },
                      {
                        "learn": [
                          68.1373859
                        ],
                        "iteration": 533,
                        "passed_time": 135.1537178,
                        "remaining_time": 117.943132,
                        "test": [
                          82.12434895
                        ]
                      },
                      {
                        "learn": [
                          68.11051714
                        ],
                        "iteration": 534,
                        "passed_time": 135.4044643,
                        "remaining_time": 117.6879924,
                        "test": [
                          82.10742398
                        ]
                      },
                      {
                        "learn": [
                          68.08606189
                        ],
                        "iteration": 535,
                        "passed_time": 135.6645452,
                        "remaining_time": 117.4409496,
                        "test": [
                          82.09298693
                        ]
                      },
                      {
                        "learn": [
                          68.05897253
                        ],
                        "iteration": 536,
                        "passed_time": 135.9033508,
                        "remaining_time": 117.1755147,
                        "test": [
                          82.07993424
                        ]
                      },
                      {
                        "learn": [
                          68.01486725
                        ],
                        "iteration": 537,
                        "passed_time": 136.1687672,
                        "remaining_time": 116.9330306,
                        "test": [
                          82.05247393
                        ]
                      },
                      {
                        "learn": [
                          67.97741111
                        ],
                        "iteration": 538,
                        "passed_time": 136.4320692,
                        "remaining_time": 116.6886528,
                        "test": [
                          82.03512054
                        ]
                      },
                      {
                        "learn": [
                          67.95322528
                        ],
                        "iteration": 539,
                        "passed_time": 136.67472,
                        "remaining_time": 116.4266134,
                        "test": [
                          82.02046587
                        ]
                      },
                      {
                        "learn": [
                          67.93053623
                        ],
                        "iteration": 540,
                        "passed_time": 136.9084779,
                        "remaining_time": 116.1571005,
                        "test": [
                          81.99953657
                        ]
                      },
                      {
                        "learn": [
                          67.89270431
                        ],
                        "iteration": 541,
                        "passed_time": 137.1600553,
                        "remaining_time": 115.9027774,
                        "test": [
                          81.97314404
                        ]
                      },
                      {
                        "learn": [
                          67.87259029
                        ],
                        "iteration": 542,
                        "passed_time": 137.4102726,
                        "remaining_time": 115.6473196,
                        "test": [
                          81.96002583
                        ]
                      },
                      {
                        "learn": [
                          67.8260123
                        ],
                        "iteration": 543,
                        "passed_time": 137.6532575,
                        "remaining_time": 115.3858188,
                        "test": [
                          81.91659427
                        ]
                      },
                      {
                        "learn": [
                          67.77460221
                        ],
                        "iteration": 544,
                        "passed_time": 137.9064938,
                        "remaining_time": 115.1329443,
                        "test": [
                          81.88353014
                        ]
                      },
                      {
                        "learn": [
                          67.72675827
                        ],
                        "iteration": 545,
                        "passed_time": 138.1814733,
                        "remaining_time": 114.8981482,
                        "test": [
                          81.85479144
                        ]
                      },
                      {
                        "learn": [
                          67.69194399
                        ],
                        "iteration": 546,
                        "passed_time": 138.4240779,
                        "remaining_time": 114.6363936,
                        "test": [
                          81.82839485
                        ]
                      },
                      {
                        "learn": [
                          67.65058053
                        ],
                        "iteration": 547,
                        "passed_time": 138.695328,
                        "remaining_time": 114.3983363,
                        "test": [
                          81.80463723
                        ]
                      },
                      {
                        "learn": [
                          67.617019
                        ],
                        "iteration": 548,
                        "passed_time": 138.9020307,
                        "remaining_time": 114.1071327,
                        "test": [
                          81.76934849
                        ]
                      },
                      {
                        "learn": [
                          67.58909658
                        ],
                        "iteration": 549,
                        "passed_time": 139.1464539,
                        "remaining_time": 113.8470986,
                        "test": [
                          81.75495646
                        ]
                      },
                      {
                        "learn": [
                          67.56476
                        ],
                        "iteration": 550,
                        "passed_time": 139.3942066,
                        "remaining_time": 113.5898344,
                        "test": [
                          81.74415011
                        ]
                      },
                      {
                        "learn": [
                          67.50611492
                        ],
                        "iteration": 551,
                        "passed_time": 139.6356556,
                        "remaining_time": 113.3274886,
                        "test": [
                          81.69815864
                        ]
                      },
                      {
                        "learn": [
                          67.46925051
                        ],
                        "iteration": 552,
                        "passed_time": 139.8675642,
                        "remaining_time": 113.0575067,
                        "test": [
                          81.67252675
                        ]
                      },
                      {
                        "learn": [
                          67.41500734
                        ],
                        "iteration": 553,
                        "passed_time": 140.1302711,
                        "remaining_time": 112.8124565,
                        "test": [
                          81.63714206
                        ]
                      },
                      {
                        "learn": [
                          67.38503663
                        ],
                        "iteration": 554,
                        "passed_time": 140.4515961,
                        "remaining_time": 112.6143428,
                        "test": [
                          81.61687207
                        ]
                      },
                      {
                        "learn": [
                          67.35599884
                        ],
                        "iteration": 555,
                        "passed_time": 140.6884892,
                        "remaining_time": 112.3483619,
                        "test": [
                          81.5986644
                        ]
                      },
                      {
                        "learn": [
                          67.32879235
                        ],
                        "iteration": 556,
                        "passed_time": 140.9209854,
                        "remaining_time": 112.0789884,
                        "test": [
                          81.57722652
                        ]
                      },
                      {
                        "learn": [
                          67.30206957
                        ],
                        "iteration": 557,
                        "passed_time": 141.178278,
                        "remaining_time": 111.8293887,
                        "test": [
                          81.55977591
                        ]
                      },
                      {
                        "learn": [
                          67.24017735
                        ],
                        "iteration": 558,
                        "passed_time": 141.4480813,
                        "remaining_time": 111.5896312,
                        "test": [
                          81.5150886
                        ]
                      },
                      {
                        "learn": [
                          67.21466007
                        ],
                        "iteration": 559,
                        "passed_time": 141.7120959,
                        "remaining_time": 111.3452182,
                        "test": [
                          81.5025425
                        ]
                      },
                      {
                        "learn": [
                          67.18522771
                        ],
                        "iteration": 560,
                        "passed_time": 141.9571923,
                        "remaining_time": 111.0859312,
                        "test": [
                          81.48723948
                        ]
                      },
                      {
                        "learn": [
                          67.16018766
                        ],
                        "iteration": 561,
                        "passed_time": 142.1845234,
                        "remaining_time": 110.8128492,
                        "test": [
                          81.47964332
                        ]
                      },
                      {
                        "learn": [
                          67.12775556
                        ],
                        "iteration": 562,
                        "passed_time": 142.4442632,
                        "remaining_time": 110.5650853,
                        "test": [
                          81.46477195
                        ]
                      },
                      {
                        "learn": [
                          67.09045166
                        ],
                        "iteration": 563,
                        "passed_time": 142.7046544,
                        "remaining_time": 110.3177825,
                        "test": [
                          81.44104842
                        ]
                      },
                      {
                        "learn": [
                          67.05186674
                        ],
                        "iteration": 564,
                        "passed_time": 142.9478298,
                        "remaining_time": 110.0571787,
                        "test": [
                          81.42788343
                        ]
                      },
                      {
                        "learn": [
                          67.02347232
                        ],
                        "iteration": 565,
                        "passed_time": 143.1958568,
                        "remaining_time": 109.8003566,
                        "test": [
                          81.41026059
                        ]
                      },
                      {
                        "learn": [
                          66.98292214
                        ],
                        "iteration": 566,
                        "passed_time": 143.4373695,
                        "remaining_time": 109.5385908,
                        "test": [
                          81.37942605
                        ]
                      },
                      {
                        "learn": [
                          66.93189253
                        ],
                        "iteration": 567,
                        "passed_time": 143.6852076,
                        "remaining_time": 109.2817072,
                        "test": [
                          81.34865388
                        ]
                      },
                      {
                        "learn": [
                          66.89127972
                        ],
                        "iteration": 568,
                        "passed_time": 143.9605423,
                        "remaining_time": 109.0456832,
                        "test": [
                          81.32926331
                        ]
                      },
                      {
                        "learn": [
                          66.86546332
                        ],
                        "iteration": 569,
                        "passed_time": 144.200955,
                        "remaining_time": 108.7831766,
                        "test": [
                          81.30952103
                        ]
                      },
                      {
                        "learn": [
                          66.82376858
                        ],
                        "iteration": 570,
                        "passed_time": 144.4577699,
                        "remaining_time": 108.5330706,
                        "test": [
                          81.27958067
                        ]
                      },
                      {
                        "learn": [
                          66.80424407
                        ],
                        "iteration": 571,
                        "passed_time": 144.7185319,
                        "remaining_time": 108.2858945,
                        "test": [
                          81.26393131
                        ]
                      },
                      {
                        "learn": [
                          66.75455041
                        ],
                        "iteration": 572,
                        "passed_time": 144.9684476,
                        "remaining_time": 108.0305883,
                        "test": [
                          81.23365406
                        ]
                      },
                      {
                        "learn": [
                          66.73293396
                        ],
                        "iteration": 573,
                        "passed_time": 145.2047548,
                        "remaining_time": 107.7652013,
                        "test": [
                          81.2189758
                        ]
                      },
                      {
                        "learn": [
                          66.69120391
                        ],
                        "iteration": 574,
                        "passed_time": 145.4820022,
                        "remaining_time": 107.5301756,
                        "test": [
                          81.18609234
                        ]
                      },
                      {
                        "learn": [
                          66.66099103
                        ],
                        "iteration": 575,
                        "passed_time": 145.7523255,
                        "remaining_time": 107.2899062,
                        "test": [
                          81.16448689
                        ]
                      },
                      {
                        "learn": [
                          66.62635278
                        ],
                        "iteration": 576,
                        "passed_time": 146.0077711,
                        "remaining_time": 107.0386259,
                        "test": [
                          81.1428835
                        ]
                      },
                      {
                        "learn": [
                          66.58640127
                        ],
                        "iteration": 577,
                        "passed_time": 146.278565,
                        "remaining_time": 106.798537,
                        "test": [
                          81.11243598
                        ]
                      },
                      {
                        "learn": [
                          66.55156459
                        ],
                        "iteration": 578,
                        "passed_time": 146.5436762,
                        "remaining_time": 106.5542101,
                        "test": [
                          81.08895739
                        ]
                      },
                      {
                        "learn": [
                          66.50812358
                        ],
                        "iteration": 579,
                        "passed_time": 146.8122823,
                        "remaining_time": 106.3123423,
                        "test": [
                          81.05611507
                        ]
                      },
                      {
                        "learn": [
                          66.45364939
                        ],
                        "iteration": 580,
                        "passed_time": 147.0802625,
                        "remaining_time": 106.0699311,
                        "test": [
                          81.0077093
                        ]
                      },
                      {
                        "learn": [
                          66.41421467
                        ],
                        "iteration": 581,
                        "passed_time": 147.3198997,
                        "remaining_time": 105.8070757,
                        "test": [
                          80.98541805
                        ]
                      },
                      {
                        "learn": [
                          66.38487403
                        ],
                        "iteration": 582,
                        "passed_time": 147.5857668,
                        "remaining_time": 105.5630613,
                        "test": [
                          80.96911658
                        ]
                      },
                      {
                        "learn": [
                          66.35919988
                        ],
                        "iteration": 583,
                        "passed_time": 147.8262414,
                        "remaining_time": 105.3008843,
                        "test": [
                          80.96111932
                        ]
                      },
                      {
                        "learn": [
                          66.34038705
                        ],
                        "iteration": 584,
                        "passed_time": 148.0569034,
                        "remaining_time": 105.0318203,
                        "test": [
                          80.95579651
                        ]
                      },
                      {
                        "learn": [
                          66.31678282
                        ],
                        "iteration": 585,
                        "passed_time": 148.3150789,
                        "remaining_time": 104.7823254,
                        "test": [
                          80.9444408
                        ]
                      },
                      {
                        "learn": [
                          66.29453098
                        ],
                        "iteration": 586,
                        "passed_time": 148.5723319,
                        "remaining_time": 104.5321518,
                        "test": [
                          80.92980804
                        ]
                      },
                      {
                        "learn": [
                          66.24585026
                        ],
                        "iteration": 587,
                        "passed_time": 148.8468896,
                        "remaining_time": 104.2940791,
                        "test": [
                          80.8830399
                        ]
                      },
                      {
                        "learn": [
                          66.2106548
                        ],
                        "iteration": 588,
                        "passed_time": 149.0864222,
                        "remaining_time": 104.0314423,
                        "test": [
                          80.86452191
                        ]
                      },
                      {
                        "learn": [
                          66.1510729
                        ],
                        "iteration": 589,
                        "passed_time": 149.363017,
                        "remaining_time": 103.7946389,
                        "test": [
                          80.82008969
                        ]
                      },
                      {
                        "learn": [
                          66.13529823
                        ],
                        "iteration": 590,
                        "passed_time": 149.6196917,
                        "remaining_time": 103.5439153,
                        "test": [
                          80.80757303
                        ]
                      },
                      {
                        "learn": [
                          66.10764453
                        ],
                        "iteration": 591,
                        "passed_time": 149.8650528,
                        "remaining_time": 103.2853743,
                        "test": [
                          80.79053313
                        ]
                      },
                      {
                        "learn": [
                          66.0776543
                        ],
                        "iteration": 592,
                        "passed_time": 150.129568,
                        "remaining_time": 103.0400239,
                        "test": [
                          80.77087117
                        ]
                      },
                      {
                        "learn": [
                          66.0328523
                        ],
                        "iteration": 593,
                        "passed_time": 150.3781971,
                        "remaining_time": 102.7837509,
                        "test": [
                          80.74549863
                        ]
                      },
                      {
                        "learn": [
                          65.9854418
                        ],
                        "iteration": 594,
                        "passed_time": 150.6184756,
                        "remaining_time": 102.5218195,
                        "test": [
                          80.72416806
                        ]
                      },
                      {
                        "learn": [
                          65.95419648
                        ],
                        "iteration": 595,
                        "passed_time": 150.8659705,
                        "remaining_time": 102.2648525,
                        "test": [
                          80.70034862
                        ]
                      },
                      {
                        "learn": [
                          65.90294047
                        ],
                        "iteration": 596,
                        "passed_time": 151.1404673,
                        "remaining_time": 102.0261446,
                        "test": [
                          80.66781585
                        ]
                      },
                      {
                        "learn": [
                          65.85549904
                        ],
                        "iteration": 597,
                        "passed_time": 151.4041233,
                        "remaining_time": 101.7800294,
                        "test": [
                          80.62987058
                        ]
                      },
                      {
                        "learn": [
                          65.80162423
                        ],
                        "iteration": 598,
                        "passed_time": 151.6759789,
                        "remaining_time": 101.5393448,
                        "test": [
                          80.59627071
                        ]
                      },
                      {
                        "learn": [
                          65.76473253
                        ],
                        "iteration": 599,
                        "passed_time": 151.9331072,
                        "remaining_time": 101.2887381,
                        "test": [
                          80.56806464
                        ]
                      },
                      {
                        "learn": [
                          65.73315558
                        ],
                        "iteration": 600,
                        "passed_time": 152.1750093,
                        "remaining_time": 101.0280012,
                        "test": [
                          80.55264708
                        ]
                      },
                      {
                        "learn": [
                          65.67702956
                        ],
                        "iteration": 601,
                        "passed_time": 152.4392056,
                        "remaining_time": 100.7820662,
                        "test": [
                          80.51061068
                        ]
                      },
                      {
                        "learn": [
                          65.62152238
                        ],
                        "iteration": 602,
                        "passed_time": 152.701589,
                        "remaining_time": 100.534877,
                        "test": [
                          80.479329
                        ]
                      },
                      {
                        "learn": [
                          65.59448355
                        ],
                        "iteration": 603,
                        "passed_time": 152.9382678,
                        "remaining_time": 100.2707848,
                        "test": [
                          80.47085356
                        ]
                      },
                      {
                        "learn": [
                          65.54258581
                        ],
                        "iteration": 604,
                        "passed_time": 153.1899023,
                        "remaining_time": 100.0165478,
                        "test": [
                          80.43144344
                        ]
                      },
                      {
                        "learn": [
                          65.51252325
                        ],
                        "iteration": 605,
                        "passed_time": 153.4536093,
                        "remaining_time": 99.77016844,
                        "test": [
                          80.41711558
                        ]
                      },
                      {
                        "learn": [
                          65.47686581
                        ],
                        "iteration": 606,
                        "passed_time": 153.7130335,
                        "remaining_time": 99.52095911,
                        "test": [
                          80.39918048
                        ]
                      },
                      {
                        "learn": [
                          65.45944156
                        ],
                        "iteration": 607,
                        "passed_time": 153.9649843,
                        "remaining_time": 99.26689776,
                        "test": [
                          80.38620776
                        ]
                      },
                      {
                        "learn": [
                          65.4245137
                        ],
                        "iteration": 608,
                        "passed_time": 154.2357299,
                        "remaining_time": 99.02491035,
                        "test": [
                          80.36396903
                        ]
                      },
                      {
                        "learn": [
                          65.40205282
                        ],
                        "iteration": 609,
                        "passed_time": 154.4891124,
                        "remaining_time": 98.77172759,
                        "test": [
                          80.35305848
                        ]
                      },
                      {
                        "learn": [
                          65.37810739
                        ],
                        "iteration": 610,
                        "passed_time": 154.7255987,
                        "remaining_time": 98.50778704,
                        "test": [
                          80.33776937
                        ]
                      },
                      {
                        "learn": [
                          65.33236702
                        ],
                        "iteration": 611,
                        "passed_time": 154.9888048,
                        "remaining_time": 98.26087628,
                        "test": [
                          80.30759307
                        ]
                      },
                      {
                        "learn": [
                          65.30872134
                        ],
                        "iteration": 612,
                        "passed_time": 155.2390989,
                        "remaining_time": 98.00576064,
                        "test": [
                          80.29154101
                        ]
                      },
                      {
                        "learn": [
                          65.28823622
                        ],
                        "iteration": 613,
                        "passed_time": 155.4839849,
                        "remaining_time": 97.74726086,
                        "test": [
                          80.27698279
                        ]
                      },
                      {
                        "learn": [
                          65.26090382
                        ],
                        "iteration": 614,
                        "passed_time": 155.7476211,
                        "remaining_time": 97.5005433,
                        "test": [
                          80.25983024
                        ]
                      },
                      {
                        "learn": [
                          65.24272932
                        ],
                        "iteration": 615,
                        "passed_time": 155.9810328,
                        "remaining_time": 97.23492956,
                        "test": [
                          80.24807969
                        ]
                      },
                      {
                        "learn": [
                          65.22063854
                        ],
                        "iteration": 616,
                        "passed_time": 156.222979,
                        "remaining_time": 96.9747179,
                        "test": [
                          80.23343454
                        ]
                      },
                      {
                        "learn": [
                          65.17230148
                        ],
                        "iteration": 617,
                        "passed_time": 156.4706428,
                        "remaining_time": 96.71809958,
                        "test": [
                          80.20481227
                        ]
                      },
                      {
                        "learn": [
                          65.14634172
                        ],
                        "iteration": 618,
                        "passed_time": 156.7355172,
                        "remaining_time": 96.47210349,
                        "test": [
                          80.18902038
                        ]
                      },
                      {
                        "learn": [
                          65.11890107
                        ],
                        "iteration": 619,
                        "passed_time": 156.9798612,
                        "remaining_time": 96.21346333,
                        "test": [
                          80.17582383
                        ]
                      },
                      {
                        "learn": [
                          65.10194113
                        ],
                        "iteration": 620,
                        "passed_time": 157.2148366,
                        "remaining_time": 95.94915149,
                        "test": [
                          80.15969791
                        ]
                      },
                      {
                        "learn": [
                          65.06719174
                        ],
                        "iteration": 621,
                        "passed_time": 157.4553081,
                        "remaining_time": 95.68827403,
                        "test": [
                          80.14003153
                        ]
                      },
                      {
                        "learn": [
                          65.04275983
                        ],
                        "iteration": 622,
                        "passed_time": 157.7124748,
                        "remaining_time": 95.437565,
                        "test": [
                          80.13281813
                        ]
                      },
                      {
                        "learn": [
                          65.02183736
                        ],
                        "iteration": 623,
                        "passed_time": 157.9473585,
                        "remaining_time": 95.1734083,
                        "test": [
                          80.12093814
                        ]
                      },
                      {
                        "learn": [
                          64.99512718
                        ],
                        "iteration": 624,
                        "passed_time": 158.1856192,
                        "remaining_time": 94.91137149,
                        "test": [
                          80.10182437
                        ]
                      },
                      {
                        "learn": [
                          64.96654888
                        ],
                        "iteration": 625,
                        "passed_time": 158.4284978,
                        "remaining_time": 94.65216964,
                        "test": [
                          80.08371966
                        ]
                      },
                      {
                        "learn": [
                          64.92771027
                        ],
                        "iteration": 626,
                        "passed_time": 158.6690051,
                        "remaining_time": 94.39160909,
                        "test": [
                          80.06360293
                        ]
                      },
                      {
                        "learn": [
                          64.89608517
                        ],
                        "iteration": 627,
                        "passed_time": 158.929531,
                        "remaining_time": 94.14297061,
                        "test": [
                          80.04224118
                        ]
                      },
                      {
                        "learn": [
                          64.86867308
                        ],
                        "iteration": 628,
                        "passed_time": 159.1870987,
                        "remaining_time": 93.89254947,
                        "test": [
                          80.02080241
                        ]
                      },
                      {
                        "learn": [
                          64.85038132
                        ],
                        "iteration": 629,
                        "passed_time": 159.415123,
                        "remaining_time": 93.6247548,
                        "test": [
                          80.00878293
                        ]
                      },
                      {
                        "learn": [
                          64.81235374
                        ],
                        "iteration": 630,
                        "passed_time": 159.6818604,
                        "remaining_time": 93.37972501,
                        "test": [
                          79.98287131
                        ]
                      },
                      {
                        "learn": [
                          64.78070659
                        ],
                        "iteration": 631,
                        "passed_time": 159.9365607,
                        "remaining_time": 93.12761761,
                        "test": [
                          79.96180524
                        ]
                      },
                      {
                        "learn": [
                          64.75910699
                        ],
                        "iteration": 632,
                        "passed_time": 160.2262503,
                        "remaining_time": 92.8957881,
                        "test": [
                          79.95498027
                        ]
                      },
                      {
                        "learn": [
                          64.72935903
                        ],
                        "iteration": 633,
                        "passed_time": 160.4957239,
                        "remaining_time": 92.65210562,
                        "test": [
                          79.93802837
                        ]
                      },
                      {
                        "learn": [
                          64.67953952
                        ],
                        "iteration": 634,
                        "passed_time": 160.7536688,
                        "remaining_time": 92.40171514,
                        "test": [
                          79.89565271
                        ]
                      },
                      {
                        "learn": [
                          64.63252963
                        ],
                        "iteration": 635,
                        "passed_time": 161.0311904,
                        "remaining_time": 92.16250518,
                        "test": [
                          79.86241892
                        ]
                      },
                      {
                        "learn": [
                          64.59797441
                        ],
                        "iteration": 636,
                        "passed_time": 161.2939037,
                        "remaining_time": 91.91473636,
                        "test": [
                          79.83922408
                        ]
                      },
                      {
                        "learn": [
                          64.56400724
                        ],
                        "iteration": 637,
                        "passed_time": 161.5408142,
                        "remaining_time": 91.65795411,
                        "test": [
                          79.82279579
                        ]
                      },
                      {
                        "learn": [
                          64.53299746
                        ],
                        "iteration": 638,
                        "passed_time": 161.792256,
                        "remaining_time": 91.40376279,
                        "test": [
                          79.80482248
                        ]
                      },
                      {
                        "learn": [
                          64.50737767
                        ],
                        "iteration": 639,
                        "passed_time": 162.0377534,
                        "remaining_time": 91.14623627,
                        "test": [
                          79.79231346
                        ]
                      },
                      {
                        "learn": [
                          64.45149044
                        ],
                        "iteration": 640,
                        "passed_time": 162.2417659,
                        "remaining_time": 90.86551318,
                        "test": [
                          79.7497411
                        ]
                      },
                      {
                        "learn": [
                          64.41393131
                        ],
                        "iteration": 641,
                        "passed_time": 162.4954515,
                        "remaining_time": 90.61272839,
                        "test": [
                          79.72719756
                        ]
                      },
                      {
                        "learn": [
                          64.36905016
                        ],
                        "iteration": 642,
                        "passed_time": 162.7997394,
                        "remaining_time": 90.3880357,
                        "test": [
                          79.69656727
                        ]
                      },
                      {
                        "learn": [
                          64.33400347
                        ],
                        "iteration": 643,
                        "passed_time": 163.0560038,
                        "remaining_time": 90.13654866,
                        "test": [
                          79.67100782
                        ]
                      },
                      {
                        "learn": [
                          64.27578009
                        ],
                        "iteration": 644,
                        "passed_time": 163.3398321,
                        "remaining_time": 89.90021768,
                        "test": [
                          79.62983203
                        ]
                      },
                      {
                        "learn": [
                          64.24811321
                        ],
                        "iteration": 645,
                        "passed_time": 163.5857467,
                        "remaining_time": 89.64296338,
                        "test": [
                          79.61752652
                        ]
                      },
                      {
                        "learn": [
                          64.20101955
                        ],
                        "iteration": 646,
                        "passed_time": 163.7814588,
                        "remaining_time": 89.35835387,
                        "test": [
                          79.57496026
                        ]
                      },
                      {
                        "learn": [
                          64.17263115
                        ],
                        "iteration": 647,
                        "passed_time": 164.0479188,
                        "remaining_time": 89.11244973,
                        "test": [
                          79.55927851
                        ]
                      },
                      {
                        "learn": [
                          64.14613336
                        ],
                        "iteration": 648,
                        "passed_time": 164.2834494,
                        "remaining_time": 88.8497546,
                        "test": [
                          79.53454806
                        ]
                      },
                      {
                        "learn": [
                          64.12087082
                        ],
                        "iteration": 649,
                        "passed_time": 164.5138184,
                        "remaining_time": 88.58436374,
                        "test": [
                          79.51904975
                        ]
                      },
                      {
                        "learn": [
                          64.08764776
                        ],
                        "iteration": 650,
                        "passed_time": 164.766475,
                        "remaining_time": 88.33102882,
                        "test": [
                          79.49926477
                        ]
                      },
                      {
                        "learn": [
                          64.03086183
                        ],
                        "iteration": 651,
                        "passed_time": 164.9988476,
                        "remaining_time": 88.0668696,
                        "test": [
                          79.46574549
                        ]
                      },
                      {
                        "learn": [
                          63.99841948
                        ],
                        "iteration": 652,
                        "passed_time": 165.2431193,
                        "remaining_time": 87.80913079,
                        "test": [
                          79.44365222
                        ]
                      },
                      {
                        "learn": [
                          63.98169283
                        ],
                        "iteration": 653,
                        "passed_time": 165.4877399,
                        "remaining_time": 87.55161773,
                        "test": [
                          79.43312623
                        ]
                      },
                      {
                        "learn": [
                          63.94897761
                        ],
                        "iteration": 654,
                        "passed_time": 165.7396353,
                        "remaining_time": 87.29797586,
                        "test": [
                          79.41319207
                        ]
                      },
                      {
                        "learn": [
                          63.89065895
                        ],
                        "iteration": 655,
                        "passed_time": 165.9976244,
                        "remaining_time": 87.04753477,
                        "test": [
                          79.37763113
                        ]
                      },
                      {
                        "learn": [
                          63.8398745
                        ],
                        "iteration": 656,
                        "passed_time": 166.2589584,
                        "remaining_time": 86.79881695,
                        "test": [
                          79.33542378
                        ]
                      },
                      {
                        "learn": [
                          63.81468203
                        ],
                        "iteration": 657,
                        "passed_time": 166.5062106,
                        "remaining_time": 86.5427417,
                        "test": [
                          79.32160151
                        ]
                      },
                      {
                        "learn": [
                          63.7772028
                        ],
                        "iteration": 658,
                        "passed_time": 166.745303,
                        "remaining_time": 86.28247088,
                        "test": [
                          79.29831646
                        ]
                      },
                      {
                        "learn": [
                          63.70107066
                        ],
                        "iteration": 659,
                        "passed_time": 167.0049585,
                        "remaining_time": 86.03285743,
                        "test": [
                          79.24368731
                        ]
                      },
                      {
                        "learn": [
                          63.67190407
                        ],
                        "iteration": 660,
                        "passed_time": 167.2476313,
                        "remaining_time": 85.77450379,
                        "test": [
                          79.22716355
                        ]
                      },
                      {
                        "learn": [
                          63.63940828
                        ],
                        "iteration": 661,
                        "passed_time": 167.5015099,
                        "remaining_time": 85.52191895,
                        "test": [
                          79.20813034
                        ]
                      },
                      {
                        "learn": [
                          63.5865781
                        ],
                        "iteration": 662,
                        "passed_time": 167.7634058,
                        "remaining_time": 85.27340535,
                        "test": [
                          79.16528788
                        ]
                      },
                      {
                        "learn": [
                          63.55695985
                        ],
                        "iteration": 663,
                        "passed_time": 168.0188088,
                        "remaining_time": 85.02156588,
                        "test": [
                          79.14902818
                        ]
                      },
                      {
                        "learn": [
                          63.54726783
                        ],
                        "iteration": 664,
                        "passed_time": 168.2563311,
                        "remaining_time": 84.76070817,
                        "test": [
                          79.14338719
                        ]
                      },
                      {
                        "learn": [
                          63.53431039
                        ],
                        "iteration": 665,
                        "passed_time": 168.4983757,
                        "remaining_time": 84.50218843,
                        "test": [
                          79.13546988
                        ]
                      },
                      {
                        "learn": [
                          63.51718694
                        ],
                        "iteration": 666,
                        "passed_time": 168.7524959,
                        "remaining_time": 84.24974681,
                        "test": [
                          79.13071751
                        ]
                      },
                      {
                        "learn": [
                          63.47362002
                        ],
                        "iteration": 667,
                        "passed_time": 169.0011566,
                        "remaining_time": 83.99458684,
                        "test": [
                          79.09466475
                        ]
                      },
                      {
                        "learn": [
                          63.43664159
                        ],
                        "iteration": 668,
                        "passed_time": 169.2730885,
                        "remaining_time": 83.75096006,
                        "test": [
                          79.06398191
                        ]
                      },
                      {
                        "learn": [
                          63.40490791
                        ],
                        "iteration": 669,
                        "passed_time": 169.551371,
                        "remaining_time": 83.51037677,
                        "test": [
                          79.03808551
                        ]
                      },
                      {
                        "learn": [
                          63.37239529
                        ],
                        "iteration": 670,
                        "passed_time": 169.824156,
                        "remaining_time": 83.26698559,
                        "test": [
                          79.01697222
                        ]
                      },
                      {
                        "learn": [
                          63.33136492
                        ],
                        "iteration": 671,
                        "passed_time": 170.0662638,
                        "remaining_time": 83.0085335,
                        "test": [
                          78.9782338
                        ]
                      },
                      {
                        "learn": [
                          63.30405668
                        ],
                        "iteration": 672,
                        "passed_time": 170.3199523,
                        "remaining_time": 82.75575692,
                        "test": [
                          78.96001604
                        ]
                      },
                      {
                        "learn": [
                          63.26967802
                        ],
                        "iteration": 673,
                        "passed_time": 170.5778903,
                        "remaining_time": 82.50503299,
                        "test": [
                          78.94050067
                        ]
                      },
                      {
                        "learn": [
                          63.24896866
                        ],
                        "iteration": 674,
                        "passed_time": 170.8506028,
                        "remaining_time": 82.26140137,
                        "test": [
                          78.93108064
                        ]
                      },
                      {
                        "learn": [
                          63.21027614
                        ],
                        "iteration": 675,
                        "passed_time": 171.115349,
                        "remaining_time": 82.01386549,
                        "test": [
                          78.91240195
                        ]
                      },
                      {
                        "learn": [
                          63.17176321
                        ],
                        "iteration": 676,
                        "passed_time": 171.3795106,
                        "remaining_time": 81.76599987,
                        "test": [
                          78.8811377
                        ]
                      },
                      {
                        "learn": [
                          63.14789851
                        ],
                        "iteration": 677,
                        "passed_time": 171.6198707,
                        "remaining_time": 81.50678227,
                        "test": [
                          78.8690169
                        ]
                      },
                      {
                        "learn": [
                          63.1228669
                        ],
                        "iteration": 678,
                        "passed_time": 171.8962237,
                        "remaining_time": 81.26463596,
                        "test": [
                          78.85313042
                        ]
                      },
                      {
                        "learn": [
                          63.08271977
                        ],
                        "iteration": 679,
                        "passed_time": 172.1617375,
                        "remaining_time": 81.01728822,
                        "test": [
                          78.82520169
                        ]
                      },
                      {
                        "learn": [
                          63.03508494
                        ],
                        "iteration": 680,
                        "passed_time": 172.4592592,
                        "remaining_time": 80.78488058,
                        "test": [
                          78.77601679
                        ]
                      },
                      {
                        "learn": [
                          62.9995126
                        ],
                        "iteration": 681,
                        "passed_time": 172.7327503,
                        "remaining_time": 80.54107711,
                        "test": [
                          78.75152356
                        ]
                      },
                      {
                        "learn": [
                          62.97736756
                        ],
                        "iteration": 682,
                        "passed_time": 172.9960268,
                        "remaining_time": 80.29244584,
                        "test": [
                          78.74324872
                        ]
                      },
                      {
                        "learn": [
                          62.95171155
                        ],
                        "iteration": 683,
                        "passed_time": 173.2492433,
                        "remaining_time": 80.0391241,
                        "test": [
                          78.72734894
                        ]
                      },
                      {
                        "learn": [
                          62.93132836
                        ],
                        "iteration": 684,
                        "passed_time": 173.5003916,
                        "remaining_time": 79.78485163,
                        "test": [
                          78.71284383
                        ]
                      },
                      {
                        "learn": [
                          62.91163413
                        ],
                        "iteration": 685,
                        "passed_time": 173.7369567,
                        "remaining_time": 79.52391315,
                        "test": [
                          78.69658333
                        ]
                      },
                      {
                        "learn": [
                          62.87480176
                        ],
                        "iteration": 686,
                        "passed_time": 173.9982473,
                        "remaining_time": 79.27431062,
                        "test": [
                          78.67170262
                        ]
                      },
                      {
                        "learn": [
                          62.81819653
                        ],
                        "iteration": 687,
                        "passed_time": 174.2711488,
                        "remaining_time": 79.02993959,
                        "test": [
                          78.63631444
                        ]
                      },
                      {
                        "learn": [
                          62.79361927
                        ],
                        "iteration": 688,
                        "passed_time": 174.5196823,
                        "remaining_time": 78.7744865,
                        "test": [
                          78.6204011
                        ]
                      },
                      {
                        "learn": [
                          62.75524476
                        ],
                        "iteration": 689,
                        "passed_time": 174.7909943,
                        "remaining_time": 78.5292873,
                        "test": [
                          78.60415374
                        ]
                      },
                      {
                        "learn": [
                          62.71802731
                        ],
                        "iteration": 690,
                        "passed_time": 175.0529332,
                        "remaining_time": 78.27982107,
                        "test": [
                          78.5754061
                        ]
                      },
                      {
                        "learn": [
                          62.69299604
                        ],
                        "iteration": 691,
                        "passed_time": 175.3228459,
                        "remaining_time": 78.03386781,
                        "test": [
                          78.56363771
                        ]
                      },
                      {
                        "learn": [
                          62.65563281
                        ],
                        "iteration": 692,
                        "passed_time": 175.59332,
                        "remaining_time": 77.78809415,
                        "test": [
                          78.5461756
                        ]
                      },
                      {
                        "learn": [
                          62.60065546
                        ],
                        "iteration": 693,
                        "passed_time": 175.8529901,
                        "remaining_time": 77.53748554,
                        "test": [
                          78.51138513
                        ]
                      },
                      {
                        "learn": [
                          62.56980782
                        ],
                        "iteration": 694,
                        "passed_time": 176.1122693,
                        "remaining_time": 77.28667934,
                        "test": [
                          78.48836471
                        ]
                      },
                      {
                        "learn": [
                          62.54215691
                        ],
                        "iteration": 695,
                        "passed_time": 176.3591151,
                        "remaining_time": 77.03041807,
                        "test": [
                          78.47410232
                        ]
                      },
                      {
                        "learn": [
                          62.53081929
                        ],
                        "iteration": 696,
                        "passed_time": 176.5872708,
                        "remaining_time": 76.76605891,
                        "test": [
                          78.46743487
                        ]
                      },
                      {
                        "learn": [
                          62.49416079
                        ],
                        "iteration": 697,
                        "passed_time": 176.8561464,
                        "remaining_time": 76.51942149,
                        "test": [
                          78.43367678
                        ]
                      },
                      {
                        "learn": [
                          62.43346239
                        ],
                        "iteration": 698,
                        "passed_time": 177.1212296,
                        "remaining_time": 76.27108742,
                        "test": [
                          78.39201692
                        ]
                      },
                      {
                        "learn": [
                          62.40963546
                        ],
                        "iteration": 699,
                        "passed_time": 177.3694413,
                        "remaining_time": 76.01547485,
                        "test": [
                          78.38246624
                        ]
                      },
                      {
                        "learn": [
                          62.36236615
                        ],
                        "iteration": 700,
                        "passed_time": 177.6245208,
                        "remaining_time": 75.76281272,
                        "test": [
                          78.34662768
                        ]
                      },
                      {
                        "learn": [
                          62.335811
                        ],
                        "iteration": 701,
                        "passed_time": 177.8725617,
                        "remaining_time": 75.50715584,
                        "test": [
                          78.32438877
                        ]
                      },
                      {
                        "learn": [
                          62.30622924
                        ],
                        "iteration": 702,
                        "passed_time": 178.1262596,
                        "remaining_time": 75.25391054,
                        "test": [
                          78.30377146
                        ]
                      },
                      {
                        "learn": [
                          62.26885291
                        ],
                        "iteration": 703,
                        "passed_time": 178.3705499,
                        "remaining_time": 74.99670847,
                        "test": [
                          78.28585445
                        ]
                      },
                      {
                        "learn": [
                          62.22979048
                        ],
                        "iteration": 704,
                        "passed_time": 178.6279326,
                        "remaining_time": 74.74502144,
                        "test": [
                          78.25802716
                        ]
                      },
                      {
                        "learn": [
                          62.1925747
                        ],
                        "iteration": 705,
                        "passed_time": 178.8813723,
                        "remaining_time": 74.49167629,
                        "test": [
                          78.2237936
                        ]
                      },
                      {
                        "learn": [
                          62.17824363
                        ],
                        "iteration": 706,
                        "passed_time": 179.1321467,
                        "remaining_time": 74.23722627,
                        "test": [
                          78.21335074
                        ]
                      },
                      {
                        "learn": [
                          62.14799502
                        ],
                        "iteration": 707,
                        "passed_time": 179.3853509,
                        "remaining_time": 73.98378879,
                        "test": [
                          78.19697421
                        ]
                      },
                      {
                        "learn": [
                          62.13273761
                        ],
                        "iteration": 708,
                        "passed_time": 179.6212799,
                        "remaining_time": 73.72326158,
                        "test": [
                          78.18539625
                        ]
                      },
                      {
                        "learn": [
                          62.08448626
                        ],
                        "iteration": 709,
                        "passed_time": 179.8820409,
                        "remaining_time": 73.4729463,
                        "test": [
                          78.15289582
                        ]
                      },
                      {
                        "learn": [
                          62.05874215
                        ],
                        "iteration": 710,
                        "passed_time": 180.1209685,
                        "remaining_time": 73.213727,
                        "test": [
                          78.13226573
                        ]
                      },
                      {
                        "learn": [
                          62.04484269
                        ],
                        "iteration": 711,
                        "passed_time": 180.3738335,
                        "remaining_time": 72.9602023,
                        "test": [
                          78.11724421
                        ]
                      },
                      {
                        "learn": [
                          62.02839182
                        ],
                        "iteration": 712,
                        "passed_time": 180.6117043,
                        "remaining_time": 72.70064396,
                        "test": [
                          78.10495209
                        ]
                      },
                      {
                        "learn": [
                          61.99638739
                        ],
                        "iteration": 713,
                        "passed_time": 180.8894418,
                        "remaining_time": 72.45711535,
                        "test": [
                          78.08421186
                        ]
                      },
                      {
                        "learn": [
                          61.94649167
                        ],
                        "iteration": 714,
                        "passed_time": 181.1452217,
                        "remaining_time": 72.20473872,
                        "test": [
                          78.03934248
                        ]
                      },
                      {
                        "learn": [
                          61.92518363
                        ],
                        "iteration": 715,
                        "passed_time": 181.3900177,
                        "remaining_time": 71.94799586,
                        "test": [
                          78.03173983
                        ]
                      },
                      {
                        "learn": [
                          61.89207813
                        ],
                        "iteration": 716,
                        "passed_time": 181.6523313,
                        "remaining_time": 71.69820048,
                        "test": [
                          78.0054479
                        ]
                      },
                      {
                        "learn": [
                          61.84465422
                        ],
                        "iteration": 717,
                        "passed_time": 181.9177663,
                        "remaining_time": 71.44959622,
                        "test": [
                          77.97991971
                        ]
                      },
                      {
                        "learn": [
                          61.81577358
                        ],
                        "iteration": 718,
                        "passed_time": 182.1842121,
                        "remaining_time": 71.20134021,
                        "test": [
                          77.96312809
                        ]
                      },
                      {
                        "learn": [
                          61.79032805
                        ],
                        "iteration": 719,
                        "passed_time": 182.4350553,
                        "remaining_time": 70.94696595,
                        "test": [
                          77.94547043
                        ]
                      },
                      {
                        "learn": [
                          61.75061373
                        ],
                        "iteration": 720,
                        "passed_time": 182.6910735,
                        "remaining_time": 70.69460402,
                        "test": [
                          77.91312632
                        ]
                      },
                      {
                        "learn": [
                          61.7203482
                        ],
                        "iteration": 721,
                        "passed_time": 182.9709232,
                        "remaining_time": 70.45140811,
                        "test": [
                          77.89806661
                        ]
                      },
                      {
                        "learn": [
                          61.67947325
                        ],
                        "iteration": 722,
                        "passed_time": 183.2572825,
                        "remaining_time": 70.21060478,
                        "test": [
                          77.87532908
                        ]
                      },
                      {
                        "learn": [
                          61.64057746
                        ],
                        "iteration": 723,
                        "passed_time": 183.5060364,
                        "remaining_time": 69.95533983,
                        "test": [
                          77.8500474
                        ]
                      },
                      {
                        "learn": [
                          61.60619698
                        ],
                        "iteration": 724,
                        "passed_time": 183.746778,
                        "remaining_time": 69.69705371,
                        "test": [
                          77.82584946
                        ]
                      },
                      {
                        "learn": [
                          61.57183593
                        ],
                        "iteration": 725,
                        "passed_time": 184.001869,
                        "remaining_time": 69.44423156,
                        "test": [
                          77.8073252
                        ]
                      },
                      {
                        "learn": [
                          61.5448856
                        ],
                        "iteration": 726,
                        "passed_time": 184.2191709,
                        "remaining_time": 69.17721273,
                        "test": [
                          77.79023138
                        ]
                      },
                      {
                        "learn": [
                          61.52546394
                        ],
                        "iteration": 727,
                        "passed_time": 184.4654,
                        "remaining_time": 68.92113846,
                        "test": [
                          77.7742917
                        ]
                      },
                      {
                        "learn": [
                          61.48937668
                        ],
                        "iteration": 728,
                        "passed_time": 184.7273969,
                        "remaining_time": 68.67095276,
                        "test": [
                          77.7454085
                        ]
                      },
                      {
                        "learn": [
                          61.46153634
                        ],
                        "iteration": 729,
                        "passed_time": 184.9571849,
                        "remaining_time": 68.40882183,
                        "test": [
                          77.7390946
                        ]
                      },
                      {
                        "learn": [
                          61.43185361
                        ],
                        "iteration": 730,
                        "passed_time": 185.2291628,
                        "remaining_time": 68.16230478,
                        "test": [
                          77.72596756
                        ]
                      },
                      {
                        "learn": [
                          61.39448211
                        ],
                        "iteration": 731,
                        "passed_time": 185.4836549,
                        "remaining_time": 67.90931627,
                        "test": [
                          77.70507721
                        ]
                      },
                      {
                        "learn": [
                          61.36589599
                        ],
                        "iteration": 732,
                        "passed_time": 185.7870108,
                        "remaining_time": 67.67412262,
                        "test": [
                          77.6825975
                        ]
                      },
                      {
                        "learn": [
                          61.35002026
                        ],
                        "iteration": 733,
                        "passed_time": 186.0557382,
                        "remaining_time": 67.42619397,
                        "test": [
                          77.6727718
                        ]
                      },
                      {
                        "learn": [
                          61.32799828
                        ],
                        "iteration": 734,
                        "passed_time": 186.3041818,
                        "remaining_time": 67.17089548,
                        "test": [
                          77.65791456
                        ]
                      },
                      {
                        "learn": [
                          61.30085281
                        ],
                        "iteration": 735,
                        "passed_time": 186.5462153,
                        "remaining_time": 66.91331635,
                        "test": [
                          77.64213149
                        ]
                      },
                      {
                        "learn": [
                          61.28110286
                        ],
                        "iteration": 736,
                        "passed_time": 186.7899956,
                        "remaining_time": 66.65640277,
                        "test": [
                          77.63236602
                        ]
                      },
                      {
                        "learn": [
                          61.2602311
                        ],
                        "iteration": 737,
                        "passed_time": 187.0306085,
                        "remaining_time": 66.39840032,
                        "test": [
                          77.62455195
                        ]
                      },
                      {
                        "learn": [
                          61.23934963
                        ],
                        "iteration": 738,
                        "passed_time": 187.2615816,
                        "remaining_time": 66.13704034,
                        "test": [
                          77.6140448
                        ]
                      },
                      {
                        "learn": [
                          61.2175287
                        ],
                        "iteration": 739,
                        "passed_time": 187.5255705,
                        "remaining_time": 65.88736262,
                        "test": [
                          77.60060649
                        ]
                      },
                      {
                        "learn": [
                          61.19416104
                        ],
                        "iteration": 740,
                        "passed_time": 187.7755672,
                        "remaining_time": 65.63275562,
                        "test": [
                          77.58709638
                        ]
                      },
                      {
                        "learn": [
                          61.15541286
                        ],
                        "iteration": 741,
                        "passed_time": 188.0619289,
                        "remaining_time": 65.39080547,
                        "test": [
                          77.56339692
                        ]
                      },
                      {
                        "learn": [
                          61.13074285
                        ],
                        "iteration": 742,
                        "passed_time": 188.3051522,
                        "remaining_time": 65.13381442,
                        "test": [
                          77.54660507
                        ]
                      },
                      {
                        "learn": [
                          61.11820696
                        ],
                        "iteration": 743,
                        "passed_time": 188.5400117,
                        "remaining_time": 64.87398251,
                        "test": [
                          77.53746554
                        ]
                      },
                      {
                        "learn": [
                          61.08230995
                        ],
                        "iteration": 744,
                        "passed_time": 188.7844012,
                        "remaining_time": 64.61747962,
                        "test": [
                          77.51188549
                        ]
                      },
                      {
                        "learn": [
                          61.05540321
                        ],
                        "iteration": 745,
                        "passed_time": 189.0356936,
                        "remaining_time": 64.36335949,
                        "test": [
                          77.49475924
                        ]
                      },
                      {
                        "learn": [
                          61.02853397
                        ],
                        "iteration": 746,
                        "passed_time": 189.2801132,
                        "remaining_time": 64.10691919,
                        "test": [
                          77.47704394
                        ]
                      },
                      {
                        "learn": [
                          61.01055912
                        ],
                        "iteration": 747,
                        "passed_time": 189.5237612,
                        "remaining_time": 63.85025111,
                        "test": [
                          77.46787983
                        ]
                      },
                      {
                        "learn": [
                          60.97780729
                        ],
                        "iteration": 748,
                        "passed_time": 189.7629843,
                        "remaining_time": 63.59213491,
                        "test": [
                          77.45289731
                        ]
                      },
                      {
                        "learn": [
                          60.95401739
                        ],
                        "iteration": 749,
                        "passed_time": 190.0159642,
                        "remaining_time": 63.33865473,
                        "test": [
                          77.4380593
                        ]
                      },
                      {
                        "learn": [
                          60.92061837
                        ],
                        "iteration": 750,
                        "passed_time": 190.2772039,
                        "remaining_time": 63.08791448,
                        "test": [
                          77.42024093
                        ]
                      },
                      {
                        "learn": [
                          60.8843679
                        ],
                        "iteration": 751,
                        "passed_time": 190.5408372,
                        "remaining_time": 62.83793568,
                        "test": [
                          77.4014926
                        ]
                      },
                      {
                        "learn": [
                          60.85396075
                        ],
                        "iteration": 752,
                        "passed_time": 190.7872024,
                        "remaining_time": 62.5822563,
                        "test": [
                          77.37377756
                        ]
                      },
                      {
                        "learn": [
                          60.81429973
                        ],
                        "iteration": 753,
                        "passed_time": 191.0635787,
                        "remaining_time": 62.33639304,
                        "test": [
                          77.34813928
                        ]
                      },
                      {
                        "learn": [
                          60.78476783
                        ],
                        "iteration": 754,
                        "passed_time": 191.3208076,
                        "remaining_time": 62.08423559,
                        "test": [
                          77.33148111
                        ]
                      },
                      {
                        "learn": [
                          60.75598878
                        ],
                        "iteration": 755,
                        "passed_time": 191.58718,
                        "remaining_time": 61.83501577,
                        "test": [
                          77.3119648
                        ]
                      },
                      {
                        "learn": [
                          60.74892956
                        ],
                        "iteration": 756,
                        "passed_time": 191.8295029,
                        "remaining_time": 61.57803064,
                        "test": [
                          77.31156286
                        ]
                      },
                      {
                        "learn": [
                          60.71497641
                        ],
                        "iteration": 757,
                        "passed_time": 192.0903664,
                        "remaining_time": 61.32700351,
                        "test": [
                          77.29149999
                        ]
                      },
                      {
                        "learn": [
                          60.68168097
                        ],
                        "iteration": 758,
                        "passed_time": 192.3355993,
                        "remaining_time": 61.07098738,
                        "test": [
                          77.27086151
                        ]
                      },
                      {
                        "learn": [
                          60.66304929
                        ],
                        "iteration": 759,
                        "passed_time": 192.5964885,
                        "remaining_time": 60.81994375,
                        "test": [
                          77.2610368
                        ]
                      },
                      {
                        "learn": [
                          60.64268116
                        ],
                        "iteration": 760,
                        "passed_time": 192.8529476,
                        "remaining_time": 60.56748289,
                        "test": [
                          77.24845657
                        ]
                      },
                      {
                        "learn": [
                          60.6048518
                        ],
                        "iteration": 761,
                        "passed_time": 193.128397,
                        "remaining_time": 60.32094291,
                        "test": [
                          77.23033168
                        ]
                      },
                      {
                        "learn": [
                          60.58031351
                        ],
                        "iteration": 762,
                        "passed_time": 193.3898124,
                        "remaining_time": 60.06996794,
                        "test": [
                          77.21622293
                        ]
                      },
                      {
                        "learn": [
                          60.54376763
                        ],
                        "iteration": 763,
                        "passed_time": 193.6487987,
                        "remaining_time": 59.81821531,
                        "test": [
                          77.1915675
                        ]
                      },
                      {
                        "learn": [
                          60.51386004
                        ],
                        "iteration": 764,
                        "passed_time": 193.9078982,
                        "remaining_time": 59.56647855,
                        "test": [
                          77.17691755
                        ]
                      },
                      {
                        "learn": [
                          60.48852998
                        ],
                        "iteration": 765,
                        "passed_time": 194.1745683,
                        "remaining_time": 59.31703521,
                        "test": [
                          77.16262644
                        ]
                      },
                      {
                        "learn": [
                          60.46967884
                        ],
                        "iteration": 766,
                        "passed_time": 194.4201043,
                        "remaining_time": 59.06112687,
                        "test": [
                          77.15122617
                        ]
                      },
                      {
                        "learn": [
                          60.44131636
                        ],
                        "iteration": 767,
                        "passed_time": 194.6671161,
                        "remaining_time": 58.80569134,
                        "test": [
                          77.13437338
                        ]
                      },
                      {
                        "learn": [
                          60.41549926
                        ],
                        "iteration": 768,
                        "passed_time": 194.9198339,
                        "remaining_time": 58.55199172,
                        "test": [
                          77.11479896
                        ]
                      },
                      {
                        "learn": [
                          60.3926876
                        ],
                        "iteration": 769,
                        "passed_time": 195.1907337,
                        "remaining_time": 58.30372566,
                        "test": [
                          77.10653354
                        ]
                      },
                      {
                        "learn": [
                          60.35002813
                        ],
                        "iteration": 770,
                        "passed_time": 195.4442771,
                        "remaining_time": 58.05024574,
                        "test": [
                          77.08173195
                        ]
                      },
                      {
                        "learn": [
                          60.31185485
                        ],
                        "iteration": 771,
                        "passed_time": 195.6863807,
                        "remaining_time": 57.79338706,
                        "test": [
                          77.05663021
                        ]
                      },
                      {
                        "learn": [
                          60.28146925
                        ],
                        "iteration": 772,
                        "passed_time": 195.9252919,
                        "remaining_time": 57.53562905,
                        "test": [
                          77.03648449
                        ]
                      },
                      {
                        "learn": [
                          60.26176144
                        ],
                        "iteration": 773,
                        "passed_time": 196.1757675,
                        "remaining_time": 57.28129644,
                        "test": [
                          77.02405695
                        ]
                      },
                      {
                        "learn": [
                          60.22928157
                        ],
                        "iteration": 774,
                        "passed_time": 196.4269719,
                        "remaining_time": 57.02718539,
                        "test": [
                          76.99994534
                        ]
                      },
                      {
                        "learn": [
                          60.19699488
                        ],
                        "iteration": 775,
                        "passed_time": 196.6813353,
                        "remaining_time": 56.77399371,
                        "test": [
                          76.98609504
                        ]
                      },
                      {
                        "learn": [
                          60.17151825
                        ],
                        "iteration": 776,
                        "passed_time": 196.9492829,
                        "remaining_time": 56.52469766,
                        "test": [
                          76.97494051
                        ]
                      },
                      {
                        "learn": [
                          60.14152045
                        ],
                        "iteration": 777,
                        "passed_time": 197.2118881,
                        "remaining_time": 56.27382926,
                        "test": [
                          76.95640509
                        ]
                      },
                      {
                        "learn": [
                          60.13469757
                        ],
                        "iteration": 778,
                        "passed_time": 197.4406804,
                        "remaining_time": 56.0133381,
                        "test": [
                          76.95297273
                        ]
                      },
                      {
                        "learn": [
                          60.10334664
                        ],
                        "iteration": 779,
                        "passed_time": 197.6823033,
                        "remaining_time": 55.75654708,
                        "test": [
                          76.93446087
                        ]
                      },
                      {
                        "learn": [
                          60.08665974
                        ],
                        "iteration": 780,
                        "passed_time": 197.9385737,
                        "remaining_time": 55.50390222,
                        "test": [
                          76.92622141
                        ]
                      },
                      {
                        "learn": [
                          60.03793121
                        ],
                        "iteration": 781,
                        "passed_time": 198.2140896,
                        "remaining_time": 55.25661321,
                        "test": [
                          76.88217336
                        ]
                      },
                      {
                        "learn": [
                          60.01738528
                        ],
                        "iteration": 782,
                        "passed_time": 198.4604132,
                        "remaining_time": 55.00116178,
                        "test": [
                          76.87257535
                        ]
                      },
                      {
                        "learn": [
                          59.99702258
                        ],
                        "iteration": 783,
                        "passed_time": 198.72778,
                        "remaining_time": 54.75153123,
                        "test": [
                          76.86018731
                        ]
                      },
                      {
                        "learn": [
                          59.95528214
                        ],
                        "iteration": 784,
                        "passed_time": 198.9997671,
                        "remaining_time": 54.50312093,
                        "test": [
                          76.83040331
                        ]
                      },
                      {
                        "learn": [
                          59.9383715
                        ],
                        "iteration": 785,
                        "passed_time": 199.2441512,
                        "remaining_time": 54.24713532,
                        "test": [
                          76.83134429
                        ]
                      },
                      {
                        "learn": [
                          59.89607402
                        ],
                        "iteration": 786,
                        "passed_time": 199.5099823,
                        "remaining_time": 53.99698376,
                        "test": [
                          76.80109495
                        ]
                      },
                      {
                        "learn": [
                          59.88089416
                        ],
                        "iteration": 787,
                        "passed_time": 199.7595234,
                        "remaining_time": 53.74240985,
                        "test": [
                          76.79556225
                        ]
                      },
                      {
                        "learn": [
                          59.85373606
                        ],
                        "iteration": 788,
                        "passed_time": 200.0070201,
                        "remaining_time": 53.48730196,
                        "test": [
                          76.77614926
                        ]
                      },
                      {
                        "learn": [
                          59.83769759
                        ],
                        "iteration": 789,
                        "passed_time": 200.2511036,
                        "remaining_time": 53.23130601,
                        "test": [
                          76.76726497
                        ]
                      },
                      {
                        "learn": [
                          59.8248245
                        ],
                        "iteration": 790,
                        "passed_time": 200.5011834,
                        "remaining_time": 52.97692458,
                        "test": [
                          76.75887537
                        ]
                      },
                      {
                        "learn": [
                          59.76949803
                        ],
                        "iteration": 791,
                        "passed_time": 200.7663816,
                        "remaining_time": 52.72652445,
                        "test": [
                          76.71987712
                        ]
                      },
                      {
                        "learn": [
                          59.74365334
                        ],
                        "iteration": 792,
                        "passed_time": 201.0270412,
                        "remaining_time": 52.4749023,
                        "test": [
                          76.70401265
                        ]
                      },
                      {
                        "learn": [
                          59.71642752
                        ],
                        "iteration": 793,
                        "passed_time": 201.2796387,
                        "remaining_time": 52.2211657,
                        "test": [
                          76.67931244
                        ]
                      },
                      {
                        "learn": [
                          59.69038189
                        ],
                        "iteration": 794,
                        "passed_time": 201.5503514,
                        "remaining_time": 51.9721032,
                        "test": [
                          76.6609744
                        ]
                      },
                      {
                        "learn": [
                          59.65588474
                        ],
                        "iteration": 795,
                        "passed_time": 201.8041782,
                        "remaining_time": 51.71865873,
                        "test": [
                          76.63652927
                        ]
                      },
                      {
                        "learn": [
                          59.63233052
                        ],
                        "iteration": 796,
                        "passed_time": 202.0622168,
                        "remaining_time": 51.46628608,
                        "test": [
                          76.6239003
                        ]
                      },
                      {
                        "learn": [
                          59.60812865
                        ],
                        "iteration": 797,
                        "passed_time": 202.32882,
                        "remaining_time": 51.21606721,
                        "test": [
                          76.60858716
                        ]
                      },
                      {
                        "learn": [
                          59.58899634
                        ],
                        "iteration": 798,
                        "passed_time": 202.5941405,
                        "remaining_time": 50.96548467,
                        "test": [
                          76.60131855
                        ]
                      },
                      {
                        "learn": [
                          59.54540697
                        ],
                        "iteration": 799,
                        "passed_time": 202.8595647,
                        "remaining_time": 50.71489118,
                        "test": [
                          76.56424455
                        ]
                      },
                      {
                        "learn": [
                          59.51874575
                        ],
                        "iteration": 800,
                        "passed_time": 203.122853,
                        "remaining_time": 50.46373002,
                        "test": [
                          76.54796259
                        ]
                      },
                      {
                        "learn": [
                          59.50166309
                        ],
                        "iteration": 801,
                        "passed_time": 203.385423,
                        "remaining_time": 50.2123613,
                        "test": [
                          76.54051423
                        ]
                      },
                      {
                        "learn": [
                          59.45675642
                        ],
                        "iteration": 802,
                        "passed_time": 203.6629161,
                        "remaining_time": 49.96462574,
                        "test": [
                          76.51065137
                        ]
                      },
                      {
                        "learn": [
                          59.40541619
                        ],
                        "iteration": 803,
                        "passed_time": 203.9213598,
                        "remaining_time": 49.71217229,
                        "test": [
                          76.46841657
                        ]
                      },
                      {
                        "learn": [
                          59.37805397
                        ],
                        "iteration": 804,
                        "passed_time": 204.1915335,
                        "remaining_time": 49.46254539,
                        "test": [
                          76.45418796
                        ]
                      },
                      {
                        "learn": [
                          59.34548851
                        ],
                        "iteration": 805,
                        "passed_time": 204.4388029,
                        "remaining_time": 49.20735454,
                        "test": [
                          76.43395812
                        ]
                      },
                      {
                        "learn": [
                          59.32443284
                        ],
                        "iteration": 806,
                        "passed_time": 204.6900301,
                        "remaining_time": 48.95312987,
                        "test": [
                          76.42125418
                        ]
                      },
                      {
                        "learn": [
                          59.29545572
                        ],
                        "iteration": 807,
                        "passed_time": 204.986495,
                        "remaining_time": 48.70966217,
                        "test": [
                          76.39597694
                        ]
                      },
                      {
                        "learn": [
                          59.28324045
                        ],
                        "iteration": 808,
                        "passed_time": 205.2166481,
                        "remaining_time": 48.45040764,
                        "test": [
                          76.3920711
                        ]
                      },
                      {
                        "learn": [
                          59.26805076
                        ],
                        "iteration": 809,
                        "passed_time": 205.4710475,
                        "remaining_time": 48.19691238,
                        "test": [
                          76.38701107
                        ]
                      },
                      {
                        "learn": [
                          59.25433416
                        ],
                        "iteration": 810,
                        "passed_time": 205.7325904,
                        "remaining_time": 47.94507964,
                        "test": [
                          76.38281418
                        ]
                      },
                      {
                        "learn": [
                          59.2387008
                        ],
                        "iteration": 811,
                        "passed_time": 205.9769572,
                        "remaining_time": 47.68924625,
                        "test": [
                          76.37167534
                        ]
                      },
                      {
                        "learn": [
                          59.22353181
                        ],
                        "iteration": 812,
                        "passed_time": 206.2160108,
                        "remaining_time": 47.43221897,
                        "test": [
                          76.36763539
                        ]
                      },
                      {
                        "learn": [
                          59.2088677
                        ],
                        "iteration": 813,
                        "passed_time": 206.4608161,
                        "remaining_time": 47.17655012,
                        "test": [
                          76.35716708
                        ]
                      },
                      {
                        "learn": [
                          59.17403626
                        ],
                        "iteration": 814,
                        "passed_time": 206.7096382,
                        "remaining_time": 46.92181972,
                        "test": [
                          76.33974854
                        ]
                      },
                      {
                        "learn": [
                          59.14278998
                        ],
                        "iteration": 815,
                        "passed_time": 206.9783884,
                        "remaining_time": 46.67159739,
                        "test": [
                          76.32073895
                        ]
                      },
                      {
                        "learn": [
                          59.10223284
                        ],
                        "iteration": 816,
                        "passed_time": 207.2415891,
                        "remaining_time": 46.42008665,
                        "test": [
                          76.29573179
                        ]
                      },
                      {
                        "learn": [
                          59.08385712
                        ],
                        "iteration": 817,
                        "passed_time": 207.5011721,
                        "remaining_time": 46.16774246,
                        "test": [
                          76.2834122
                        ]
                      },
                      {
                        "learn": [
                          59.05820098
                        ],
                        "iteration": 818,
                        "passed_time": 207.755567,
                        "remaining_time": 45.91423397,
                        "test": [
                          76.26929043
                        ]
                      },
                      {
                        "learn": [
                          59.03397053
                        ],
                        "iteration": 819,
                        "passed_time": 208.022636,
                        "remaining_time": 45.66350546,
                        "test": [
                          76.25591869
                        ]
                      },
                      {
                        "learn": [
                          59.01132605
                        ],
                        "iteration": 820,
                        "passed_time": 208.2701806,
                        "remaining_time": 45.40848031,
                        "test": [
                          76.24179183
                        ]
                      },
                      {
                        "learn": [
                          58.9796925
                        ],
                        "iteration": 821,
                        "passed_time": 208.5232691,
                        "remaining_time": 45.15467384,
                        "test": [
                          76.22940112
                        ]
                      },
                      {
                        "learn": [
                          58.9594635
                        ],
                        "iteration": 822,
                        "passed_time": 208.7731117,
                        "remaining_time": 44.90017104,
                        "test": [
                          76.21617215
                        ]
                      },
                      {
                        "learn": [
                          58.94081733
                        ],
                        "iteration": 823,
                        "passed_time": 209.0190268,
                        "remaining_time": 44.64484067,
                        "test": [
                          76.20771357
                        ]
                      },
                      {
                        "learn": [
                          58.91036509
                        ],
                        "iteration": 824,
                        "passed_time": 209.2931539,
                        "remaining_time": 44.3955175,
                        "test": [
                          76.18664415
                        ]
                      },
                      {
                        "learn": [
                          58.89373859
                        ],
                        "iteration": 825,
                        "passed_time": 209.5267843,
                        "remaining_time": 44.13760348,
                        "test": [
                          76.17610933
                        ]
                      },
                      {
                        "learn": [
                          58.86786223
                        ],
                        "iteration": 826,
                        "passed_time": 209.8049984,
                        "remaining_time": 43.88907463,
                        "test": [
                          76.15509779
                        ]
                      },
                      {
                        "learn": [
                          58.84842998
                        ],
                        "iteration": 827,
                        "passed_time": 210.0447138,
                        "remaining_time": 43.63247678,
                        "test": [
                          76.14948485
                        ]
                      },
                      {
                        "learn": [
                          58.82998847
                        ],
                        "iteration": 828,
                        "passed_time": 210.3054571,
                        "remaining_time": 43.38025714,
                        "test": [
                          76.14063156
                        ]
                      },
                      {
                        "learn": [
                          58.8101501
                        ],
                        "iteration": 829,
                        "passed_time": 210.5507699,
                        "remaining_time": 43.12485648,
                        "test": [
                          76.13069848
                        ]
                      },
                      {
                        "learn": [
                          58.78994368
                        ],
                        "iteration": 830,
                        "passed_time": 210.8161584,
                        "remaining_time": 42.87356289,
                        "test": [
                          76.1235467
                        ]
                      },
                      {
                        "learn": [
                          58.77212854
                        ],
                        "iteration": 831,
                        "passed_time": 211.0639134,
                        "remaining_time": 42.61867483,
                        "test": [
                          76.11268236
                        ]
                      },
                      {
                        "learn": [
                          58.75479103
                        ],
                        "iteration": 832,
                        "passed_time": 211.3170433,
                        "remaining_time": 42.36488144,
                        "test": [
                          76.10226231
                        ]
                      },
                      {
                        "learn": [
                          58.73318077
                        ],
                        "iteration": 833,
                        "passed_time": 211.5577847,
                        "remaining_time": 42.10862382,
                        "test": [
                          76.08887789
                        ]
                      },
                      {
                        "learn": [
                          58.71073893
                        ],
                        "iteration": 834,
                        "passed_time": 211.8057322,
                        "remaining_time": 41.85382733,
                        "test": [
                          76.07407811
                        ]
                      },
                      {
                        "learn": [
                          58.68174245
                        ],
                        "iteration": 835,
                        "passed_time": 212.0643,
                        "remaining_time": 41.60113061,
                        "test": [
                          76.04835607
                        ]
                      },
                      {
                        "learn": [
                          58.65078536
                        ],
                        "iteration": 836,
                        "passed_time": 212.3088224,
                        "remaining_time": 41.34568464,
                        "test": [
                          76.02823512
                        ]
                      },
                      {
                        "learn": [
                          58.62843637
                        ],
                        "iteration": 837,
                        "passed_time": 212.5806552,
                        "remaining_time": 41.09554433,
                        "test": [
                          76.01389075
                        ]
                      },
                      {
                        "learn": [
                          58.60218856
                        ],
                        "iteration": 838,
                        "passed_time": 212.8367766,
                        "remaining_time": 40.84233734,
                        "test": [
                          75.99562162
                        ]
                      },
                      {
                        "learn": [
                          58.57916606
                        ],
                        "iteration": 839,
                        "passed_time": 213.1234248,
                        "remaining_time": 40.59493805,
                        "test": [
                          75.97955168
                        ]
                      },
                      {
                        "learn": [
                          58.55133919
                        ],
                        "iteration": 840,
                        "passed_time": 213.3867073,
                        "remaining_time": 40.34302789,
                        "test": [
                          75.96636686
                        ]
                      },
                      {
                        "learn": [
                          58.52465857
                        ],
                        "iteration": 841,
                        "passed_time": 213.6339691,
                        "remaining_time": 40.08808446,
                        "test": [
                          75.94995256
                        ]
                      },
                      {
                        "learn": [
                          58.49887642
                        ],
                        "iteration": 842,
                        "passed_time": 213.8928154,
                        "remaining_time": 39.83531674,
                        "test": [
                          75.92916241
                        ]
                      },
                      {
                        "learn": [
                          58.48070151
                        ],
                        "iteration": 843,
                        "passed_time": 214.1566792,
                        "remaining_time": 39.58346202,
                        "test": [
                          75.92161993
                        ]
                      },
                      {
                        "learn": [
                          58.4375009
                        ],
                        "iteration": 844,
                        "passed_time": 214.4037362,
                        "remaining_time": 39.32849599,
                        "test": [
                          75.8881124
                        ]
                      },
                      {
                        "learn": [
                          58.41384624
                        ],
                        "iteration": 845,
                        "passed_time": 214.6806946,
                        "remaining_time": 39.07899169,
                        "test": [
                          75.87850566
                        ]
                      },
                      {
                        "learn": [
                          58.3980096
                        ],
                        "iteration": 846,
                        "passed_time": 214.9328519,
                        "remaining_time": 38.82494255,
                        "test": [
                          75.87019332
                        ]
                      },
                      {
                        "learn": [
                          58.37857032
                        ],
                        "iteration": 847,
                        "passed_time": 215.2162592,
                        "remaining_time": 38.57649929,
                        "test": [
                          75.86058848
                        ]
                      },
                      {
                        "learn": [
                          58.3453845
                        ],
                        "iteration": 848,
                        "passed_time": 215.4559678,
                        "remaining_time": 38.32020158,
                        "test": [
                          75.83885818
                        ]
                      },
                      {
                        "learn": [
                          58.32927106
                        ],
                        "iteration": 849,
                        "passed_time": 215.7142165,
                        "remaining_time": 38.06721468,
                        "test": [
                          75.83478985
                        ]
                      },
                      {
                        "learn": [
                          58.29633458
                        ],
                        "iteration": 850,
                        "passed_time": 215.9597519,
                        "remaining_time": 37.81198946,
                        "test": [
                          75.82037124
                        ]
                      },
                      {
                        "learn": [
                          58.25879139
                        ],
                        "iteration": 851,
                        "passed_time": 216.2428372,
                        "remaining_time": 37.56330975,
                        "test": [
                          75.78386918
                        ]
                      },
                      {
                        "learn": [
                          58.24655198
                        ],
                        "iteration": 852,
                        "passed_time": 216.476996,
                        "remaining_time": 37.30611771,
                        "test": [
                          75.77883548
                        ]
                      },
                      {
                        "learn": [
                          58.20982919
                        ],
                        "iteration": 853,
                        "passed_time": 216.7332596,
                        "remaining_time": 37.05275866,
                        "test": [
                          75.75494703
                        ]
                      },
                      {
                        "learn": [
                          58.18782309
                        ],
                        "iteration": 854,
                        "passed_time": 216.9946795,
                        "remaining_time": 36.80026728,
                        "test": [
                          75.74494663
                        ]
                      },
                      {
                        "learn": [
                          58.15530813
                        ],
                        "iteration": 855,
                        "passed_time": 217.2593526,
                        "remaining_time": 36.54830231,
                        "test": [
                          75.73123109
                        ]
                      },
                      {
                        "learn": [
                          58.1341323
                        ],
                        "iteration": 856,
                        "passed_time": 217.5121933,
                        "remaining_time": 36.29433331,
                        "test": [
                          75.72199389
                        ]
                      },
                      {
                        "learn": [
                          58.11841313
                        ],
                        "iteration": 857,
                        "passed_time": 217.7736776,
                        "remaining_time": 36.04179746,
                        "test": [
                          75.71203102
                        ]
                      },
                      {
                        "learn": [
                          58.09214228
                        ],
                        "iteration": 858,
                        "passed_time": 218.0401984,
                        "remaining_time": 35.79006749,
                        "test": [
                          75.70264068
                        ]
                      },
                      {
                        "learn": [
                          58.05751746
                        ],
                        "iteration": 859,
                        "passed_time": 218.294104,
                        "remaining_time": 35.53624948,
                        "test": [
                          75.68908505
                        ]
                      },
                      {
                        "learn": [
                          58.03820453
                        ],
                        "iteration": 860,
                        "passed_time": 218.5732023,
                        "remaining_time": 35.2864984,
                        "test": [
                          75.67756336
                        ]
                      },
                      {
                        "learn": [
                          58.02256048
                        ],
                        "iteration": 861,
                        "passed_time": 218.8203526,
                        "remaining_time": 35.03156456,
                        "test": [
                          75.67234241
                        ]
                      },
                      {
                        "learn": [
                          58.00388645
                        ],
                        "iteration": 862,
                        "passed_time": 219.0676305,
                        "remaining_time": 34.77666903,
                        "test": [
                          75.65797666
                        ]
                      },
                      {
                        "learn": [
                          57.98033106
                        ],
                        "iteration": 863,
                        "passed_time": 219.3214332,
                        "remaining_time": 34.5228182,
                        "test": [
                          75.64458908
                        ]
                      },
                      {
                        "learn": [
                          57.96821884
                        ],
                        "iteration": 864,
                        "passed_time": 219.565909,
                        "remaining_time": 34.2675118,
                        "test": [
                          75.64096304
                        ]
                      },
                      {
                        "learn": [
                          57.93399887
                        ],
                        "iteration": 865,
                        "passed_time": 219.8095685,
                        "remaining_time": 34.01210413,
                        "test": [
                          75.6161043
                        ]
                      },
                      {
                        "learn": [
                          57.90250236
                        ],
                        "iteration": 866,
                        "passed_time": 220.0757079,
                        "remaining_time": 33.76017203,
                        "test": [
                          75.59002506
                        ]
                      },
                      {
                        "learn": [
                          57.87001887
                        ],
                        "iteration": 867,
                        "passed_time": 220.2841306,
                        "remaining_time": 33.49943,
                        "test": [
                          75.56959746
                        ]
                      },
                      {
                        "learn": [
                          57.84716542
                        ],
                        "iteration": 868,
                        "passed_time": 220.5219193,
                        "remaining_time": 33.24323525,
                        "test": [
                          75.55778057
                        ]
                      },
                      {
                        "learn": [
                          57.82987137
                        ],
                        "iteration": 869,
                        "passed_time": 220.7894982,
                        "remaining_time": 32.99153421,
                        "test": [
                          75.5483207
                        ]
                      },
                      {
                        "learn": [
                          57.8032911
                        ],
                        "iteration": 870,
                        "passed_time": 221.0405174,
                        "remaining_time": 32.73734415,
                        "test": [
                          75.53869593
                        ]
                      },
                      {
                        "learn": [
                          57.78618146
                        ],
                        "iteration": 871,
                        "passed_time": 221.3151736,
                        "remaining_time": 32.48663099,
                        "test": [
                          75.53068624
                        ]
                      },
                      {
                        "learn": [
                          57.76966778
                        ],
                        "iteration": 872,
                        "passed_time": 221.5750851,
                        "remaining_time": 32.23371799,
                        "test": [
                          75.52493453
                        ]
                      },
                      {
                        "learn": [
                          57.7285387
                        ],
                        "iteration": 873,
                        "passed_time": 221.8428769,
                        "remaining_time": 31.98192505,
                        "test": [
                          75.49520757
                        ]
                      },
                      {
                        "learn": [
                          57.67334823
                        ],
                        "iteration": 874,
                        "passed_time": 222.1326196,
                        "remaining_time": 31.73323138,
                        "test": [
                          75.45495106
                        ]
                      },
                      {
                        "learn": [
                          57.6379602
                        ],
                        "iteration": 875,
                        "passed_time": 222.3742845,
                        "remaining_time": 31.47763845,
                        "test": [
                          75.42406562
                        ]
                      },
                      {
                        "learn": [
                          57.62364098
                        ],
                        "iteration": 876,
                        "passed_time": 222.6160657,
                        "remaining_time": 31.22209359,
                        "test": [
                          75.41852441
                        ]
                      },
                      {
                        "learn": [
                          57.60169993
                        ],
                        "iteration": 877,
                        "passed_time": 222.8609139,
                        "remaining_time": 30.96700626,
                        "test": [
                          75.41054821
                        ]
                      },
                      {
                        "learn": [
                          57.58494889
                        ],
                        "iteration": 878,
                        "passed_time": 223.103971,
                        "remaining_time": 30.71169566,
                        "test": [
                          75.40345008
                        ]
                      },
                      {
                        "learn": [
                          57.57251665
                        ],
                        "iteration": 879,
                        "passed_time": 223.3588349,
                        "remaining_time": 30.45802295,
                        "test": [
                          75.40178898
                        ]
                      },
                      {
                        "learn": [
                          57.54813452
                        ],
                        "iteration": 880,
                        "passed_time": 223.632764,
                        "remaining_time": 30.20692271,
                        "test": [
                          75.38307287
                        ]
                      },
                      {
                        "learn": [
                          57.50794702
                        ],
                        "iteration": 881,
                        "passed_time": 223.893127,
                        "remaining_time": 29.95395576,
                        "test": [
                          75.34301738
                        ]
                      },
                      {
                        "learn": [
                          57.46963224
                        ],
                        "iteration": 882,
                        "passed_time": 224.1657003,
                        "remaining_time": 29.70258996,
                        "test": [
                          75.32160084
                        ]
                      },
                      {
                        "learn": [
                          57.44153284
                        ],
                        "iteration": 883,
                        "passed_time": 224.4720424,
                        "remaining_time": 29.45560738,
                        "test": [
                          75.30799767
                        ]
                      },
                      {
                        "learn": [
                          57.41999989
                        ],
                        "iteration": 884,
                        "passed_time": 224.7355508,
                        "remaining_time": 29.20292469,
                        "test": [
                          75.29405934
                        ]
                      },
                      {
                        "learn": [
                          57.39816055
                        ],
                        "iteration": 885,
                        "passed_time": 225.0125863,
                        "remaining_time": 28.95195806,
                        "test": [
                          75.27962983
                        ]
                      },
                      {
                        "learn": [
                          57.37490362
                        ],
                        "iteration": 886,
                        "passed_time": 225.2566119,
                        "remaining_time": 28.69672734,
                        "test": [
                          75.26898492
                        ]
                      },
                      {
                        "learn": [
                          57.33215844
                        ],
                        "iteration": 887,
                        "passed_time": 225.4964024,
                        "remaining_time": 28.44098769,
                        "test": [
                          75.24386842
                        ]
                      },
                      {
                        "learn": [
                          57.31010581
                        ],
                        "iteration": 888,
                        "passed_time": 225.7550016,
                        "remaining_time": 28.18763237,
                        "test": [
                          75.23143137
                        ]
                      },
                      {
                        "learn": [
                          57.28021762
                        ],
                        "iteration": 889,
                        "passed_time": 225.9648947,
                        "remaining_time": 27.92824542,
                        "test": [
                          75.21020651
                        ]
                      },
                      {
                        "learn": [
                          57.2600583
                        ],
                        "iteration": 890,
                        "passed_time": 226.2250834,
                        "remaining_time": 27.67512244,
                        "test": [
                          75.20000295
                        ]
                      },
                      {
                        "learn": [
                          57.23017722
                        ],
                        "iteration": 891,
                        "passed_time": 226.5050677,
                        "remaining_time": 27.42438039,
                        "test": [
                          75.17982788
                        ]
                      },
                      {
                        "learn": [
                          57.21952439
                        ],
                        "iteration": 892,
                        "passed_time": 226.7480932,
                        "remaining_time": 27.16914443,
                        "test": [
                          75.18062082
                        ]
                      },
                      {
                        "learn": [
                          57.20642242
                        ],
                        "iteration": 893,
                        "passed_time": 226.9860989,
                        "remaining_time": 26.91334059,
                        "test": [
                          75.17566483
                        ]
                      },
                      {
                        "learn": [
                          57.17652718
                        ],
                        "iteration": 894,
                        "passed_time": 227.2784714,
                        "remaining_time": 26.66395474,
                        "test": [
                          75.14577439
                        ]
                      },
                      {
                        "learn": [
                          57.14259611
                        ],
                        "iteration": 895,
                        "passed_time": 227.5556207,
                        "remaining_time": 26.41270598,
                        "test": [
                          75.12544969
                        ]
                      },
                      {
                        "learn": [
                          57.13156618
                        ],
                        "iteration": 896,
                        "passed_time": 227.8024689,
                        "remaining_time": 26.15792006,
                        "test": [
                          75.11796581
                        ]
                      },
                      {
                        "learn": [
                          57.11571266
                        ],
                        "iteration": 897,
                        "passed_time": 228.0531153,
                        "remaining_time": 25.90358325,
                        "test": [
                          75.10492105
                        ]
                      },
                      {
                        "learn": [
                          57.0923129
                        ],
                        "iteration": 898,
                        "passed_time": 228.3048591,
                        "remaining_time": 25.64937795,
                        "test": [
                          75.09152355
                        ]
                      },
                      {
                        "learn": [
                          57.06056296
                        ],
                        "iteration": 899,
                        "passed_time": 228.5858771,
                        "remaining_time": 25.39843079,
                        "test": [
                          75.06646173
                        ]
                      },
                      {
                        "learn": [
                          57.0449454
                        ],
                        "iteration": 900,
                        "passed_time": 228.8239434,
                        "remaining_time": 25.14269744,
                        "test": [
                          75.06058151
                        ]
                      },
                      {
                        "learn": [
                          57.01200946
                        ],
                        "iteration": 901,
                        "passed_time": 229.0988796,
                        "remaining_time": 24.89100909,
                        "test": [
                          75.03921113
                        ]
                      },
                      {
                        "learn": [
                          56.99750238
                        ],
                        "iteration": 902,
                        "passed_time": 229.3718972,
                        "remaining_time": 24.63906315,
                        "test": [
                          75.03130871
                        ]
                      },
                      {
                        "learn": [
                          56.97484715
                        ],
                        "iteration": 903,
                        "passed_time": 229.6350766,
                        "remaining_time": 24.38602583,
                        "test": [
                          75.02267004
                        ]
                      },
                      {
                        "learn": [
                          56.94693514
                        ],
                        "iteration": 904,
                        "passed_time": 229.8863738,
                        "remaining_time": 24.1317188,
                        "test": [
                          75.01013713
                        ]
                      },
                      {
                        "learn": [
                          56.92728722
                        ],
                        "iteration": 905,
                        "passed_time": 230.1631493,
                        "remaining_time": 23.88006184,
                        "test": [
                          75.00095487
                        ]
                      },
                      {
                        "learn": [
                          56.9114548
                        ],
                        "iteration": 906,
                        "passed_time": 230.4231298,
                        "remaining_time": 23.62662742,
                        "test": [
                          74.98919214
                        ]
                      },
                      {
                        "learn": [
                          56.89873051
                        ],
                        "iteration": 907,
                        "passed_time": 230.6670869,
                        "remaining_time": 23.37155506,
                        "test": [
                          74.98009612
                        ]
                      },
                      {
                        "learn": [
                          56.87486794
                        ],
                        "iteration": 908,
                        "passed_time": 230.9145464,
                        "remaining_time": 23.11685778,
                        "test": [
                          74.96291596
                        ]
                      },
                      {
                        "learn": [
                          56.84850212
                        ],
                        "iteration": 909,
                        "passed_time": 231.1776743,
                        "remaining_time": 22.86372603,
                        "test": [
                          74.948685
                        ]
                      },
                      {
                        "learn": [
                          56.80656097
                        ],
                        "iteration": 910,
                        "passed_time": 231.3739273,
                        "remaining_time": 22.604039,
                        "test": [
                          74.91204603
                        ]
                      },
                      {
                        "learn": [
                          56.79029008
                        ],
                        "iteration": 911,
                        "passed_time": 231.63405,
                        "remaining_time": 22.35065395,
                        "test": [
                          74.90599706
                        ]
                      },
                      {
                        "learn": [
                          56.78012713
                        ],
                        "iteration": 912,
                        "passed_time": 231.883069,
                        "remaining_time": 22.09619606,
                        "test": [
                          74.90341477
                        ]
                      },
                      {
                        "learn": [
                          56.7318171
                        ],
                        "iteration": 913,
                        "passed_time": 232.1600237,
                        "remaining_time": 21.8443786,
                        "test": [
                          74.8643945
                        ]
                      },
                      {
                        "learn": [
                          56.70289352
                        ],
                        "iteration": 914,
                        "passed_time": 232.4164198,
                        "remaining_time": 21.59059637,
                        "test": [
                          74.84754788
                        ]
                      },
                      {
                        "learn": [
                          56.69231779
                        ],
                        "iteration": 915,
                        "passed_time": 232.6546553,
                        "remaining_time": 21.33514306,
                        "test": [
                          74.84451873
                        ]
                      },
                      {
                        "learn": [
                          56.67386287
                        ],
                        "iteration": 916,
                        "passed_time": 232.9233034,
                        "remaining_time": 21.08248003,
                        "test": [
                          74.83204921
                        ]
                      },
                      {
                        "learn": [
                          56.65347939
                        ],
                        "iteration": 917,
                        "passed_time": 233.1554357,
                        "remaining_time": 20.8265204,
                        "test": [
                          74.82263743
                        ]
                      },
                      {
                        "learn": [
                          56.6469053
                        ],
                        "iteration": 918,
                        "passed_time": 233.4153289,
                        "remaining_time": 20.57305946,
                        "test": [
                          74.8196666
                        ]
                      },
                      {
                        "learn": [
                          56.61618536
                        ],
                        "iteration": 919,
                        "passed_time": 233.6717883,
                        "remaining_time": 20.31928594,
                        "test": [
                          74.80520492
                        ]
                      },
                      {
                        "learn": [
                          56.5770621
                        ],
                        "iteration": 920,
                        "passed_time": 233.9194848,
                        "remaining_time": 20.06475494,
                        "test": [
                          74.78395237
                        ]
                      },
                      {
                        "learn": [
                          56.54539296
                        ],
                        "iteration": 921,
                        "passed_time": 234.1781749,
                        "remaining_time": 19.81116881,
                        "test": [
                          74.76243506
                        ]
                      },
                      {
                        "learn": [
                          56.51807677
                        ],
                        "iteration": 922,
                        "passed_time": 234.4408436,
                        "remaining_time": 19.55790353,
                        "test": [
                          74.73921452
                        ]
                      },
                      {
                        "learn": [
                          56.5030781
                        ],
                        "iteration": 923,
                        "passed_time": 234.674821,
                        "remaining_time": 19.30225801,
                        "test": [
                          74.72686321
                        ]
                      },
                      {
                        "learn": [
                          56.47203847
                        ],
                        "iteration": 924,
                        "passed_time": 234.946241,
                        "remaining_time": 19.04969521,
                        "test": [
                          74.70428953
                        ]
                      },
                      {
                        "learn": [
                          56.43695907
                        ],
                        "iteration": 925,
                        "passed_time": 235.2265526,
                        "remaining_time": 18.79780226,
                        "test": [
                          74.68239261
                        ]
                      },
                      {
                        "learn": [
                          56.42781704
                        ],
                        "iteration": 926,
                        "passed_time": 235.4574248,
                        "remaining_time": 18.5419547,
                        "test": [
                          74.67763286
                        ]
                      },
                      {
                        "learn": [
                          56.39382064
                        ],
                        "iteration": 927,
                        "passed_time": 235.719788,
                        "remaining_time": 18.28860424,
                        "test": [
                          74.65931707
                        ]
                      },
                      {
                        "learn": [
                          56.38480378
                        ],
                        "iteration": 928,
                        "passed_time": 235.9664322,
                        "remaining_time": 18.03403303,
                        "test": [
                          74.65555398
                        ]
                      },
                      {
                        "learn": [
                          56.36674321
                        ],
                        "iteration": 929,
                        "passed_time": 236.2387886,
                        "remaining_time": 17.7814142,
                        "test": [
                          74.64470963
                        ]
                      },
                      {
                        "learn": [
                          56.35199687
                        ],
                        "iteration": 930,
                        "passed_time": 236.4938549,
                        "remaining_time": 17.52747152,
                        "test": [
                          74.63954813
                        ]
                      },
                      {
                        "learn": [
                          56.33704686
                        ],
                        "iteration": 931,
                        "passed_time": 236.7673077,
                        "remaining_time": 17.27486794,
                        "test": [
                          74.6349131
                        ]
                      },
                      {
                        "learn": [
                          56.31662029
                        ],
                        "iteration": 932,
                        "passed_time": 237.0174913,
                        "remaining_time": 17.02054868,
                        "test": [
                          74.62434619
                        ]
                      },
                      {
                        "learn": [
                          56.29977695
                        ],
                        "iteration": 933,
                        "passed_time": 237.2565164,
                        "remaining_time": 16.76544977,
                        "test": [
                          74.61750048
                        ]
                      },
                      {
                        "learn": [
                          56.280613
                        ],
                        "iteration": 934,
                        "passed_time": 237.502112,
                        "remaining_time": 16.51084201,
                        "test": [
                          74.60869914
                        ]
                      },
                      {
                        "learn": [
                          56.26943947
                        ],
                        "iteration": 935,
                        "passed_time": 237.7444576,
                        "remaining_time": 16.25603129,
                        "test": [
                          74.6023663
                        ]
                      },
                      {
                        "learn": [
                          56.2384795
                        ],
                        "iteration": 936,
                        "passed_time": 238.0194023,
                        "remaining_time": 16.003439,
                        "test": [
                          74.58454645
                        ]
                      },
                      {
                        "learn": [
                          56.2276134
                        ],
                        "iteration": 937,
                        "passed_time": 238.2671367,
                        "remaining_time": 15.74900051,
                        "test": [
                          74.57613666
                        ]
                      },
                      {
                        "learn": [
                          56.21153314
                        ],
                        "iteration": 938,
                        "passed_time": 238.5352861,
                        "remaining_time": 15.4959025,
                        "test": [
                          74.57208448
                        ]
                      },
                      {
                        "learn": [
                          56.198893
                        ],
                        "iteration": 939,
                        "passed_time": 238.7800366,
                        "remaining_time": 15.24127893,
                        "test": [
                          74.56616102
                        ]
                      },
                      {
                        "learn": [
                          56.18436504
                        ],
                        "iteration": 940,
                        "passed_time": 239.050112,
                        "remaining_time": 14.98826419,
                        "test": [
                          74.56196796
                        ]
                      },
                      {
                        "learn": [
                          56.16178549
                        ],
                        "iteration": 941,
                        "passed_time": 239.3155324,
                        "remaining_time": 14.73492663,
                        "test": [
                          74.55130565
                        ]
                      },
                      {
                        "learn": [
                          56.1296702
                        ],
                        "iteration": 942,
                        "passed_time": 239.5697265,
                        "remaining_time": 14.48088485,
                        "test": [
                          74.53004451
                        ]
                      },
                      {
                        "learn": [
                          56.11495479
                        ],
                        "iteration": 943,
                        "passed_time": 239.8250913,
                        "remaining_time": 14.22691219,
                        "test": [
                          74.52513036
                        ]
                      },
                      {
                        "learn": [
                          56.08547282
                        ],
                        "iteration": 944,
                        "passed_time": 240.084735,
                        "remaining_time": 13.97318563,
                        "test": [
                          74.50159752
                        ]
                      },
                      {
                        "learn": [
                          56.07481174
                        ],
                        "iteration": 945,
                        "passed_time": 240.3132743,
                        "remaining_time": 13.71767105,
                        "test": [
                          74.49895865
                        ]
                      },
                      {
                        "learn": [
                          56.04416577
                        ],
                        "iteration": 946,
                        "passed_time": 240.6126669,
                        "remaining_time": 13.46617882,
                        "test": [
                          74.47913437
                        ]
                      },
                      {
                        "learn": [
                          56.02441915
                        ],
                        "iteration": 947,
                        "passed_time": 240.8611325,
                        "remaining_time": 13.21179208,
                        "test": [
                          74.46427441
                        ]
                      },
                      {
                        "learn": [
                          56.0045863
                        ],
                        "iteration": 948,
                        "passed_time": 241.1128094,
                        "remaining_time": 12.95759039,
                        "test": [
                          74.45814222
                        ]
                      },
                      {
                        "learn": [
                          55.98212399
                        ],
                        "iteration": 949,
                        "passed_time": 241.3751807,
                        "remaining_time": 12.70395688,
                        "test": [
                          74.44022821
                        ]
                      },
                      {
                        "learn": [
                          55.96985411
                        ],
                        "iteration": 950,
                        "passed_time": 241.6390117,
                        "remaining_time": 12.45038021,
                        "test": [
                          74.43456264
                        ]
                      },
                      {
                        "learn": [
                          55.93635601
                        ],
                        "iteration": 951,
                        "passed_time": 241.8999944,
                        "remaining_time": 12.19663837,
                        "test": [
                          74.4012463
                        ]
                      },
                      {
                        "learn": [
                          55.90983969
                        ],
                        "iteration": 952,
                        "passed_time": 242.1702424,
                        "remaining_time": 11.94333829,
                        "test": [
                          74.38278572
                        ]
                      },
                      {
                        "learn": [
                          55.88577616
                        ],
                        "iteration": 953,
                        "passed_time": 242.4195382,
                        "remaining_time": 11.68899241,
                        "test": [
                          74.36760377
                        ]
                      },
                      {
                        "learn": [
                          55.87540613
                        ],
                        "iteration": 954,
                        "passed_time": 242.6611436,
                        "remaining_time": 11.43429473,
                        "test": [
                          74.35699888
                        ]
                      },
                      {
                        "learn": [
                          55.86070889
                        ],
                        "iteration": 955,
                        "passed_time": 242.9238767,
                        "remaining_time": 11.18059684,
                        "test": [
                          74.3523505
                        ]
                      },
                      {
                        "learn": [
                          55.84383024
                        ],
                        "iteration": 956,
                        "passed_time": 243.1865651,
                        "remaining_time": 10.92687806,
                        "test": [
                          74.34510441
                        ]
                      },
                      {
                        "learn": [
                          55.83249831
                        ],
                        "iteration": 957,
                        "passed_time": 243.4415118,
                        "remaining_time": 10.67280115,
                        "test": [
                          74.34046382
                        ]
                      },
                      {
                        "learn": [
                          55.82162987
                        ],
                        "iteration": 958,
                        "passed_time": 243.6834293,
                        "remaining_time": 10.41816538,
                        "test": [
                          74.33314406
                        ]
                      },
                      {
                        "learn": [
                          55.80421949
                        ],
                        "iteration": 959,
                        "passed_time": 243.8884549,
                        "remaining_time": 10.16201895,
                        "test": [
                          74.31792637
                        ]
                      },
                      {
                        "learn": [
                          55.78483698
                        ],
                        "iteration": 960,
                        "passed_time": 244.1405075,
                        "remaining_time": 9.907887401,
                        "test": [
                          74.30562879
                        ]
                      },
                      {
                        "learn": [
                          55.77345326
                        ],
                        "iteration": 961,
                        "passed_time": 244.3992282,
                        "remaining_time": 9.654023568,
                        "test": [
                          74.30038399
                        ]
                      },
                      {
                        "learn": [
                          55.75957079
                        ],
                        "iteration": 962,
                        "passed_time": 244.6522287,
                        "remaining_time": 9.399929866,
                        "test": [
                          74.29635945
                        ]
                      },
                      {
                        "learn": [
                          55.73758717
                        ],
                        "iteration": 963,
                        "passed_time": 244.9032081,
                        "remaining_time": 9.145762959,
                        "test": [
                          74.28353325
                        ]
                      },
                      {
                        "learn": [
                          55.72881974
                        ],
                        "iteration": 964,
                        "passed_time": 245.1583811,
                        "remaining_time": 8.891754754,
                        "test": [
                          74.28347776
                        ]
                      },
                      {
                        "learn": [
                          55.713011
                        ],
                        "iteration": 965,
                        "passed_time": 245.4082592,
                        "remaining_time": 8.637557776,
                        "test": [
                          74.27274131
                        ]
                      },
                      {
                        "learn": [
                          55.69572038
                        ],
                        "iteration": 966,
                        "passed_time": 245.6615616,
                        "remaining_time": 8.383486591,
                        "test": [
                          74.26520566
                        ]
                      },
                      {
                        "learn": [
                          55.66923469
                        ],
                        "iteration": 967,
                        "passed_time": 245.9054175,
                        "remaining_time": 8.12910471,
                        "test": [
                          74.25076411
                        ]
                      },
                      {
                        "learn": [
                          55.65472229
                        ],
                        "iteration": 968,
                        "passed_time": 246.1658111,
                        "remaining_time": 7.875273626,
                        "test": [
                          74.2399375
                        ]
                      },
                      {
                        "learn": [
                          55.63941111
                        ],
                        "iteration": 969,
                        "passed_time": 246.430732,
                        "remaining_time": 7.621569031,
                        "test": [
                          74.22918194
                        ]
                      },
                      {
                        "learn": [
                          55.61848888
                        ],
                        "iteration": 970,
                        "passed_time": 246.6627475,
                        "remaining_time": 7.366858577,
                        "test": [
                          74.22002696
                        ]
                      },
                      {
                        "learn": [
                          55.58971616
                        ],
                        "iteration": 971,
                        "passed_time": 246.9279231,
                        "remaining_time": 7.113150049,
                        "test": [
                          74.204957
                        ]
                      },
                      {
                        "learn": [
                          55.56191301
                        ],
                        "iteration": 972,
                        "passed_time": 247.1943609,
                        "remaining_time": 6.859452973,
                        "test": [
                          74.18516529
                        ]
                      },
                      {
                        "learn": [
                          55.54967875
                        ],
                        "iteration": 973,
                        "passed_time": 247.447465,
                        "remaining_time": 6.605373808,
                        "test": [
                          74.17805677
                        ]
                      },
                      {
                        "learn": [
                          55.52784902
                        ],
                        "iteration": 974,
                        "passed_time": 247.7222483,
                        "remaining_time": 6.351852521,
                        "test": [
                          74.16494076
                        ]
                      },
                      {
                        "learn": [
                          55.51327396
                        ],
                        "iteration": 975,
                        "passed_time": 247.9764659,
                        "remaining_time": 6.097781949,
                        "test": [
                          74.15976725
                        ]
                      },
                      {
                        "learn": [
                          55.49747809
                        ],
                        "iteration": 976,
                        "passed_time": 248.2199511,
                        "remaining_time": 5.843458419,
                        "test": [
                          74.14838425
                        ]
                      },
                      {
                        "learn": [
                          55.47010889
                        ],
                        "iteration": 977,
                        "passed_time": 248.4758229,
                        "remaining_time": 5.58943569,
                        "test": [
                          74.13605427
                        ]
                      },
                      {
                        "learn": [
                          55.45561014
                        ],
                        "iteration": 978,
                        "passed_time": 248.7323556,
                        "remaining_time": 5.335423357,
                        "test": [
                          74.12633595
                        ]
                      },
                      {
                        "learn": [
                          55.437693
                        ],
                        "iteration": 979,
                        "passed_time": 248.9823927,
                        "remaining_time": 5.081273321,
                        "test": [
                          74.11232086
                        ]
                      },
                      {
                        "learn": [
                          55.42312284
                        ],
                        "iteration": 980,
                        "passed_time": 249.2551957,
                        "remaining_time": 4.827572597,
                        "test": [
                          74.10077225
                        ]
                      },
                      {
                        "learn": [
                          55.41043161
                        ],
                        "iteration": 981,
                        "passed_time": 249.5092396,
                        "remaining_time": 4.573489117,
                        "test": [
                          74.09433608
                        ]
                      },
                      {
                        "learn": [
                          55.38898209
                        ],
                        "iteration": 982,
                        "passed_time": 249.7563521,
                        "remaining_time": 4.319285845,
                        "test": [
                          74.0781576
                        ]
                      },
                      {
                        "learn": [
                          55.37215149
                        ],
                        "iteration": 983,
                        "passed_time": 250.0031957,
                        "remaining_time": 4.065092613,
                        "test": [
                          74.06904388
                        ]
                      },
                      {
                        "learn": [
                          55.32985058
                        ],
                        "iteration": 984,
                        "passed_time": 250.262773,
                        "remaining_time": 3.811108219,
                        "test": [
                          74.04289082
                        ]
                      },
                      {
                        "learn": [
                          55.32008424
                        ],
                        "iteration": 985,
                        "passed_time": 250.5210596,
                        "remaining_time": 3.557094152,
                        "test": [
                          74.03588
                        ]
                      },
                      {
                        "learn": [
                          55.3112535
                        ],
                        "iteration": 986,
                        "passed_time": 250.776199,
                        "remaining_time": 3.303029977,
                        "test": [
                          74.03421392
                        ]
                      },
                      {
                        "learn": [
                          55.3027281
                        ],
                        "iteration": 987,
                        "passed_time": 251.007279,
                        "remaining_time": 3.048671405,
                        "test": [
                          74.02847872
                        ]
                      },
                      {
                        "learn": [
                          55.28770657
                        ],
                        "iteration": 988,
                        "passed_time": 251.2556752,
                        "remaining_time": 2.794552505,
                        "test": [
                          74.02138085
                        ]
                      },
                      {
                        "learn": [
                          55.26594836
                        ],
                        "iteration": 989,
                        "passed_time": 251.5164289,
                        "remaining_time": 2.540569989,
                        "test": [
                          74.00341253
                        ]
                      },
                      {
                        "learn": [
                          55.25526689
                        ],
                        "iteration": 990,
                        "passed_time": 251.7782842,
                        "remaining_time": 2.286583812,
                        "test": [
                          73.99867766
                        ]
                      },
                      {
                        "learn": [
                          55.23473592
                        ],
                        "iteration": 991,
                        "passed_time": 252.0316806,
                        "remaining_time": 2.032513553,
                        "test": [
                          73.98984557
                        ]
                      },
                      {
                        "learn": [
                          55.22428383
                        ],
                        "iteration": 992,
                        "passed_time": 252.2782044,
                        "remaining_time": 1.778396204,
                        "test": [
                          73.98162105
                        ]
                      },
                      {
                        "learn": [
                          55.20352594
                        ],
                        "iteration": 993,
                        "passed_time": 252.5262875,
                        "remaining_time": 1.524303546,
                        "test": [
                          73.9698377
                        ]
                      },
                      {
                        "learn": [
                          55.18590044
                        ],
                        "iteration": 994,
                        "passed_time": 252.7858019,
                        "remaining_time": 1.270280412,
                        "test": [
                          73.9630343
                        ]
                      },
                      {
                        "learn": [
                          55.16285472
                        ],
                        "iteration": 995,
                        "passed_time": 253.053554,
                        "remaining_time": 1.016279333,
                        "test": [
                          73.95026606
                        ]
                      },
                      {
                        "learn": [
                          55.13536829
                        ],
                        "iteration": 996,
                        "passed_time": 253.3221542,
                        "remaining_time": 0.7622532223,
                        "test": [
                          73.93957129
                        ]
                      },
                      {
                        "learn": [
                          55.11010354
                        ],
                        "iteration": 997,
                        "passed_time": 253.5743001,
                        "remaining_time": 0.5081649302,
                        "test": [
                          73.92214073
                        ]
                      },
                      {
                        "learn": [
                          55.0631443
                        ],
                        "iteration": 998,
                        "passed_time": 253.8533044,
                        "remaining_time": 0.2541074118,
                        "test": [
                          73.89641198
                        ]
                      },
                      {
                        "learn": [
                          55.05306858
                        ],
                        "iteration": 999,
                        "passed_time": 254.0815923,
                        "remaining_time": 0,
                        "test": [
                          73.89144711
                        ]
                      }
                    ],
                    "meta": {
                      "test_sets": [
                        "test"
                      ],
                      "test_metrics": [
                        {
                          "best_value": "Min",
                          "name": "RMSE"
                        }
                      ],
                      "learn_metrics": [
                        {
                          "best_value": "Min",
                          "name": "RMSE"
                        }
                      ],
                      "launch_mode": "Train",
                      "parameters": "",
                      "iteration_count": 1000,
                      "learn_sets": [
                        "learn"
                      ],
                      "name": "experiment"
                    }
                  }
                }
              }
            },
            "layout": "IPY_MODEL_c5ab9927e4ff4e769e04ec46096b2574"
          }
        }
      }
    }
  },
  "cells": [
    {
      "cell_type": "markdown",
      "metadata": {
        "id": "view-in-github",
        "colab_type": "text"
      },
      "source": [
        "<a href=\"https://colab.research.google.com/github/ShuYangConlany/Enefit/blob/main/Enefit.ipynb\" target=\"_parent\"><img src=\"https://colab.research.google.com/assets/colab-badge.svg\" alt=\"Open In Colab\"/></a>"
      ]
    },
    {
      "cell_type": "code",
      "execution_count": null,
      "metadata": {
        "id": "qxcB0yMLjzjn",
        "outputId": "6105205e-f387-4d91-e25d-fab52dc88d76",
        "colab": {
          "base_uri": "https://localhost:8080/"
        }
      },
      "outputs": [
        {
          "output_type": "stream",
          "name": "stdout",
          "text": [
            "Collecting optuna\n",
            "  Downloading optuna-3.5.0-py3-none-any.whl (413 kB)\n",
            "\u001b[2K     \u001b[90m━━━━━━━━━━━━━━━━━━━━━━━━━━━━━━━━━━━━━━━━\u001b[0m \u001b[32m413.4/413.4 kB\u001b[0m \u001b[31m6.0 MB/s\u001b[0m eta \u001b[36m0:00:00\u001b[0m\n",
            "\u001b[?25hCollecting alembic>=1.5.0 (from optuna)\n",
            "  Downloading alembic-1.13.1-py3-none-any.whl (233 kB)\n",
            "\u001b[2K     \u001b[90m━━━━━━━━━━━━━━━━━━━━━━━━━━━━━━━━━━━━━━━━\u001b[0m \u001b[32m233.4/233.4 kB\u001b[0m \u001b[31m19.8 MB/s\u001b[0m eta \u001b[36m0:00:00\u001b[0m\n",
            "\u001b[?25hCollecting colorlog (from optuna)\n",
            "  Downloading colorlog-6.8.0-py3-none-any.whl (11 kB)\n",
            "Requirement already satisfied: numpy in /usr/local/lib/python3.10/dist-packages (from optuna) (1.23.5)\n",
            "Requirement already satisfied: packaging>=20.0 in /usr/local/lib/python3.10/dist-packages (from optuna) (23.2)\n",
            "Requirement already satisfied: sqlalchemy>=1.3.0 in /usr/local/lib/python3.10/dist-packages (from optuna) (2.0.24)\n",
            "Requirement already satisfied: tqdm in /usr/local/lib/python3.10/dist-packages (from optuna) (4.66.1)\n",
            "Requirement already satisfied: PyYAML in /usr/local/lib/python3.10/dist-packages (from optuna) (6.0.1)\n",
            "Collecting Mako (from alembic>=1.5.0->optuna)\n",
            "  Downloading Mako-1.3.0-py3-none-any.whl (78 kB)\n",
            "\u001b[2K     \u001b[90m━━━━━━━━━━━━━━━━━━━━━━━━━━━━━━━━━━━━━━━━\u001b[0m \u001b[32m78.6/78.6 kB\u001b[0m \u001b[31m7.8 MB/s\u001b[0m eta \u001b[36m0:00:00\u001b[0m\n",
            "\u001b[?25hRequirement already satisfied: typing-extensions>=4 in /usr/local/lib/python3.10/dist-packages (from alembic>=1.5.0->optuna) (4.5.0)\n",
            "Requirement already satisfied: greenlet!=0.4.17 in /usr/local/lib/python3.10/dist-packages (from sqlalchemy>=1.3.0->optuna) (3.0.3)\n",
            "Requirement already satisfied: MarkupSafe>=0.9.2 in /usr/local/lib/python3.10/dist-packages (from Mako->alembic>=1.5.0->optuna) (2.1.3)\n",
            "Installing collected packages: Mako, colorlog, alembic, optuna\n",
            "Successfully installed Mako-1.3.0 alembic-1.13.1 colorlog-6.8.0 optuna-3.5.0\n",
            "Requirement already satisfied: lightgbm in /usr/local/lib/python3.10/dist-packages (4.1.0)\n",
            "Requirement already satisfied: numpy in /usr/local/lib/python3.10/dist-packages (from lightgbm) (1.23.5)\n",
            "Requirement already satisfied: scipy in /usr/local/lib/python3.10/dist-packages (from lightgbm) (1.11.4)\n"
          ]
        }
      ],
      "source": [
        "!pip install optuna\n",
        "!pip install lightgbm"
      ]
    },
    {
      "cell_type": "code",
      "source": [
        "import os\n",
        "import gc\n",
        "import pickle\n",
        "import time\n",
        "\n",
        "import numpy as np\n",
        "import pandas as pd\n",
        "import polars as pl\n",
        "\n",
        "from sklearn.model_selection import cross_val_score, cross_validate\n",
        "from sklearn.metrics import mean_absolute_error\n",
        "from sklearn.compose import TransformedTargetRegressor\n",
        "from sklearn.ensemble import VotingRegressor\n",
        "\n",
        "from joblib import dump\n",
        "from joblib import load\n",
        "\n",
        "import lightgbm as lgb\n",
        "\n",
        "import optuna\n",
        "import matplotlib.pyplot as plt"
      ],
      "metadata": {
        "id": "KGEauJDgk_Hi"
      },
      "execution_count": null,
      "outputs": []
    },
    {
      "cell_type": "code",
      "source": [
        "def feature_eng(df_data, df_client, df_gas, df_electricity, df_forecast, df_historical, df_location, df_target, working_days):\n",
        "    working_days = (\n",
        "        working_days\n",
        "        .with_columns(\n",
        "            pl.col(\"date\").cast(pl.Date)\n",
        "        )\n",
        "    )\n",
        "\n",
        "    df_data = (\n",
        "        df_data\n",
        "        .with_columns(\n",
        "            pl.col(\"datetime\").cast(pl.Date).alias(\"date\"),\n",
        "        )\n",
        "    )\n",
        "\n",
        "    df_client = (\n",
        "        df_client\n",
        "        .with_columns(\n",
        "            (pl.col(\"date\") + pl.duration(days=2)).cast(pl.Date)\n",
        "        )\n",
        "    )\n",
        "\n",
        "    df_gas = (\n",
        "        df_gas\n",
        "        .rename({\"forecast_date\": \"date\"})\n",
        "        .with_columns(\n",
        "            (pl.col(\"date\") + pl.duration(days=1)).cast(pl.Date)\n",
        "        )\n",
        "    )\n",
        "\n",
        "    df_electricity = (\n",
        "        df_electricity\n",
        "        .rename({\"forecast_date\": \"datetime\"})\n",
        "        .with_columns(\n",
        "            pl.col(\"datetime\") + pl.duration(days=1)\n",
        "        )\n",
        "    )\n",
        "\n",
        "    df_location = (\n",
        "        df_location\n",
        "        .with_columns(\n",
        "            pl.col(\"latitude\").cast(pl.datatypes.Float32),\n",
        "            pl.col(\"longitude\").cast(pl.datatypes.Float32)\n",
        "        )\n",
        "    )\n",
        "\n",
        "    df_forecast = (\n",
        "        df_forecast\n",
        "        .rename({\"forecast_datetime\": \"datetime\"})\n",
        "        .with_columns(\n",
        "            pl.col(\"latitude\").cast(pl.datatypes.Float32),\n",
        "            pl.col(\"longitude\").cast(pl.datatypes.Float32),\n",
        "            #pl.col('datetime').dt.convert_time_zone(\"Europe/Bucharest\").dt.replace_time_zone(None).cast(pl.Datetime(\"us\")),\n",
        "            pl.col('datetime').dt.replace_time_zone(None).cast(pl.Datetime(\"us\"))\n",
        "            #pl.col('datetime').cast(pl.Datetime)\n",
        "        )\n",
        "        .join(df_location, how=\"left\", on=[\"longitude\", \"latitude\"])\n",
        "        .drop(\"longitude\", \"latitude\")\n",
        "    )\n",
        "\n",
        "    df_historical = (\n",
        "        df_historical\n",
        "        .with_columns(\n",
        "            pl.col(\"latitude\").cast(pl.datatypes.Float32),\n",
        "            pl.col(\"longitude\").cast(pl.datatypes.Float32),\n",
        "            pl.col(\"datetime\") + pl.duration(hours=37)\n",
        "        )\n",
        "        .join(df_location, how=\"left\", on=[\"longitude\", \"latitude\"])\n",
        "        .drop(\"longitude\", \"latitude\")\n",
        "    )\n",
        "\n",
        "    df_forecast_date = (\n",
        "        df_forecast\n",
        "        .groupby(\"datetime\").mean()\n",
        "        .drop(\"county\")\n",
        "    )\n",
        "\n",
        "    df_forecast_local = (\n",
        "        df_forecast\n",
        "        .filter(pl.col(\"county\").is_not_null())\n",
        "        .groupby(\"county\", \"datetime\").mean()\n",
        "    )\n",
        "\n",
        "    df_historical_date = (\n",
        "        df_historical\n",
        "        .groupby(\"datetime\").mean()\n",
        "        .drop(\"county\")\n",
        "    )\n",
        "\n",
        "    df_historical_local = (\n",
        "        df_historical\n",
        "        .filter(pl.col(\"county\").is_not_null())\n",
        "        .groupby(\"county\", \"datetime\").mean()\n",
        "    )\n",
        "    df_data = (\n",
        "        df_data\n",
        "        .join(df_gas, on=\"date\", how=\"left\")\n",
        "        .join(df_client, on=[\"county\", \"is_business\", \"product_type\", \"date\"], how=\"left\")\n",
        "        .join(df_electricity, on=\"datetime\", how=\"left\")\n",
        "\n",
        "        .join(df_forecast_date, on=\"datetime\", how=\"left\", suffix=\"_fd\")\n",
        "        .join(df_forecast_local, on=[\"county\", \"datetime\"], how=\"left\", suffix=\"_fl\")\n",
        "        .join(df_historical_date, on=\"datetime\", how=\"left\", suffix=\"_hd\")\n",
        "        .join(df_historical_local, on=[\"county\", \"datetime\"], how=\"left\", suffix=\"_hl\")\n",
        "\n",
        "        .join(df_forecast_date.with_columns(pl.col(\"datetime\") + pl.duration(days=7)), on=\"datetime\", how=\"left\", suffix=\"_fdw\")\n",
        "        .join(df_forecast_local.with_columns(pl.col(\"datetime\") + pl.duration(days=7)), on=[\"county\", \"datetime\"], how=\"left\", suffix=\"_flw\")\n",
        "        .join(df_historical_date.with_columns(pl.col(\"datetime\") + pl.duration(days=7)), on=\"datetime\", how=\"left\", suffix=\"_hdw\")\n",
        "        .join(df_historical_local.with_columns(pl.col(\"datetime\") + pl.duration(days=7)), on=[\"county\", \"datetime\"], how=\"left\", suffix=\"_hlw\")\n",
        "\n",
        "        .join(df_target.with_columns(pl.col(\"datetime\") + pl.duration(days=2)).rename({\"target\": \"target_1\"}), on=[\"county\", \"is_business\", \"product_type\", \"is_consumption\", \"datetime\"], how=\"left\")\n",
        "        .join(df_target.with_columns(pl.col(\"datetime\") + pl.duration(days=3)).rename({\"target\": \"target_2\"}), on=[\"county\", \"is_business\", \"product_type\", \"is_consumption\", \"datetime\"], how=\"left\")\n",
        "        .join(df_target.with_columns(pl.col(\"datetime\") + pl.duration(days=4)).rename({\"target\": \"target_3\"}), on=[\"county\", \"is_business\", \"product_type\", \"is_consumption\", \"datetime\"], how=\"left\")\n",
        "        .join(df_target.with_columns(pl.col(\"datetime\") + pl.duration(days=5)).rename({\"target\": \"target_4\"}), on=[\"county\", \"is_business\", \"product_type\", \"is_consumption\", \"datetime\"], how=\"left\")\n",
        "        .join(df_target.with_columns(pl.col(\"datetime\") + pl.duration(days=6)).rename({\"target\": \"target_5\"}), on=[\"county\", \"is_business\", \"product_type\", \"is_consumption\", \"datetime\"], how=\"left\")\n",
        "        .join(df_target.with_columns(pl.col(\"datetime\") + pl.duration(days=7)).rename({\"target\": \"target_6\"}), on=[\"county\", \"is_business\", \"product_type\", \"is_consumption\", \"datetime\"], how=\"left\")\n",
        "        .join(df_target.with_columns(pl.col(\"datetime\") + pl.duration(days=8)).rename({\"target\": \"target_7\"}), on=[\"county\", \"is_business\", \"product_type\", \"is_consumption\", \"datetime\"], how=\"left\")\n",
        "        .join(df_target.with_columns(pl.col(\"datetime\") + pl.duration(days=9)).rename({\"target\": \"target_8\"}), on=[\"county\", \"is_business\", \"product_type\", \"is_consumption\", \"datetime\"], how=\"left\")\n",
        "        .join(df_target.with_columns(pl.col(\"datetime\") + pl.duration(days=10)).rename({\"target\": \"target_9\"}), on=[\"county\", \"is_business\", \"product_type\", \"is_consumption\", \"datetime\"], how=\"left\")\n",
        "        .join(df_target.with_columns(pl.col(\"datetime\") + pl.duration(days=11)).rename({\"target\": \"target_10\"}), on=[\"county\", \"is_business\", \"product_type\", \"is_consumption\", \"datetime\"], how=\"left\")\n",
        "        .join(df_target.with_columns(pl.col(\"datetime\") + pl.duration(days=12)).rename({\"target\": \"target_11\"}), on=[\"county\", \"is_business\", \"product_type\", \"is_consumption\", \"datetime\"], how=\"left\")\n",
        "        .join(df_target.with_columns(pl.col(\"datetime\") + pl.duration(days=13)).rename({\"target\": \"target_12\"}), on=[\"county\", \"is_business\", \"product_type\", \"is_consumption\", \"datetime\"], how=\"left\")\n",
        "        .join(df_target.with_columns(pl.col(\"datetime\") + pl.duration(days=14)).rename({\"target\": \"target_13\"}), on=[\"county\", \"is_business\", \"product_type\", \"is_consumption\", \"datetime\"], how=\"left\")\n",
        "\n",
        "        .join(working_days, on=\"date\", how=\"left\")\n",
        "        .with_columns(\n",
        "            pl.col(\"datetime\").dt.ordinal_day().alias(\"dayofyear\"),\n",
        "            pl.col(\"datetime\").dt.hour().alias(\"hour\"),\n",
        "            pl.col(\"datetime\").dt.day().alias(\"day\"),\n",
        "            pl.col(\"datetime\").dt.weekday().alias(\"weekday\"),\n",
        "            pl.col(\"datetime\").dt.month().alias(\"month\"),\n",
        "            pl.col(\"datetime\").dt.year().alias(\"year\"),\n",
        "        )\n",
        "        .with_columns(\n",
        "            pl.concat_str(\"county\", \"is_business\", \"product_type\", \"is_consumption\", separator=\"_\").alias(\"category_1\"),\n",
        "        )\n",
        "\n",
        "        .with_columns(\n",
        "            (np.pi * pl.col(\"dayofyear\") / 183).sin().alias(\"sin(dayofyear)\"),\n",
        "            (np.pi * pl.col(\"dayofyear\") / 183).cos().alias(\"cos(dayofyear)\"),\n",
        "            (np.pi * pl.col(\"hour\") / 12).sin().alias(\"sin(hour)\"),\n",
        "            (np.pi * pl.col(\"hour\") / 12).cos().alias(\"cos(hour)\"),\n",
        "        )\n",
        "\n",
        "        .with_columns(\n",
        "            pl.col(pl.Float64).cast(pl.Float32),\n",
        "        )\n",
        "        .drop(\"date\", \"hour\", \"dayofyear\")\n",
        "    )\n",
        "\n",
        "    # return df_data, df_historical_local\n",
        "    return df_data"
      ],
      "metadata": {
        "id": "yA4Icervm5qP"
      },
      "execution_count": null,
      "outputs": []
    },
    {
      "cell_type": "code",
      "source": [
        "def to_pandas(X, y=None):\n",
        "    cat_cols = [\"county\", \"is_business\", \"product_type\", \"is_consumption\", \"category_1\"]\n",
        "\n",
        "    if y is not None:\n",
        "        df = pd.concat([X.to_pandas(), y.to_pandas()], axis=1)\n",
        "    else:\n",
        "        df = X.to_pandas()\n",
        "\n",
        "    df = df.merge(df.groupby(['category_1', 'year', 'month', 'day'])['target_1'].sum().reset_index(),\n",
        "                  on=['category_1', 'year', 'month', 'day'],\n",
        "                  how='left',\n",
        "                  suffixes=['', '_sum'])\n",
        "\n",
        "    df = df.set_index(\"row_id\")\n",
        "    df[cat_cols] = df[cat_cols].astype(\"category\")\n",
        "\n",
        "    df[\"target_mean\"] = df[[f\"target_{i}\" for i in range(1, 7)]].mean(1)\n",
        "    df[\"target_std\"] = df[[f\"target_{i}\" for i in range(1, 7)]].std(1)\n",
        "    df[\"target_ratio\"] = df[\"target_6\"] / (df[\"target_7\"] + 1e-3)\n",
        "\n",
        "    return df"
      ],
      "metadata": {
        "id": "41NGtPFmoLBP"
      },
      "execution_count": null,
      "outputs": []
    },
    {
      "cell_type": "code",
      "source": [
        "root = '/content/drive/My Drive/Kaggle-Enefit'\n",
        "data_cols        = ['target', 'county', 'is_business', 'product_type', 'is_consumption', 'datetime', 'row_id']\n",
        "df_data_cols     = ['county', 'is_business', 'product_type', 'target', 'is_consumption', 'datetime', 'row_id']\n",
        "client_cols      = ['product_type', 'county', 'eic_count', 'installed_capacity', 'is_business', 'date']\n",
        "gas_cols         = ['forecast_date', 'lowest_price_per_mwh', 'highest_price_per_mwh']\n",
        "electricity_cols = ['forecast_date', 'euros_per_mwh']\n",
        "forecast_cols    = ['latitude', 'longitude', 'hours_ahead', 'temperature', 'dewpoint', 'cloudcover_high', 'cloudcover_low', 'cloudcover_mid', 'cloudcover_total', '10_metre_u_wind_component', '10_metre_v_wind_component', 'forecast_datetime', 'direct_solar_radiation', 'surface_solar_radiation_downwards', 'snowfall', 'total_precipitation']\n",
        "historical_cols  = ['datetime', 'temperature', 'dewpoint', 'rain', 'snowfall', 'surface_pressure','cloudcover_total','cloudcover_low','cloudcover_mid','cloudcover_high','windspeed_10m','winddirection_10m','shortwave_radiation','direct_solar_radiation','diffuse_radiation','latitude','longitude']\n",
        "location_cols    = ['longitude', 'latitude', 'county']\n",
        "target_cols      = ['target', 'county', 'is_business', 'product_type', 'is_consumption', 'datetime']\n"
      ],
      "metadata": {
        "id": "3MhCah4RoLuI"
      },
      "execution_count": null,
      "outputs": []
    },
    {
      "cell_type": "code",
      "source": [
        "from google.colab import drive\n",
        "drive.mount('/content/drive')\n"
      ],
      "metadata": {
        "colab": {
          "base_uri": "https://localhost:8080/"
        },
        "id": "mHjsxLaHrDsF",
        "outputId": "f828e543-dd05-4fc5-8fe0-2e46291c40fa"
      },
      "execution_count": null,
      "outputs": [
        {
          "output_type": "stream",
          "name": "stdout",
          "text": [
            "Drive already mounted at /content/drive; to attempt to forcibly remount, call drive.mount(\"/content/drive\", force_remount=True).\n"
          ]
        }
      ]
    },
    {
      "cell_type": "code",
      "source": [
        "%%time\n",
        "df_data        = pl.read_csv(os.path.join(root, \"train.csv\"), columns=data_cols, try_parse_dates=True)\n",
        "df_client      = pl.read_csv(os.path.join(root, \"client.csv\"), columns=client_cols, try_parse_dates=True)\n",
        "df_gas         = pl.read_csv(os.path.join(root, \"gas_prices.csv\"), columns=gas_cols, try_parse_dates=True)\n",
        "df_electricity = pl.read_csv(os.path.join(root, \"electricity_prices.csv\"), columns=electricity_cols, try_parse_dates=True)\n",
        "df_forecast    = pl.read_csv(os.path.join(root, \"forecast_weather.csv\"), columns=forecast_cols, try_parse_dates=True)\n",
        "df_historical  = pl.read_csv(os.path.join(root, \"historical_weather.csv\"), columns=historical_cols, try_parse_dates=True)\n",
        "df_location    = pl.read_csv(os.path.join(root,\"Other-Data/county_lon_lats.csv\"), columns=location_cols, try_parse_dates=True)\n",
        "df_target      = df_data.select(target_cols)\n",
        "working_days   = pl.read_csv(os.path.join(root,'Other-Data/working_days.csv'), try_parse_dates=True)\n",
        "\n",
        "schema_data        = df_data.schema\n",
        "schema_client      = df_client.schema\n",
        "schema_gas         = df_gas.schema\n",
        "schema_electricity = df_electricity.schema\n",
        "schema_forecast    = df_forecast.schema\n",
        "schema_historical  = df_historical.schema\n",
        "schema_target      = df_target.schema"
      ],
      "metadata": {
        "colab": {
          "base_uri": "https://localhost:8080/"
        },
        "id": "kORDpp0dtAhU",
        "outputId": "1dd2386b-1efe-4dd9-8a13-579872284742"
      },
      "execution_count": null,
      "outputs": [
        {
          "output_type": "stream",
          "name": "stdout",
          "text": [
            "CPU times: user 7.73 s, sys: 1.69 s, total: 9.43 s\n",
            "Wall time: 27.7 s\n"
          ]
        }
      ]
    },
    {
      "cell_type": "code",
      "source": [
        "X, y = df_data.drop(\"target\"), df_data.select(\"target\")\n",
        "\n",
        "X = feature_eng(X, df_client, df_gas, df_electricity, df_forecast, df_historical, df_location, df_target, working_days)\n",
        "\n",
        "df_train = to_pandas(X, y)\n",
        "\n",
        "df_train.fillna(-999, inplace=True)"
      ],
      "metadata": {
        "id": "pPDs_jyBwjRx"
      },
      "execution_count": null,
      "outputs": []
    },
    {
      "cell_type": "code",
      "source": [
        "df_train = df_train[df_train[\"target\"].notnull()]\n",
        "df_train"
      ],
      "metadata": {
        "colab": {
          "base_uri": "https://localhost:8080/",
          "height": 822
        },
        "id": "AzfWqgEVyTO9",
        "outputId": "379dc3b6-3edf-48f3-81bb-93399cc8e56d"
      },
      "execution_count": null,
      "outputs": [
        {
          "output_type": "execute_result",
          "data": {
            "text/plain": [
              "        county is_business product_type is_consumption            datetime  \\\n",
              "row_id                                                                       \n",
              "0            0           0            1              0 2021-09-01 00:00:00   \n",
              "1            0           0            1              1 2021-09-01 00:00:00   \n",
              "2            0           0            2              0 2021-09-01 00:00:00   \n",
              "3            0           0            2              1 2021-09-01 00:00:00   \n",
              "4            0           0            3              0 2021-09-01 00:00:00   \n",
              "...        ...         ...          ...            ...                 ...   \n",
              "2018347     15           1            0              1 2023-05-31 23:00:00   \n",
              "2018348     15           1            1              0 2023-05-31 23:00:00   \n",
              "2018349     15           1            1              1 2023-05-31 23:00:00   \n",
              "2018350     15           1            3              0 2023-05-31 23:00:00   \n",
              "2018351     15           1            3              1 2023-05-31 23:00:00   \n",
              "\n",
              "         lowest_price_per_mwh  highest_price_per_mwh  eic_count  \\\n",
              "row_id                                                            \n",
              "0                      -999.0                 -999.0     -999.0   \n",
              "1                      -999.0                 -999.0     -999.0   \n",
              "2                      -999.0                 -999.0     -999.0   \n",
              "3                      -999.0                 -999.0     -999.0   \n",
              "4                      -999.0                 -999.0     -999.0   \n",
              "...                       ...                    ...        ...   \n",
              "2018347                  29.0                   34.0       15.0   \n",
              "2018348                  29.0                   34.0       20.0   \n",
              "2018349                  29.0                   34.0       20.0   \n",
              "2018350                  29.0                   34.0       55.0   \n",
              "2018351                  29.0                   34.0       55.0   \n",
              "\n",
              "         installed_capacity  euros_per_mwh  ...  category_1  sin(dayofyear)  \\\n",
              "row_id                                      ...                               \n",
              "0               -999.000000        -999.00  ...     0_0_1_0       -0.866025   \n",
              "1               -999.000000        -999.00  ...     0_0_1_1       -0.866025   \n",
              "2               -999.000000        -999.00  ...     0_0_2_0       -0.866025   \n",
              "3               -999.000000        -999.00  ...     0_0_2_1       -0.866025   \n",
              "4               -999.000000        -999.00  ...     0_0_3_0       -0.866025   \n",
              "...                     ...            ...  ...         ...             ...   \n",
              "2018347          620.000000          -1.29  ...    15_1_0_1        0.522133   \n",
              "2018348          624.500000          -1.29  ...    15_1_1_0        0.522133   \n",
              "2018349          624.500000          -1.29  ...    15_1_1_1        0.522133   \n",
              "2018350         2188.199951          -1.29  ...    15_1_3_0        0.522133   \n",
              "2018351         2188.199951          -1.29  ...    15_1_3_1        0.522133   \n",
              "\n",
              "         cos(dayofyear)  sin(hour)  cos(hour)   target  target_1_sum  \\\n",
              "row_id                                                                 \n",
              "0             -0.500000   0.000000   1.000000    0.713      0.000000   \n",
              "1             -0.500000   0.000000   1.000000   96.590      0.000000   \n",
              "2             -0.500000   0.000000   1.000000    0.000      0.000000   \n",
              "3             -0.500000   0.000000   1.000000   17.314      0.000000   \n",
              "4             -0.500000   0.000000   1.000000    2.904      0.000000   \n",
              "...                 ...        ...        ...      ...           ...   \n",
              "2018347       -0.852864  -0.258819   0.965926  197.233  11490.608398   \n",
              "2018348       -0.852864  -0.258819   0.965926    0.000   2889.723877   \n",
              "2018349       -0.852864  -0.258819   0.965926   28.404    810.093018   \n",
              "2018350       -0.852864  -0.258819   0.965926    0.000   6876.424805   \n",
              "2018351       -0.852864  -0.258819   0.965926  196.240   7462.889160   \n",
              "\n",
              "         target_mean  target_std  target_ratio  \n",
              "row_id                                          \n",
              "0        -999.000000 -999.000000   -999.000000  \n",
              "1        -999.000000 -999.000000   -999.000000  \n",
              "2        -999.000000 -999.000000   -999.000000  \n",
              "3        -999.000000 -999.000000   -999.000000  \n",
              "4        -999.000000 -999.000000   -999.000000  \n",
              "...              ...         ...           ...  \n",
              "2018347   250.953674  106.506004      2.278837  \n",
              "2018348     0.000000    0.000000      0.000000  \n",
              "2018349    34.342167    2.976434      0.880700  \n",
              "2018350     0.000000    0.000000      0.000000  \n",
              "2018351   182.798508   12.110993      0.873606  \n",
              "\n",
              "[2018352 rows x 146 columns]"
            ],
            "text/html": [
              "\n",
              "  <div id=\"df-67f8d4ff-cec0-4eb4-840f-80ddf98e1513\" class=\"colab-df-container\">\n",
              "    <div>\n",
              "<style scoped>\n",
              "    .dataframe tbody tr th:only-of-type {\n",
              "        vertical-align: middle;\n",
              "    }\n",
              "\n",
              "    .dataframe tbody tr th {\n",
              "        vertical-align: top;\n",
              "    }\n",
              "\n",
              "    .dataframe thead th {\n",
              "        text-align: right;\n",
              "    }\n",
              "</style>\n",
              "<table border=\"1\" class=\"dataframe\">\n",
              "  <thead>\n",
              "    <tr style=\"text-align: right;\">\n",
              "      <th></th>\n",
              "      <th>county</th>\n",
              "      <th>is_business</th>\n",
              "      <th>product_type</th>\n",
              "      <th>is_consumption</th>\n",
              "      <th>datetime</th>\n",
              "      <th>lowest_price_per_mwh</th>\n",
              "      <th>highest_price_per_mwh</th>\n",
              "      <th>eic_count</th>\n",
              "      <th>installed_capacity</th>\n",
              "      <th>euros_per_mwh</th>\n",
              "      <th>...</th>\n",
              "      <th>category_1</th>\n",
              "      <th>sin(dayofyear)</th>\n",
              "      <th>cos(dayofyear)</th>\n",
              "      <th>sin(hour)</th>\n",
              "      <th>cos(hour)</th>\n",
              "      <th>target</th>\n",
              "      <th>target_1_sum</th>\n",
              "      <th>target_mean</th>\n",
              "      <th>target_std</th>\n",
              "      <th>target_ratio</th>\n",
              "    </tr>\n",
              "    <tr>\n",
              "      <th>row_id</th>\n",
              "      <th></th>\n",
              "      <th></th>\n",
              "      <th></th>\n",
              "      <th></th>\n",
              "      <th></th>\n",
              "      <th></th>\n",
              "      <th></th>\n",
              "      <th></th>\n",
              "      <th></th>\n",
              "      <th></th>\n",
              "      <th></th>\n",
              "      <th></th>\n",
              "      <th></th>\n",
              "      <th></th>\n",
              "      <th></th>\n",
              "      <th></th>\n",
              "      <th></th>\n",
              "      <th></th>\n",
              "      <th></th>\n",
              "      <th></th>\n",
              "      <th></th>\n",
              "    </tr>\n",
              "  </thead>\n",
              "  <tbody>\n",
              "    <tr>\n",
              "      <th>0</th>\n",
              "      <td>0</td>\n",
              "      <td>0</td>\n",
              "      <td>1</td>\n",
              "      <td>0</td>\n",
              "      <td>2021-09-01 00:00:00</td>\n",
              "      <td>-999.0</td>\n",
              "      <td>-999.0</td>\n",
              "      <td>-999.0</td>\n",
              "      <td>-999.000000</td>\n",
              "      <td>-999.00</td>\n",
              "      <td>...</td>\n",
              "      <td>0_0_1_0</td>\n",
              "      <td>-0.866025</td>\n",
              "      <td>-0.500000</td>\n",
              "      <td>0.000000</td>\n",
              "      <td>1.000000</td>\n",
              "      <td>0.713</td>\n",
              "      <td>0.000000</td>\n",
              "      <td>-999.000000</td>\n",
              "      <td>-999.000000</td>\n",
              "      <td>-999.000000</td>\n",
              "    </tr>\n",
              "    <tr>\n",
              "      <th>1</th>\n",
              "      <td>0</td>\n",
              "      <td>0</td>\n",
              "      <td>1</td>\n",
              "      <td>1</td>\n",
              "      <td>2021-09-01 00:00:00</td>\n",
              "      <td>-999.0</td>\n",
              "      <td>-999.0</td>\n",
              "      <td>-999.0</td>\n",
              "      <td>-999.000000</td>\n",
              "      <td>-999.00</td>\n",
              "      <td>...</td>\n",
              "      <td>0_0_1_1</td>\n",
              "      <td>-0.866025</td>\n",
              "      <td>-0.500000</td>\n",
              "      <td>0.000000</td>\n",
              "      <td>1.000000</td>\n",
              "      <td>96.590</td>\n",
              "      <td>0.000000</td>\n",
              "      <td>-999.000000</td>\n",
              "      <td>-999.000000</td>\n",
              "      <td>-999.000000</td>\n",
              "    </tr>\n",
              "    <tr>\n",
              "      <th>2</th>\n",
              "      <td>0</td>\n",
              "      <td>0</td>\n",
              "      <td>2</td>\n",
              "      <td>0</td>\n",
              "      <td>2021-09-01 00:00:00</td>\n",
              "      <td>-999.0</td>\n",
              "      <td>-999.0</td>\n",
              "      <td>-999.0</td>\n",
              "      <td>-999.000000</td>\n",
              "      <td>-999.00</td>\n",
              "      <td>...</td>\n",
              "      <td>0_0_2_0</td>\n",
              "      <td>-0.866025</td>\n",
              "      <td>-0.500000</td>\n",
              "      <td>0.000000</td>\n",
              "      <td>1.000000</td>\n",
              "      <td>0.000</td>\n",
              "      <td>0.000000</td>\n",
              "      <td>-999.000000</td>\n",
              "      <td>-999.000000</td>\n",
              "      <td>-999.000000</td>\n",
              "    </tr>\n",
              "    <tr>\n",
              "      <th>3</th>\n",
              "      <td>0</td>\n",
              "      <td>0</td>\n",
              "      <td>2</td>\n",
              "      <td>1</td>\n",
              "      <td>2021-09-01 00:00:00</td>\n",
              "      <td>-999.0</td>\n",
              "      <td>-999.0</td>\n",
              "      <td>-999.0</td>\n",
              "      <td>-999.000000</td>\n",
              "      <td>-999.00</td>\n",
              "      <td>...</td>\n",
              "      <td>0_0_2_1</td>\n",
              "      <td>-0.866025</td>\n",
              "      <td>-0.500000</td>\n",
              "      <td>0.000000</td>\n",
              "      <td>1.000000</td>\n",
              "      <td>17.314</td>\n",
              "      <td>0.000000</td>\n",
              "      <td>-999.000000</td>\n",
              "      <td>-999.000000</td>\n",
              "      <td>-999.000000</td>\n",
              "    </tr>\n",
              "    <tr>\n",
              "      <th>4</th>\n",
              "      <td>0</td>\n",
              "      <td>0</td>\n",
              "      <td>3</td>\n",
              "      <td>0</td>\n",
              "      <td>2021-09-01 00:00:00</td>\n",
              "      <td>-999.0</td>\n",
              "      <td>-999.0</td>\n",
              "      <td>-999.0</td>\n",
              "      <td>-999.000000</td>\n",
              "      <td>-999.00</td>\n",
              "      <td>...</td>\n",
              "      <td>0_0_3_0</td>\n",
              "      <td>-0.866025</td>\n",
              "      <td>-0.500000</td>\n",
              "      <td>0.000000</td>\n",
              "      <td>1.000000</td>\n",
              "      <td>2.904</td>\n",
              "      <td>0.000000</td>\n",
              "      <td>-999.000000</td>\n",
              "      <td>-999.000000</td>\n",
              "      <td>-999.000000</td>\n",
              "    </tr>\n",
              "    <tr>\n",
              "      <th>...</th>\n",
              "      <td>...</td>\n",
              "      <td>...</td>\n",
              "      <td>...</td>\n",
              "      <td>...</td>\n",
              "      <td>...</td>\n",
              "      <td>...</td>\n",
              "      <td>...</td>\n",
              "      <td>...</td>\n",
              "      <td>...</td>\n",
              "      <td>...</td>\n",
              "      <td>...</td>\n",
              "      <td>...</td>\n",
              "      <td>...</td>\n",
              "      <td>...</td>\n",
              "      <td>...</td>\n",
              "      <td>...</td>\n",
              "      <td>...</td>\n",
              "      <td>...</td>\n",
              "      <td>...</td>\n",
              "      <td>...</td>\n",
              "      <td>...</td>\n",
              "    </tr>\n",
              "    <tr>\n",
              "      <th>2018347</th>\n",
              "      <td>15</td>\n",
              "      <td>1</td>\n",
              "      <td>0</td>\n",
              "      <td>1</td>\n",
              "      <td>2023-05-31 23:00:00</td>\n",
              "      <td>29.0</td>\n",
              "      <td>34.0</td>\n",
              "      <td>15.0</td>\n",
              "      <td>620.000000</td>\n",
              "      <td>-1.29</td>\n",
              "      <td>...</td>\n",
              "      <td>15_1_0_1</td>\n",
              "      <td>0.522133</td>\n",
              "      <td>-0.852864</td>\n",
              "      <td>-0.258819</td>\n",
              "      <td>0.965926</td>\n",
              "      <td>197.233</td>\n",
              "      <td>11490.608398</td>\n",
              "      <td>250.953674</td>\n",
              "      <td>106.506004</td>\n",
              "      <td>2.278837</td>\n",
              "    </tr>\n",
              "    <tr>\n",
              "      <th>2018348</th>\n",
              "      <td>15</td>\n",
              "      <td>1</td>\n",
              "      <td>1</td>\n",
              "      <td>0</td>\n",
              "      <td>2023-05-31 23:00:00</td>\n",
              "      <td>29.0</td>\n",
              "      <td>34.0</td>\n",
              "      <td>20.0</td>\n",
              "      <td>624.500000</td>\n",
              "      <td>-1.29</td>\n",
              "      <td>...</td>\n",
              "      <td>15_1_1_0</td>\n",
              "      <td>0.522133</td>\n",
              "      <td>-0.852864</td>\n",
              "      <td>-0.258819</td>\n",
              "      <td>0.965926</td>\n",
              "      <td>0.000</td>\n",
              "      <td>2889.723877</td>\n",
              "      <td>0.000000</td>\n",
              "      <td>0.000000</td>\n",
              "      <td>0.000000</td>\n",
              "    </tr>\n",
              "    <tr>\n",
              "      <th>2018349</th>\n",
              "      <td>15</td>\n",
              "      <td>1</td>\n",
              "      <td>1</td>\n",
              "      <td>1</td>\n",
              "      <td>2023-05-31 23:00:00</td>\n",
              "      <td>29.0</td>\n",
              "      <td>34.0</td>\n",
              "      <td>20.0</td>\n",
              "      <td>624.500000</td>\n",
              "      <td>-1.29</td>\n",
              "      <td>...</td>\n",
              "      <td>15_1_1_1</td>\n",
              "      <td>0.522133</td>\n",
              "      <td>-0.852864</td>\n",
              "      <td>-0.258819</td>\n",
              "      <td>0.965926</td>\n",
              "      <td>28.404</td>\n",
              "      <td>810.093018</td>\n",
              "      <td>34.342167</td>\n",
              "      <td>2.976434</td>\n",
              "      <td>0.880700</td>\n",
              "    </tr>\n",
              "    <tr>\n",
              "      <th>2018350</th>\n",
              "      <td>15</td>\n",
              "      <td>1</td>\n",
              "      <td>3</td>\n",
              "      <td>0</td>\n",
              "      <td>2023-05-31 23:00:00</td>\n",
              "      <td>29.0</td>\n",
              "      <td>34.0</td>\n",
              "      <td>55.0</td>\n",
              "      <td>2188.199951</td>\n",
              "      <td>-1.29</td>\n",
              "      <td>...</td>\n",
              "      <td>15_1_3_0</td>\n",
              "      <td>0.522133</td>\n",
              "      <td>-0.852864</td>\n",
              "      <td>-0.258819</td>\n",
              "      <td>0.965926</td>\n",
              "      <td>0.000</td>\n",
              "      <td>6876.424805</td>\n",
              "      <td>0.000000</td>\n",
              "      <td>0.000000</td>\n",
              "      <td>0.000000</td>\n",
              "    </tr>\n",
              "    <tr>\n",
              "      <th>2018351</th>\n",
              "      <td>15</td>\n",
              "      <td>1</td>\n",
              "      <td>3</td>\n",
              "      <td>1</td>\n",
              "      <td>2023-05-31 23:00:00</td>\n",
              "      <td>29.0</td>\n",
              "      <td>34.0</td>\n",
              "      <td>55.0</td>\n",
              "      <td>2188.199951</td>\n",
              "      <td>-1.29</td>\n",
              "      <td>...</td>\n",
              "      <td>15_1_3_1</td>\n",
              "      <td>0.522133</td>\n",
              "      <td>-0.852864</td>\n",
              "      <td>-0.258819</td>\n",
              "      <td>0.965926</td>\n",
              "      <td>196.240</td>\n",
              "      <td>7462.889160</td>\n",
              "      <td>182.798508</td>\n",
              "      <td>12.110993</td>\n",
              "      <td>0.873606</td>\n",
              "    </tr>\n",
              "  </tbody>\n",
              "</table>\n",
              "<p>2018352 rows × 146 columns</p>\n",
              "</div>\n",
              "    <div class=\"colab-df-buttons\">\n",
              "\n",
              "  <div class=\"colab-df-container\">\n",
              "    <button class=\"colab-df-convert\" onclick=\"convertToInteractive('df-67f8d4ff-cec0-4eb4-840f-80ddf98e1513')\"\n",
              "            title=\"Convert this dataframe to an interactive table.\"\n",
              "            style=\"display:none;\">\n",
              "\n",
              "  <svg xmlns=\"http://www.w3.org/2000/svg\" height=\"24px\" viewBox=\"0 -960 960 960\">\n",
              "    <path d=\"M120-120v-720h720v720H120Zm60-500h600v-160H180v160Zm220 220h160v-160H400v160Zm0 220h160v-160H400v160ZM180-400h160v-160H180v160Zm440 0h160v-160H620v160ZM180-180h160v-160H180v160Zm440 0h160v-160H620v160Z\"/>\n",
              "  </svg>\n",
              "    </button>\n",
              "\n",
              "  <style>\n",
              "    .colab-df-container {\n",
              "      display:flex;\n",
              "      gap: 12px;\n",
              "    }\n",
              "\n",
              "    .colab-df-convert {\n",
              "      background-color: #E8F0FE;\n",
              "      border: none;\n",
              "      border-radius: 50%;\n",
              "      cursor: pointer;\n",
              "      display: none;\n",
              "      fill: #1967D2;\n",
              "      height: 32px;\n",
              "      padding: 0 0 0 0;\n",
              "      width: 32px;\n",
              "    }\n",
              "\n",
              "    .colab-df-convert:hover {\n",
              "      background-color: #E2EBFA;\n",
              "      box-shadow: 0px 1px 2px rgba(60, 64, 67, 0.3), 0px 1px 3px 1px rgba(60, 64, 67, 0.15);\n",
              "      fill: #174EA6;\n",
              "    }\n",
              "\n",
              "    .colab-df-buttons div {\n",
              "      margin-bottom: 4px;\n",
              "    }\n",
              "\n",
              "    [theme=dark] .colab-df-convert {\n",
              "      background-color: #3B4455;\n",
              "      fill: #D2E3FC;\n",
              "    }\n",
              "\n",
              "    [theme=dark] .colab-df-convert:hover {\n",
              "      background-color: #434B5C;\n",
              "      box-shadow: 0px 1px 3px 1px rgba(0, 0, 0, 0.15);\n",
              "      filter: drop-shadow(0px 1px 2px rgba(0, 0, 0, 0.3));\n",
              "      fill: #FFFFFF;\n",
              "    }\n",
              "  </style>\n",
              "\n",
              "    <script>\n",
              "      const buttonEl =\n",
              "        document.querySelector('#df-67f8d4ff-cec0-4eb4-840f-80ddf98e1513 button.colab-df-convert');\n",
              "      buttonEl.style.display =\n",
              "        google.colab.kernel.accessAllowed ? 'block' : 'none';\n",
              "\n",
              "      async function convertToInteractive(key) {\n",
              "        const element = document.querySelector('#df-67f8d4ff-cec0-4eb4-840f-80ddf98e1513');\n",
              "        const dataTable =\n",
              "          await google.colab.kernel.invokeFunction('convertToInteractive',\n",
              "                                                    [key], {});\n",
              "        if (!dataTable) return;\n",
              "\n",
              "        const docLinkHtml = 'Like what you see? Visit the ' +\n",
              "          '<a target=\"_blank\" href=https://colab.research.google.com/notebooks/data_table.ipynb>data table notebook</a>'\n",
              "          + ' to learn more about interactive tables.';\n",
              "        element.innerHTML = '';\n",
              "        dataTable['output_type'] = 'display_data';\n",
              "        await google.colab.output.renderOutput(dataTable, element);\n",
              "        const docLink = document.createElement('div');\n",
              "        docLink.innerHTML = docLinkHtml;\n",
              "        element.appendChild(docLink);\n",
              "      }\n",
              "    </script>\n",
              "  </div>\n",
              "\n",
              "\n",
              "<div id=\"df-7c5d597b-74e9-42ef-89cf-b71960092855\">\n",
              "  <button class=\"colab-df-quickchart\" onclick=\"quickchart('df-7c5d597b-74e9-42ef-89cf-b71960092855')\"\n",
              "            title=\"Suggest charts\"\n",
              "            style=\"display:none;\">\n",
              "\n",
              "<svg xmlns=\"http://www.w3.org/2000/svg\" height=\"24px\"viewBox=\"0 0 24 24\"\n",
              "     width=\"24px\">\n",
              "    <g>\n",
              "        <path d=\"M19 3H5c-1.1 0-2 .9-2 2v14c0 1.1.9 2 2 2h14c1.1 0 2-.9 2-2V5c0-1.1-.9-2-2-2zM9 17H7v-7h2v7zm4 0h-2V7h2v10zm4 0h-2v-4h2v4z\"/>\n",
              "    </g>\n",
              "</svg>\n",
              "  </button>\n",
              "\n",
              "<style>\n",
              "  .colab-df-quickchart {\n",
              "      --bg-color: #E8F0FE;\n",
              "      --fill-color: #1967D2;\n",
              "      --hover-bg-color: #E2EBFA;\n",
              "      --hover-fill-color: #174EA6;\n",
              "      --disabled-fill-color: #AAA;\n",
              "      --disabled-bg-color: #DDD;\n",
              "  }\n",
              "\n",
              "  [theme=dark] .colab-df-quickchart {\n",
              "      --bg-color: #3B4455;\n",
              "      --fill-color: #D2E3FC;\n",
              "      --hover-bg-color: #434B5C;\n",
              "      --hover-fill-color: #FFFFFF;\n",
              "      --disabled-bg-color: #3B4455;\n",
              "      --disabled-fill-color: #666;\n",
              "  }\n",
              "\n",
              "  .colab-df-quickchart {\n",
              "    background-color: var(--bg-color);\n",
              "    border: none;\n",
              "    border-radius: 50%;\n",
              "    cursor: pointer;\n",
              "    display: none;\n",
              "    fill: var(--fill-color);\n",
              "    height: 32px;\n",
              "    padding: 0;\n",
              "    width: 32px;\n",
              "  }\n",
              "\n",
              "  .colab-df-quickchart:hover {\n",
              "    background-color: var(--hover-bg-color);\n",
              "    box-shadow: 0 1px 2px rgba(60, 64, 67, 0.3), 0 1px 3px 1px rgba(60, 64, 67, 0.15);\n",
              "    fill: var(--button-hover-fill-color);\n",
              "  }\n",
              "\n",
              "  .colab-df-quickchart-complete:disabled,\n",
              "  .colab-df-quickchart-complete:disabled:hover {\n",
              "    background-color: var(--disabled-bg-color);\n",
              "    fill: var(--disabled-fill-color);\n",
              "    box-shadow: none;\n",
              "  }\n",
              "\n",
              "  .colab-df-spinner {\n",
              "    border: 2px solid var(--fill-color);\n",
              "    border-color: transparent;\n",
              "    border-bottom-color: var(--fill-color);\n",
              "    animation:\n",
              "      spin 1s steps(1) infinite;\n",
              "  }\n",
              "\n",
              "  @keyframes spin {\n",
              "    0% {\n",
              "      border-color: transparent;\n",
              "      border-bottom-color: var(--fill-color);\n",
              "      border-left-color: var(--fill-color);\n",
              "    }\n",
              "    20% {\n",
              "      border-color: transparent;\n",
              "      border-left-color: var(--fill-color);\n",
              "      border-top-color: var(--fill-color);\n",
              "    }\n",
              "    30% {\n",
              "      border-color: transparent;\n",
              "      border-left-color: var(--fill-color);\n",
              "      border-top-color: var(--fill-color);\n",
              "      border-right-color: var(--fill-color);\n",
              "    }\n",
              "    40% {\n",
              "      border-color: transparent;\n",
              "      border-right-color: var(--fill-color);\n",
              "      border-top-color: var(--fill-color);\n",
              "    }\n",
              "    60% {\n",
              "      border-color: transparent;\n",
              "      border-right-color: var(--fill-color);\n",
              "    }\n",
              "    80% {\n",
              "      border-color: transparent;\n",
              "      border-right-color: var(--fill-color);\n",
              "      border-bottom-color: var(--fill-color);\n",
              "    }\n",
              "    90% {\n",
              "      border-color: transparent;\n",
              "      border-bottom-color: var(--fill-color);\n",
              "    }\n",
              "  }\n",
              "</style>\n",
              "\n",
              "  <script>\n",
              "    async function quickchart(key) {\n",
              "      const quickchartButtonEl =\n",
              "        document.querySelector('#' + key + ' button');\n",
              "      quickchartButtonEl.disabled = true;  // To prevent multiple clicks.\n",
              "      quickchartButtonEl.classList.add('colab-df-spinner');\n",
              "      try {\n",
              "        const charts = await google.colab.kernel.invokeFunction(\n",
              "            'suggestCharts', [key], {});\n",
              "      } catch (error) {\n",
              "        console.error('Error during call to suggestCharts:', error);\n",
              "      }\n",
              "      quickchartButtonEl.classList.remove('colab-df-spinner');\n",
              "      quickchartButtonEl.classList.add('colab-df-quickchart-complete');\n",
              "    }\n",
              "    (() => {\n",
              "      let quickchartButtonEl =\n",
              "        document.querySelector('#df-7c5d597b-74e9-42ef-89cf-b71960092855 button');\n",
              "      quickchartButtonEl.style.display =\n",
              "        google.colab.kernel.accessAllowed ? 'block' : 'none';\n",
              "    })();\n",
              "  </script>\n",
              "</div>\n",
              "\n",
              "  <div id=\"id_4f6a56c7-1e40-4c2f-84fc-d2e78a49ecf6\">\n",
              "    <style>\n",
              "      .colab-df-generate {\n",
              "        background-color: #E8F0FE;\n",
              "        border: none;\n",
              "        border-radius: 50%;\n",
              "        cursor: pointer;\n",
              "        display: none;\n",
              "        fill: #1967D2;\n",
              "        height: 32px;\n",
              "        padding: 0 0 0 0;\n",
              "        width: 32px;\n",
              "      }\n",
              "\n",
              "      .colab-df-generate:hover {\n",
              "        background-color: #E2EBFA;\n",
              "        box-shadow: 0px 1px 2px rgba(60, 64, 67, 0.3), 0px 1px 3px 1px rgba(60, 64, 67, 0.15);\n",
              "        fill: #174EA6;\n",
              "      }\n",
              "\n",
              "      [theme=dark] .colab-df-generate {\n",
              "        background-color: #3B4455;\n",
              "        fill: #D2E3FC;\n",
              "      }\n",
              "\n",
              "      [theme=dark] .colab-df-generate:hover {\n",
              "        background-color: #434B5C;\n",
              "        box-shadow: 0px 1px 3px 1px rgba(0, 0, 0, 0.15);\n",
              "        filter: drop-shadow(0px 1px 2px rgba(0, 0, 0, 0.3));\n",
              "        fill: #FFFFFF;\n",
              "      }\n",
              "    </style>\n",
              "    <button class=\"colab-df-generate\" onclick=\"generateWithVariable('df_train')\"\n",
              "            title=\"Generate code using this dataframe.\"\n",
              "            style=\"display:none;\">\n",
              "\n",
              "  <svg xmlns=\"http://www.w3.org/2000/svg\" height=\"24px\"viewBox=\"0 0 24 24\"\n",
              "       width=\"24px\">\n",
              "    <path d=\"M7,19H8.4L18.45,9,17,7.55,7,17.6ZM5,21V16.75L18.45,3.32a2,2,0,0,1,2.83,0l1.4,1.43a1.91,1.91,0,0,1,.58,1.4,1.91,1.91,0,0,1-.58,1.4L9.25,21ZM18.45,9,17,7.55Zm-12,3A5.31,5.31,0,0,0,4.9,8.1,5.31,5.31,0,0,0,1,6.5,5.31,5.31,0,0,0,4.9,4.9,5.31,5.31,0,0,0,6.5,1,5.31,5.31,0,0,0,8.1,4.9,5.31,5.31,0,0,0,12,6.5,5.46,5.46,0,0,0,6.5,12Z\"/>\n",
              "  </svg>\n",
              "    </button>\n",
              "    <script>\n",
              "      (() => {\n",
              "      const buttonEl =\n",
              "        document.querySelector('#id_4f6a56c7-1e40-4c2f-84fc-d2e78a49ecf6 button.colab-df-generate');\n",
              "      buttonEl.style.display =\n",
              "        google.colab.kernel.accessAllowed ? 'block' : 'none';\n",
              "\n",
              "      buttonEl.onclick = () => {\n",
              "        google.colab.notebook.generateWithVariable('df_train');\n",
              "      }\n",
              "      })();\n",
              "    </script>\n",
              "  </div>\n",
              "\n",
              "    </div>\n",
              "  </div>\n"
            ]
          },
          "metadata": {},
          "execution_count": 9
        }
      ]
    },
    {
      "cell_type": "code",
      "source": [
        "null_value_stats = df_train.isnull().sum(axis=0)\n",
        "null_value_stats[null_value_stats != 0]\n",
        "print(df_train.dtypes)"
      ],
      "metadata": {
        "colab": {
          "base_uri": "https://localhost:8080/"
        },
        "id": "JF8kN2peO-0a",
        "outputId": "7e17e9fc-5d57-4861-9db0-0f67f80ac15f"
      },
      "execution_count": null,
      "outputs": [
        {
          "output_type": "stream",
          "name": "stdout",
          "text": [
            "county                  category\n",
            "is_business             category\n",
            "product_type            category\n",
            "is_consumption          category\n",
            "datetime          datetime64[ns]\n",
            "                       ...      \n",
            "target                   float64\n",
            "target_1_sum             float32\n",
            "target_mean              float32\n",
            "target_std               float32\n",
            "target_ratio             float32\n",
            "Length: 146, dtype: object\n"
          ]
        }
      ]
    },
    {
      "cell_type": "code",
      "source": [
        "!pip install catboost\n",
        "from catboost import CatBoostRegressor, Pool, metrics, cv\n",
        "from sklearn.metrics import accuracy_score\n",
        "from sklearn.model_selection import train_test_split"
      ],
      "metadata": {
        "colab": {
          "base_uri": "https://localhost:8080/"
        },
        "id": "N0Jxz_KdKaMb",
        "outputId": "68e7650d-a769-4fc6-e9a1-7c4a410f7853"
      },
      "execution_count": null,
      "outputs": [
        {
          "output_type": "stream",
          "name": "stdout",
          "text": [
            "Collecting catboost\n",
            "  Downloading catboost-1.2.2-cp310-cp310-manylinux2014_x86_64.whl (98.7 MB)\n",
            "\u001b[2K     \u001b[90m━━━━━━━━━━━━━━━━━━━━━━━━━━━━━━━━━━━━━━━━\u001b[0m \u001b[32m98.7/98.7 MB\u001b[0m \u001b[31m16.7 MB/s\u001b[0m eta \u001b[36m0:00:00\u001b[0m\n",
            "\u001b[?25hRequirement already satisfied: graphviz in /usr/local/lib/python3.10/dist-packages (from catboost) (0.20.1)\n",
            "Requirement already satisfied: matplotlib in /usr/local/lib/python3.10/dist-packages (from catboost) (3.7.1)\n",
            "Requirement already satisfied: numpy>=1.16.0 in /usr/local/lib/python3.10/dist-packages (from catboost) (1.23.5)\n",
            "Requirement already satisfied: pandas>=0.24 in /usr/local/lib/python3.10/dist-packages (from catboost) (1.5.3)\n",
            "Requirement already satisfied: scipy in /usr/local/lib/python3.10/dist-packages (from catboost) (1.11.4)\n",
            "Requirement already satisfied: plotly in /usr/local/lib/python3.10/dist-packages (from catboost) (5.15.0)\n",
            "Requirement already satisfied: six in /usr/local/lib/python3.10/dist-packages (from catboost) (1.16.0)\n",
            "Requirement already satisfied: python-dateutil>=2.8.1 in /usr/local/lib/python3.10/dist-packages (from pandas>=0.24->catboost) (2.8.2)\n",
            "Requirement already satisfied: pytz>=2020.1 in /usr/local/lib/python3.10/dist-packages (from pandas>=0.24->catboost) (2023.3.post1)\n",
            "Requirement already satisfied: contourpy>=1.0.1 in /usr/local/lib/python3.10/dist-packages (from matplotlib->catboost) (1.2.0)\n",
            "Requirement already satisfied: cycler>=0.10 in /usr/local/lib/python3.10/dist-packages (from matplotlib->catboost) (0.12.1)\n",
            "Requirement already satisfied: fonttools>=4.22.0 in /usr/local/lib/python3.10/dist-packages (from matplotlib->catboost) (4.47.0)\n",
            "Requirement already satisfied: kiwisolver>=1.0.1 in /usr/local/lib/python3.10/dist-packages (from matplotlib->catboost) (1.4.5)\n",
            "Requirement already satisfied: packaging>=20.0 in /usr/local/lib/python3.10/dist-packages (from matplotlib->catboost) (23.2)\n",
            "Requirement already satisfied: pillow>=6.2.0 in /usr/local/lib/python3.10/dist-packages (from matplotlib->catboost) (9.4.0)\n",
            "Requirement already satisfied: pyparsing>=2.3.1 in /usr/local/lib/python3.10/dist-packages (from matplotlib->catboost) (3.1.1)\n",
            "Requirement already satisfied: tenacity>=6.2.0 in /usr/local/lib/python3.10/dist-packages (from plotly->catboost) (8.2.3)\n",
            "Installing collected packages: catboost\n",
            "Successfully installed catboost-1.2.2\n"
          ]
        }
      ]
    },
    {
      "cell_type": "code",
      "source": [
        "model = CatBoostRegressor(\n",
        "    task_type='GPU',\n",
        "    iterations=1000,\n",
        "    learning_rate=0.1,\n",
        "    depth=10,\n",
        "    random_seed=42,\n",
        "    logging_level='Silent'\n",
        ")"
      ],
      "metadata": {
        "id": "ue78omU3Zc9o"
      },
      "execution_count": null,
      "outputs": []
    },
    {
      "cell_type": "code",
      "source": [
        "X = df_train.drop(['target', 'datetime'], axis=1)\n",
        "y = df_train['target']\n",
        "batch_size = 2018350\n",
        "num_batches = len(X) // batch_size\n",
        "# X_train, X_validation, y_train, y_validation = train_test_split(X, y, train_size=0.75, random_state=42)\n",
        "\n",
        "categorical_features_indices = [ 'county', 'is_business','product_type','is_consumption','category_1']\n",
        "#,'hours_ahead','hours_ahead_fl','hours_ahead_fdw','hours_ahead_flw','is_working','day','weekday','month','year','category_1']\n",
        "# for i in range(1):\n",
        "#   start_idx = i * batch_size\n",
        "#   end_idx = start_idx + batch_size\n",
        "#   X_batch = X.iloc[start_idx:end_idx]\n",
        "#   y_batch = y.iloc[start_idx:end_idx]\n",
        "#   X_train, X_validation, y_train, y_validation = train_test_split(X_batch, y_batch, train_size=0.8, random_state=42)\n",
        "\n",
        "#   model.fit(\n",
        "#     X_train, y_train,\n",
        "#     cat_features=categorical_features_indices,\n",
        "#     eval_set=(X_validation, y_validation),\n",
        "#     plot=True\n",
        "#   )\n",
        "\n",
        "#   # model.fit(train_pool, plot=True, eval_set=val_pool, verbose=500)\n",
        "# for i in range(2):\n",
        "i=0\n",
        "start_idx = i * batch_size\n",
        "end_idx = start_idx + batch_size\n",
        "X_batch = X.iloc[start_idx:end_idx]\n",
        "y_batch = y.iloc[start_idx:end_idx]\n",
        "X_train, X_validation, y_train, y_validation = train_test_split(X_batch, y_batch, train_size=0.8, random_state=42)\n",
        "\n",
        "model.fit(\n",
        "    X_train, y_train,\n",
        "    cat_features=categorical_features_indices,\n",
        "    eval_set=(X_validation, y_validation),\n",
        "    plot=True,\n",
        "        # init_model=model if i > 0 else None\n",
        ")\n"
      ],
      "metadata": {
        "colab": {
          "base_uri": "https://localhost:8080/",
          "height": 35,
          "referenced_widgets": [
            "b7fce535e17843c98dbe3decafaca8bf"
          ]
        },
        "id": "4FYD3faMZtO_",
        "outputId": "010411df-308e-48da-b5b1-c6e20b37b7b8"
      },
      "execution_count": null,
      "outputs": [
        {
          "output_type": "display_data",
          "data": {
            "text/plain": [
              "MetricVisualizer(layout=Layout(align_self='stretch', height='500px'))"
            ],
            "application/vnd.jupyter.widget-view+json": {
              "version_major": 2,
              "version_minor": 0,
              "model_id": "b7fce535e17843c98dbe3decafaca8bf"
            }
          },
          "metadata": {}
        },
        {
          "output_type": "execute_result",
          "data": {
            "text/plain": [
              "<catboost.core.CatBoostRegressor at 0x7f2da9e37b20>"
            ]
          },
          "metadata": {},
          "execution_count": 27
        }
      ]
    },
    {
      "cell_type": "code",
      "source": [
        "mean_absolute_error(df_train['target'], model.predict(df_train.drop(['target', 'datetime'], axis=1)))"
      ],
      "metadata": {
        "colab": {
          "base_uri": "https://localhost:8080/"
        },
        "id": "hrOL-j9JhQps",
        "outputId": "6dc1fca6-ad8a-4c10-c105-bab232bf23b9"
      },
      "execution_count": null,
      "outputs": [
        {
          "output_type": "execute_result",
          "data": {
            "text/plain": [
              "25.177782905625307"
            ]
          },
          "metadata": {},
          "execution_count": 66
        }
      ]
    },
    {
      "cell_type": "code",
      "source": [
        "import enefit\n",
        "\n",
        "env = enefit.make_env()\n",
        "iter_test = env.iter_test()"
      ],
      "metadata": {
        "colab": {
          "base_uri": "https://localhost:8080/",
          "height": 274
        },
        "id": "PtW29fy5kFWV",
        "outputId": "7566b247-8696-4ebd-c61f-0be1019ef259"
      },
      "execution_count": null,
      "outputs": [
        {
          "output_type": "error",
          "ename": "Exception",
          "evalue": "You can only call `make_env()` once.",
          "traceback": [
            "\u001b[0;31m---------------------------------------------------------------------------\u001b[0m",
            "\u001b[0;31mException\u001b[0m                                 Traceback (most recent call last)",
            "\u001b[0;32m<ipython-input-63-4d513d57147b>\u001b[0m in \u001b[0;36m<cell line: 3>\u001b[0;34m()\u001b[0m\n\u001b[1;32m      1\u001b[0m \u001b[0;32mimport\u001b[0m \u001b[0menefit\u001b[0m\u001b[0;34m\u001b[0m\u001b[0;34m\u001b[0m\u001b[0m\n\u001b[1;32m      2\u001b[0m \u001b[0;34m\u001b[0m\u001b[0m\n\u001b[0;32m----> 3\u001b[0;31m \u001b[0menv\u001b[0m \u001b[0;34m=\u001b[0m \u001b[0menefit\u001b[0m\u001b[0;34m.\u001b[0m\u001b[0mmake_env\u001b[0m\u001b[0;34m(\u001b[0m\u001b[0;34m)\u001b[0m\u001b[0;34m\u001b[0m\u001b[0;34m\u001b[0m\u001b[0m\n\u001b[0m\u001b[1;32m      4\u001b[0m \u001b[0miter_test\u001b[0m \u001b[0;34m=\u001b[0m \u001b[0menv\u001b[0m\u001b[0;34m.\u001b[0m\u001b[0miter_test\u001b[0m\u001b[0;34m(\u001b[0m\u001b[0;34m)\u001b[0m\u001b[0;34m\u001b[0m\u001b[0;34m\u001b[0m\u001b[0m\n",
            "\u001b[0;32m/content/drive/MyDrive/Kaggle-Enefit/enefit/competition.cpython-310-x86_64-linux-gnu.so\u001b[0m in \u001b[0;36menefit.competition.make_env\u001b[0;34m()\u001b[0m\n",
            "\u001b[0;31mException\u001b[0m: You can only call `make_env()` once."
          ]
        }
      ]
    },
    {
      "cell_type": "code",
      "source": [
        "for (test, revealed_targets, client, historical_weather,\n",
        "        forecast_weather, electricity_prices, gas_prices, sample_prediction) in iter_test:\n",
        "    test = test.rename(columns={\"prediction_datetime\": \"datetime\"})\n",
        "\n",
        "    df_test            = pl.from_pandas(test[data_cols[1:]], schema_overrides=schema_data)\n",
        "    df_new_client      = pl.from_pandas(client[client_cols], schema_overrides=schema_client)\n",
        "    df_new_gas         = pl.from_pandas(gas_prices[gas_cols], schema_overrides=schema_gas)\n",
        "    df_new_electricity = pl.from_pandas(electricity_prices[electricity_cols], schema_overrides=schema_electricity)\n",
        "    df_new_forecast    = pl.from_pandas(forecast_weather[forecast_cols], schema_overrides=schema_forecast)\n",
        "    df_new_historical  = pl.from_pandas(historical_weather[historical_cols], schema_overrides=schema_historical)\n",
        "    df_new_target      = pl.from_pandas(revealed_targets[target_cols], schema_overrides=schema_target)\n",
        "    df_new_data        = pl.from_pandas(revealed_targets[df_data_cols], schema_overrides=schema_data)\n",
        "    df_client          = pl.concat([df_client, df_new_client]).unique(subset=[\"county\", \"is_business\", \"product_type\", \"date\"], maintain_order=True)\n",
        "    df_gas             = pl.concat([df_gas, df_new_gas]).unique(subset=[\"forecast_date\"], maintain_order=True)\n",
        "    df_electricity     = pl.concat([df_electricity, df_new_electricity]).unique(subset=[\"forecast_date\"], maintain_order=True)\n",
        "    df_forecast        = pl.concat([df_forecast, df_new_forecast]).unique()\n",
        "    df_historical      = pl.concat([df_historical, df_new_historical]).unique()\n",
        "    df_target          = pl.concat([df_target, df_new_target]).unique()\n",
        "    df_data            = pl.concat([df_data, df_new_data]).unique()\n",
        "\n",
        "    X_test = feature_eng(df_test, df_client, df_gas, df_electricity, df_forecast, df_historical, df_location, df_target, working_days)\n",
        "    X_test = to_pandas(X_test)\n",
        "\n",
        "    sample_prediction[\"target\"] = model.predict(X_test.drop('datetime', axis=1))\n",
        "    env.predict(sample_prediction)"
      ],
      "metadata": {
        "id": "0QkdSFON-ZL_"
      },
      "execution_count": null,
      "outputs": []
    }
  ]
}